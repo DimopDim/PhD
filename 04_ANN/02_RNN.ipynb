{
 "cells": [
  {
   "cell_type": "code",
   "execution_count": 5,
   "id": "6754cd06-f12e-4548-b461-5bf2d8ba7bd4",
   "metadata": {},
   "outputs": [],
   "source": [
    "import torch\n",
    "import torch.nn as nn\n",
    "from torch.utils.data import DataLoader, TensorDataset\n",
    "import logging\n",
    "import h5py # Save - Load 3D tensor"
   ]
  },
  {
   "cell_type": "code",
   "execution_count": 2,
   "id": "c99fbcd6-5e7e-480e-8cd7-5261b46ef4cb",
   "metadata": {},
   "outputs": [],
   "source": [
    "# Set up logging\n",
    "logging.basicConfig(\n",
    "    level=logging.INFO,\n",
    "    format='%(asctime)s - %(levelname)s - %(message)s',\n",
    "    handlers=[\n",
    "        logging.FileHandler(\"data_loading.log\"),\n",
    "        logging.StreamHandler()\n",
    "    ]\n",
    ")"
   ]
  },
  {
   "cell_type": "code",
   "execution_count": 7,
   "id": "8cc0e25c-c96d-41c1-a831-67c7ef1c2b17",
   "metadata": {},
   "outputs": [
    {
     "name": "stderr",
     "output_type": "stream",
     "text": [
      "2024-12-16 23:50:28,751 - INFO - Loading...\n",
      "2024-12-16 23:50:33,683 - INFO - Train: (122496, 346, 4), Los Label: (122496, 1), Mortality Label: (122496, 1)\n",
      "2024-12-16 23:50:33,684 - INFO - Validate: (15312, 346, 4), Los Label: (15312, 1), Mortality Label: (15312, 1)\n",
      "2024-12-16 23:50:33,685 - INFO - Test: (15312, 346, 4), Los Label: (15312, 1), Mortality Label: (15312, 1)\n",
      "2024-12-16 23:50:33,688 - INFO - External: (234720, 346, 4), Los Label: (234720, 1), Mortality Label: (234720, 1)\n"
     ]
    }
   ],
   "source": [
    "# Load tensors from the HDF5 file\n",
    "load_path = 'CSV/exports/tensors/o1_3D_four_dataframe.h5'\n",
    "\n",
    "logging.info(f\"Loading...\")\n",
    "with h5py.File(load_path, 'r') as hf:\n",
    "    train_tensor = hf['train_tensor'][:]\n",
    "    validate_tensor = hf['validate_tensor'][:]\n",
    "    test_tensor = hf['test_tensor'][:]\n",
    "    external_tensor = hf['external_tensor'][:]\n",
    "    # los\n",
    "    train_los_label = hf['train_los_label'][:]\n",
    "    validate_los_label = hf['validate_los_label'][:]\n",
    "    test_los_label = hf['test_los_label'][:]\n",
    "    external_los_label = hf['external_los_label'][:]\n",
    "    # mortality\n",
    "    train_mortality_label = hf['train_mortality_label'][:]\n",
    "    validate_mortality_label = hf['validate_mortality_label'][:]\n",
    "    test_mortality_label = hf['test_mortality_label'][:]\n",
    "    external_mortality_label = hf['external_mortality_label'][:]\n",
    "\n",
    "logging.info(f\"Train: {train_tensor.shape}, Los Label: {train_los_label.shape}, Mortality Label: {train_mortality_label.shape}\")\n",
    "logging.info(f\"Validate: {validate_tensor.shape}, Los Label: {validate_los_label.shape}, Mortality Label: {validate_mortality_label.shape}\")\n",
    "logging.info(f\"Test: {test_tensor.shape}, Los Label: {test_los_label.shape}, Mortality Label: {test_mortality_label.shape}\")\n",
    "logging.info(f\"External: {external_tensor.shape}, Los Label: {external_los_label.shape}, Mortality Label: {external_mortality_label.shape}\")"
   ]
  },
  {
   "cell_type": "code",
   "execution_count": 3,
   "id": "b108afd5-72de-4f89-bf28-d167de796761",
   "metadata": {},
   "outputs": [],
   "source": [
    "class RNNModel(nn.Module):\n",
    "    def __init__(self, input_size, hidden_size, num_layers, output_size, dropout=0.2):\n",
    "        super(RNNModel, self).__init__()\n",
    "        self.hidden_size = hidden_size\n",
    "        self.num_layers = num_layers\n",
    "        \n",
    "        # RNN layer\n",
    "        self.rnn = nn.LSTM(input_size, hidden_size, num_layers, batch_first=True, dropout=dropout)\n",
    "        \n",
    "        # Fully connected layer for output\n",
    "        self.fc = nn.Linear(hidden_size, output_size)\n",
    "\n",
    "    def forward(self, x):\n",
    "        # Initialize hidden and cell states (h0 and c0)\n",
    "        h0 = torch.zeros(self.num_layers, x.size(0), self.hidden_size).to(x.device)\n",
    "        c0 = torch.zeros(self.num_layers, x.size(0), self.hidden_size).to(x.device)\n",
    "        \n",
    "        # Forward propagate the RNN\n",
    "        out, _ = self.rnn(x, (h0, c0))  # Output shape: (batch_size, time_steps, hidden_size)\n",
    "        \n",
    "        # Take the output of the last time step\n",
    "        out = out[:, -1, :]  # Shape: (batch_size, hidden_size)\n",
    "        \n",
    "        # Pass through the fully connected layer\n",
    "        out = self.fc(out)  # Shape: (batch_size, output_size)\n",
    "        return out"
   ]
  },
  {
   "cell_type": "code",
   "execution_count": 8,
   "id": "307b5a5b-a401-4d04-b786-bf5a72afa70e",
   "metadata": {},
   "outputs": [],
   "source": [
    "# Load data (example with your pre-loaded tensors)\n",
    "X_train = torch.tensor(train_tensor, dtype=torch.float32)\n",
    "y_train = torch.tensor(train_los_label, dtype=torch.float32)\n",
    "\n",
    "X_validate = torch.tensor(validate_tensor, dtype=torch.float32)\n",
    "y_validate = torch.tensor(validate_los_label, dtype=torch.float32)\n",
    "\n",
    "# Create TensorDatasets\n",
    "train_dataset = TensorDataset(X_train, y_train)\n",
    "validate_dataset = TensorDataset(X_validate, y_validate)\n",
    "\n",
    "# Create DataLoaders\n",
    "batch_size = 16\n",
    "train_loader = DataLoader(train_dataset, batch_size=batch_size, shuffle=True)\n",
    "validate_loader = DataLoader(validate_dataset, batch_size=batch_size, shuffle=False)"
   ]
  },
  {
   "cell_type": "code",
   "execution_count": 9,
   "id": "28aa4b42-51d9-4554-a4bd-a3a87b3bebb2",
   "metadata": {},
   "outputs": [],
   "source": [
    "# Model parameters\n",
    "input_size = X_train.shape[2]  # Number of features\n",
    "hidden_size = 64  # Number of hidden units\n",
    "num_layers = 2    # Number of RNN layers\n",
    "output_size = 1   # Predicting LOS as a single output\n",
    "\n",
    "model = RNNModel(input_size, hidden_size, num_layers, output_size)\n",
    "\n",
    "# Define loss function and optimizer\n",
    "criterion = nn.MSELoss()  # Mean Squared Error\n",
    "optimizer = torch.optim.Adam(model.parameters(), lr=0.001)"
   ]
  },
  {
   "cell_type": "code",
   "execution_count": null,
   "id": "62ca604b-ae28-4ea7-866d-80860176e772",
   "metadata": {},
   "outputs": [
    {
     "name": "stderr",
     "output_type": "stream",
     "text": [
      "2024-12-16 23:54:03,430 - INFO - Training RNN for 50 epochs with batch size 16.\n"
     ]
    }
   ],
   "source": [
    "# Early stopping parameters\n",
    "patience = 5\n",
    "min_delta = 0.001\n",
    "best_val_loss = float('inf')\n",
    "patience_counter = 0\n",
    "early_stop = False\n",
    "\n",
    "# Training loop\n",
    "epochs = 50\n",
    "logging.info(f\"Training RNN for {epochs} epochs with batch size {batch_size}.\")\n",
    "\n",
    "for epoch in range(epochs):\n",
    "    if early_stop:\n",
    "        logging.info(f\"Early stopping triggered at epoch {epoch}.\")\n",
    "        break\n",
    "\n",
    "    # Training phase\n",
    "    model.train()\n",
    "    train_loss = 0.0\n",
    "    for X_batch, y_batch in train_loader:\n",
    "        optimizer.zero_grad()\n",
    "        predictions = model(X_batch)\n",
    "        loss = criterion(predictions, y_batch.unsqueeze(1).squeeze(-1))\n",
    "        loss.backward()\n",
    "        optimizer.step()\n",
    "        train_loss += loss.item()\n",
    "    train_loss /= len(train_loader)\n",
    "\n",
    "    # Validation phase\n",
    "    model.eval()\n",
    "    val_loss = 0.0\n",
    "    with torch.no_grad():\n",
    "        for X_val_batch, y_val_batch in validate_loader:\n",
    "            val_predictions = model(X_val_batch)\n",
    "            val_loss += criterion(val_predictions, y_val_batch.unsqueeze(1).squeeze(-1)).item()\n",
    "    val_loss /= len(validate_loader)\n",
    "\n",
    "    # Early stopping logic\n",
    "    if best_val_loss - val_loss > min_delta:\n",
    "        best_val_loss = val_loss\n",
    "        patience_counter = 0\n",
    "    else:\n",
    "        patience_counter += 1\n",
    "        if patience_counter >= patience:\n",
    "            early_stop = True\n",
    "\n",
    "    # Logging progress\n",
    "    logging.info(f\"Epoch {epoch+1}/{epochs}, Train Loss: {train_loss:.4f}, Validation Loss: {val_loss:.4f}\")"
   ]
  },
  {
   "cell_type": "code",
   "execution_count": null,
   "id": "a5fdca8c-6ccd-4add-ba20-5d884052b772",
   "metadata": {},
   "outputs": [],
   "source": [
    "# Ensure train_losses and val_losses are aligned\n",
    "min_len = min(len(train_losses), len(val_losses))\n",
    "train_losses = train_losses[:min_len]\n",
    "val_losses = val_losses[:min_len]\n",
    "\n",
    "# Plot Training Loss\n",
    "fig, ax1 = plt.subplots(figsize=(10, 6))\n",
    "line1 = ax1.plot(range(1, min_len + 1), train_losses, label='Training Loss', color='b')\n",
    "ax1.set_xlabel('Epochs')\n",
    "ax1.set_ylabel('Training Loss', color='b')\n",
    "ax1.tick_params(axis='y', labelcolor='b')\n",
    "ax1.grid(visible=True, linestyle='--', alpha=0.6)\n",
    "\n",
    "# Plot Validation Loss on a Secondary Y-Axis\n",
    "ax2 = ax1.twinx()\n",
    "line2 = ax2.plot(range(1, min_len + 1), val_losses, label='Validation Loss', color='orange')\n",
    "ax2.set_ylabel('Validation Loss', color='orange')\n",
    "ax2.tick_params(axis='y', labelcolor='orange')\n",
    "\n",
    "# Add Early Stopping Point\n",
    "best_epoch = min_len - patience_counter  # Adjust based on patience\n",
    "line3 = ax1.axvline(best_epoch, color='r', linestyle='--', label='Early Stopping Point')\n",
    "\n",
    "# Combine legends from both axes\n",
    "lines = line1 + line2 + [line3]\n",
    "labels = [l.get_label() for l in lines]\n",
    "ax1.legend(lines, labels, loc='upper right')\n",
    "\n",
    "# Add Title\n",
    "plt.title('Training and Validation Loss Over Epochs with Early Stopping')\n",
    "fig.tight_layout()\n",
    "\n",
    "# Save the Plot\n",
    "#file_name = 'rnn_train_val_loss'  # Example file name\n",
    "#plt.savefig(f'plots/01_train_vall_loss/{file_name}.png')\n",
    "plt.show()"
   ]
  },
  {
   "cell_type": "code",
   "execution_count": null,
   "id": "2bdcda57-a41b-4e95-bfc6-1d140d918216",
   "metadata": {},
   "outputs": [],
   "source": [
    "# Test phase\n",
    "model.eval()\n",
    "test_tensor = torch.tensor(test_tensor, dtype=torch.float32)\n",
    "test_los_label = torch.tensor(test_los_label, dtype=torch.float32)\n",
    "\n",
    "with torch.no_grad():\n",
    "    test_predictions = model(test_tensor)\n",
    "    test_loss = criterion(test_predictions, test_los_label.unsqueeze(1))\n",
    "    logging.info(f\"Test Loss: {test_loss:.4f}\")"
   ]
  }
 ],
 "metadata": {
  "kernelspec": {
   "display_name": "Python 3 (ipykernel)",
   "language": "python",
   "name": "python3"
  },
  "language_info": {
   "codemirror_mode": {
    "name": "ipython",
    "version": 3
   },
   "file_extension": ".py",
   "mimetype": "text/x-python",
   "name": "python",
   "nbconvert_exporter": "python",
   "pygments_lexer": "ipython3",
   "version": "3.12.7"
  }
 },
 "nbformat": 4,
 "nbformat_minor": 5
}
