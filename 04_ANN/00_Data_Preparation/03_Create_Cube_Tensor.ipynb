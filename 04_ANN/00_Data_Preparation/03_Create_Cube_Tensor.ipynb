{
 "cells": [
  {
   "cell_type": "code",
   "execution_count": 1,
   "id": "a6ec677c-df73-4d68-8e40-741986809425",
   "metadata": {},
   "outputs": [],
   "source": [
    "import pandas as pd\n",
    "import numpy as np\n",
    "import logging\n",
    "import h5py # Save 3D tensor\n",
    "import os"
   ]
  },
  {
   "cell_type": "code",
   "execution_count": 2,
   "id": "e22686a9-5114-4b93-b19e-885d3a80c851",
   "metadata": {},
   "outputs": [],
   "source": [
    "# Set up logging\n",
    "logging.basicConfig(\n",
    "    level=logging.INFO,\n",
    "    format='%(asctime)s - %(levelname)s - %(message)s',\n",
    "    handlers=[\n",
    "        logging.FileHandler(\"data_loading.log\"),\n",
    "        logging.StreamHandler()\n",
    "    ]\n",
    ")"
   ]
  },
  {
   "cell_type": "code",
   "execution_count": 4,
   "id": "dabbc118-0527-43a6-a8ce-028f31a94fa2",
   "metadata": {},
   "outputs": [
    {
     "name": "stderr",
     "output_type": "stream",
     "text": [
      "2024-12-16 20:32:29,105 - INFO - Loading Train Sets\n",
      "2024-12-16 20:32:29,106 - INFO - Loading... -> o1_X_train.csv\n",
      "2024-12-16 20:32:33,883 - INFO - Loading... -> o2_X_train.csv\n",
      "2024-12-16 20:32:36,172 - INFO - Loading... -> o3_X_train.csv\n",
      "2024-12-16 20:32:37,709 - INFO - Loading... -> o4_X_train.csv\n",
      "2024-12-16 20:32:38,863 - INFO - Loading... -> o1_y_train_los.csv\n",
      "2024-12-16 20:32:38,904 - INFO - Train Load Complete\n",
      "\n",
      "2024-12-16 20:32:38,906 - INFO - Loading Validation Sets\n",
      "2024-12-16 20:32:38,906 - INFO - Loading... -> o1_X_validate.csv\n",
      "2024-12-16 20:32:39,502 - INFO - Loading... -> o2_X_validate.csv\n",
      "2024-12-16 20:32:39,805 - INFO - Loading... -> o3_X_validate.csv\n",
      "2024-12-16 20:32:40,016 - INFO - Loading... -> o4_X_validate.csv\n",
      "2024-12-16 20:32:40,177 - INFO - Loading... -> o1_y_validate_los.csv\n",
      "2024-12-16 20:32:40,188 - INFO - Validate Load Complete\n",
      "\n",
      "2024-12-16 20:32:40,189 - INFO - Loading Test Sets\n",
      "2024-12-16 20:32:40,190 - INFO - Loading... -> o1_X_test.csv\n",
      "2024-12-16 20:32:40,763 - INFO - Loading... -> o2_X_test.csv\n",
      "2024-12-16 20:32:41,066 - INFO - Loading... -> o3_X_test.csv\n",
      "2024-12-16 20:32:41,275 - INFO - Loading... -> o4_X_test.csv\n",
      "2024-12-16 20:32:41,436 - INFO - Loading... -> o1_y_test_los.csv\n",
      "2024-12-16 20:32:41,446 - INFO - Test Load Complete\n",
      "\n",
      "2024-12-16 20:32:41,447 - INFO - Loading External Sets\n",
      "2024-12-16 20:32:41,448 - INFO - Loading... -> o1_X_external.csv\n",
      "2024-12-16 20:32:50,171 - INFO - Loading... -> o2_X_external.csv\n",
      "2024-12-16 20:32:54,514 - INFO - Loading... -> o3_X_external.csv\n",
      "2024-12-16 20:32:57,308 - INFO - Loading... -> o4_X_external.csv\n",
      "2024-12-16 20:32:59,389 - INFO - Loading... -> o1_y_external_los.csv\n",
      "2024-12-16 20:32:59,432 - INFO - External Load Complete\n"
     ]
    }
   ],
   "source": [
    "# Load the dataframes\n",
    "path = \"../CSV/exports/impute/o1_GAN/o01\"\n",
    "logging.info(f\"Loading Train Sets\")\n",
    "logging.info(f\"Loading... -> o1_X_train.csv\")\n",
    "o1_train = pd.read_csv(f\"{path}/o1_X_train.csv\").astype('float32')\n",
    "logging.info(f\"Loading... -> o2_X_train.csv\")\n",
    "o2_train = pd.read_csv(f\"{path}/o2_X_train.csv\").astype('float32')\n",
    "logging.info(f\"Loading... -> o3_X_train.csv\")\n",
    "o3_train = pd.read_csv(f\"{path}/o3_X_train.csv\").astype('float32')\n",
    "logging.info(f\"Loading... -> o4_X_train.csv\")\n",
    "o4_train = pd.read_csv(f\"{path}/o4_X_train.csv\").astype('float32')\n",
    "logging.info(f\"Loading... -> o1_y_train_los.csv\")\n",
    "o1_train_los_label = pd.read_csv(f\"{path}/o1_y_train_los.csv\").astype('float32')\n",
    "logging.info(f\"Train Load Complete\\n\")\n",
    "\n",
    "logging.info(f\"Loading Validation Sets\")\n",
    "logging.info(f\"Loading... -> o1_X_validate.csv\")\n",
    "o1_validate = pd.read_csv(f\"{path}/o1_X_validate.csv\").astype('float32')\n",
    "logging.info(f\"Loading... -> o2_X_validate.csv\")\n",
    "o2_validate = pd.read_csv(f\"{path}/o2_X_validate.csv\").astype('float32')\n",
    "logging.info(f\"Loading... -> o3_X_validate.csv\")\n",
    "o3_validate = pd.read_csv(f\"{path}/o3_X_validate.csv\").astype('float32')\n",
    "logging.info(f\"Loading... -> o4_X_validate.csv\")\n",
    "o4_validate = pd.read_csv(f\"{path}/o4_X_validate.csv\").astype('float32')\n",
    "logging.info(f\"Loading... -> o1_y_validate_los.csv\")\n",
    "o1_validate_los_label = pd.read_csv(f\"{path}/o1_y_validate_los.csv\").astype('float32')\n",
    "logging.info(f\"Validate Load Complete\\n\")\n",
    "\n",
    "logging.info(f\"Loading Test Sets\")\n",
    "logging.info(f\"Loading... -> o1_X_test.csv\")\n",
    "o1_test = pd.read_csv(f\"{path}/o1_X_test.csv\").astype('float32')\n",
    "logging.info(f\"Loading... -> o2_X_test.csv\")\n",
    "o2_test = pd.read_csv(f\"{path}/o2_X_test.csv\").astype('float32')\n",
    "logging.info(f\"Loading... -> o3_X_test.csv\")\n",
    "o3_test = pd.read_csv(f\"{path}/o3_X_test.csv\").astype('float32')\n",
    "logging.info(f\"Loading... -> o4_X_test.csv\")\n",
    "o4_test = pd.read_csv(f\"{path}/o4_X_test.csv\").astype('float32')\n",
    "logging.info(f\"Loading... -> o1_y_test_los.csv\")\n",
    "o1_test_los_label = pd.read_csv(f\"{path}/o1_y_test_los.csv\").astype('float32')\n",
    "logging.info(f\"Test Load Complete\\n\")\n",
    "\n",
    "logging.info(f\"Loading External Sets\")\n",
    "logging.info(f\"Loading... -> o1_X_external.csv\")\n",
    "o1_external = pd.read_csv(f\"{path}/o1_X_external.csv\").astype('float32')\n",
    "logging.info(f\"Loading... -> o2_X_external.csv\")\n",
    "o2_external = pd.read_csv(f\"{path}/o2_X_external.csv\").astype('float32')\n",
    "logging.info(f\"Loading... -> o3_X_external.csv\")\n",
    "o3_external = pd.read_csv(f\"{path}/o3_X_external.csv\").astype('float32')\n",
    "logging.info(f\"Loading... -> o4_X_external.csv\")\n",
    "o4_external = pd.read_csv(f\"{path}/o4_X_external.csv\").astype('float32')\n",
    "logging.info(f\"Loading... -> o1_y_external_los.csv\")\n",
    "o1_external_los_label = pd.read_csv(f\"{path}/o1_y_external_los.csv\").astype('float32')\n",
    "logging.info(f\"External Load Complete\")"
   ]
  },
  {
   "cell_type": "code",
   "execution_count": null,
   "id": "1255c8a5-8a2f-4697-a4a6-d980ab1104f1",
   "metadata": {},
   "outputs": [],
   "source": [
    "display(o4_external)"
   ]
  },
  {
   "cell_type": "code",
   "execution_count": 5,
   "id": "3ad67b23-9fe2-4136-9f41-91a8d26e4bfb",
   "metadata": {},
   "outputs": [
    {
     "name": "stderr",
     "output_type": "stream",
     "text": [
      "2024-12-16 20:34:19,900 - INFO - Aligning columns for all datasets.\n",
      "2024-12-16 20:34:20,095 - INFO - Aligning complete.\n"
     ]
    }
   ],
   "source": [
    "# Ensure columns are aligned (same order and names)\n",
    "logging.info(f\"Aligning columns for all datasets.\")\n",
    "train_columns = o1_train.columns # Extract columns names in their order\n",
    "o2_train = o2_train[train_columns] # Reorder the columns to match with o1_train\n",
    "o3_train = o3_train[train_columns] \n",
    "o4_train = o4_train[train_columns] \n",
    "\n",
    "val_columnns = o1_validate.columns\n",
    "o2_validate = o2_validate[val_columnns]\n",
    "o3_validate = o3_validate[val_columnns]\n",
    "o4_validate = o4_validate[val_columnns]\n",
    "\n",
    "test_columnns = o1_test.columns\n",
    "o2_test = o2_test[test_columnns]\n",
    "o3_test = o3_test[test_columnns]\n",
    "o4_test = o4_test[test_columnns]\n",
    "\n",
    "external_columnns = o1_external.columns\n",
    "o2_external = o2_external[external_columnns]\n",
    "o3_external = o3_external[external_columnns]\n",
    "o4_external = o4_external[external_columnns]\n",
    "logging.info(f\"Aligning complete.\")"
   ]
  },
  {
   "cell_type": "code",
   "execution_count": 6,
   "id": "93479844-c2ce-4c96-976d-2eeea13f9795",
   "metadata": {},
   "outputs": [
    {
     "name": "stderr",
     "output_type": "stream",
     "text": [
      "2024-12-16 20:34:20,978 - INFO - Repeating train rows to match the number of rows in o1_train.\n",
      "2024-12-16 20:34:21,695 - INFO - Repeating Complete\n",
      "\n",
      "2024-12-16 20:34:21,696 - INFO - Repeating validate rows to match the number of rows in o1_validate.\n",
      "2024-12-16 20:34:21,812 - INFO - Repeating Complete\n",
      "\n",
      "2024-12-16 20:34:21,813 - INFO - Repeating test rows to match the number of rows in o1_test.\n",
      "2024-12-16 20:34:21,929 - INFO - Repeating Complete\n",
      "\n",
      "2024-12-16 20:34:21,930 - INFO - Repeating external rows to match the number of rows in o1_external.\n",
      "2024-12-16 20:34:23,532 - INFO - Repeating Complete\n"
     ]
    }
   ],
   "source": [
    "# Repeat rows to match the row count of o1\n",
    "logging.info(f\"Repeating train rows to match the number of rows in o1_train.\")\n",
    "o2_train = o2_train.loc[o2_train.index.repeat(2)].reset_index(drop=True)\n",
    "o3_train = o3_train.loc[o3_train.index.repeat(3)].reset_index(drop=True)\n",
    "o4_train = o4_train.loc[o4_train.index.repeat(4)].reset_index(drop=True)\n",
    "logging.info(f\"Repeating Complete\\n\")\n",
    "\n",
    "logging.info(f\"Repeating validate rows to match the number of rows in o1_validate.\")\n",
    "o2_validate = o2_validate.loc[o2_validate.index.repeat(2)].reset_index(drop=True)\n",
    "o3_validate = o3_validate.loc[o3_validate.index.repeat(3)].reset_index(drop=True)\n",
    "o4_validate = o4_validate.loc[o4_validate.index.repeat(4)].reset_index(drop=True)\n",
    "logging.info(f\"Repeating Complete\\n\")\n",
    "\n",
    "logging.info(f\"Repeating test rows to match the number of rows in o1_test.\")\n",
    "o2_test = o2_test.loc[o2_test.index.repeat(2)].reset_index(drop=True)\n",
    "o3_test = o3_test.loc[o3_test.index.repeat(3)].reset_index(drop=True)\n",
    "o4_test = o4_test.loc[o4_test.index.repeat(4)].reset_index(drop=True)\n",
    "logging.info(f\"Repeating Complete\\n\")\n",
    "\n",
    "logging.info(f\"Repeating external rows to match the number of rows in o1_external.\")\n",
    "o2_external= o2_external.loc[o2_external.index.repeat(2)].reset_index(drop=True)\n",
    "o3_external = o3_external.loc[o3_external.index.repeat(3)].reset_index(drop=True)\n",
    "o4_external = o4_external.loc[o4_external.index.repeat(4)].reset_index(drop=True)\n",
    "logging.info(f\"Repeating Complete\")"
   ]
  },
  {
   "cell_type": "code",
   "execution_count": 7,
   "id": "e6c5b32e-ab2e-441f-a19d-13b35ec2e287",
   "metadata": {},
   "outputs": [
    {
     "name": "stderr",
     "output_type": "stream",
     "text": [
      "2024-12-16 20:34:24,035 - INFO - Stacking datasets to create a 3D tensor.\n",
      "2024-12-16 20:34:26,059 - INFO - Train 3D Tensor shape: (122496, 346, 4)\n",
      "2024-12-16 20:34:26,060 - INFO - Validate 3D Tensor shape: (15312, 346, 4)\n",
      "2024-12-16 20:34:26,061 - INFO - Test 3D Tensor shape: (15312, 346, 4)\n",
      "2024-12-16 20:34:26,062 - INFO - External 3D Tensor shape: (234720, 346, 4)\n"
     ]
    }
   ],
   "source": [
    "# Check all datasets to the same number of rows\n",
    "if not (len(o1_train) == len(o2_train) == len(o3_train) == len(o4_train)):\n",
    "    raise ValueError(\"The Train datasets do not have the same number of rows after alignment!\")\n",
    "\n",
    "if not (len(o1_validate) == len(o2_validate) == len(o3_validate) == len(o4_validate)):\n",
    "    raise ValueError(\"The Validation datasets do not have the same number of rows after alignment!\")\n",
    "\n",
    "if not (len(o1_test) == len(o2_test) == len(o3_test) == len(o4_test)):\n",
    "    raise ValueError(\"The Test datasets do not have the same number of rows after alignment!\")\n",
    "\n",
    "if not (len(o1_external) == len(o2_external) == len(o3_external) == len(o4_external)):\n",
    "    raise ValueError(\"The External datasets do not have the same number of rows after alignment!\")\n",
    "\n",
    "# Create a 3D tensor by stacking the dataframes\n",
    "logging.info(\"Stacking datasets to create a 3D tensor.\")\n",
    "train_tensor = np.stack([o1_train.values, o2_train.values, o3_train.values, o4_train.values], axis=-1)\n",
    "validate_tensor = np.stack([o1_validate.values, o2_validate.values, o3_validate.values, o4_validate.values], axis=-1)\n",
    "test_tensor = np.stack([o1_test.values, o2_test.values, o3_test.values, o4_test.values], axis=-1)\n",
    "external_tensor = np.stack([o1_external.values, o2_external.values, o3_external.values, o4_external.values], axis=-1)\n",
    "\n",
    "logging.info(f\"Train 3D Tensor shape: {train_tensor.shape}\")\n",
    "logging.info(f\"Validate 3D Tensor shape: {validate_tensor.shape}\")\n",
    "logging.info(f\"Test 3D Tensor shape: {test_tensor.shape}\")\n",
    "logging.info(f\"External 3D Tensor shape: {external_tensor.shape}\")"
   ]
  },
  {
   "cell_type": "code",
   "execution_count": 8,
   "id": "434fc592-d9b2-4bae-9bc8-c064449520d2",
   "metadata": {},
   "outputs": [
    {
     "name": "stderr",
     "output_type": "stream",
     "text": [
      "2024-12-16 20:38:07,009 - INFO - Tensors saved to ../CSV/exports/tensors/icu_tensors.h5.\n"
     ]
    }
   ],
   "source": [
    "save_path = '../CSV/exports/tensors/'\n",
    "os.makedirs(save_path, exist_ok=True)\n",
    "\n",
    "# Save tensors to an HDF5 file\n",
    "with h5py.File(os.path.join(save_path, 'icu_tensors.h5'), 'w') as hf:\n",
    "    # Tensors\n",
    "    hf.create_dataset('train_tensor', data=train_tensor)\n",
    "    hf.create_dataset('validate_tensor', data=validate_tensor)\n",
    "    hf.create_dataset('test_tensor', data=test_tensor)\n",
    "    hf.create_dataset('external_tensor', data=external_tensor)\n",
    "    # Labels\n",
    "    hf.create_dataset('o1_train_los_label', data=o1_train_los_label)\n",
    "    hf.create_dataset('o1_validate_los_label', data=o1_validate_los_label)\n",
    "    hf.create_dataset('o1_test_los_label', data=o1_test_los_label)\n",
    "    hf.create_dataset('o1_external_los_label', data=o1_external_los_label)\n",
    "\n",
    "logging.info(f\"Tensors saved to {save_path}icu_tensors.h5.\")"
   ]
  },
  {
   "cell_type": "markdown",
   "id": "5595857c-3ae8-465e-b53e-6380414dc6a4",
   "metadata": {},
   "source": [
    "# Load Tensors"
   ]
  },
  {
   "cell_type": "code",
   "execution_count": null,
   "id": "696a992f-f388-40fd-9161-81ac207be861",
   "metadata": {},
   "outputs": [],
   "source": [
    "# Load tensors from the HDF5 file\n",
    "load_path = '../CSV/exports/tensors/icu_tensors.h5'\n",
    "\n",
    "logging.info(f\"Loading...\")\n",
    "with h5py.File(load_path, 'r') as hf:\n",
    "    train_tensor = hf['train_tensor'][:]\n",
    "    validate_tensor = hf['validate_tensor'][:]\n",
    "    test_tensor = hf['test_tensor'][:]\n",
    "    external_tensor = hf['external_tensor'][:]\n",
    "\n",
    "logging.info(f\"Train: {train_tensor.shape}, Validate: {validate_tensor.shape}, Test: {test_tensor.shape}, External: {external_tensor.shape}\")\n"
   ]
  },
  {
   "cell_type": "code",
   "execution_count": 9,
   "id": "e4485423-38a2-4de3-9bf4-ebad3b42a01a",
   "metadata": {},
   "outputs": [
    {
     "name": "stdout",
     "output_type": "stream",
     "text": [
      "Tensors and labels loaded. Shapes:\n",
      "Train Tensor: (122496, 346, 4), Train Labels: (122496, 1)\n",
      "Validate Tensor: (15312, 346, 4), Validate Labels: (15312, 1)\n",
      "Test Tensor: (15312, 346, 4), Test Labels: (15312, 1)\n",
      "External Tensor: (234720, 346, 4), External Labels: (234720, 1)\n"
     ]
    }
   ],
   "source": [
    "# Load tensors and labels from the HDF5 file\n",
    "load_path = '../CSV/exports/tensors/icu_tensors.h5'\n",
    "\n",
    "with h5py.File(load_path, 'r') as hf:\n",
    "    # Load tensors\n",
    "    train_tensor = hf['train_tensor'][:]\n",
    "    validate_tensor = hf['validate_tensor'][:]\n",
    "    test_tensor = hf['test_tensor'][:]\n",
    "    external_tensor = hf['external_tensor'][:]\n",
    "    \n",
    "    # Load labels\n",
    "    o1_train_los_label = hf['o1_train_los_label'][:]\n",
    "    o1_validate_los_label = hf['o1_validate_los_label'][:]\n",
    "    o1_test_los_label = hf['o1_test_los_label'][:]\n",
    "    o1_external_los_label = hf['o1_external_los_label'][:]\n",
    "\n",
    "print(\"Tensors and labels loaded. Shapes:\")\n",
    "print(f\"Train Tensor: {train_tensor.shape}, Train Labels: {o1_train_los_label.shape}\")\n",
    "print(f\"Validate Tensor: {validate_tensor.shape}, Validate Labels: {o1_validate_los_label.shape}\")\n",
    "print(f\"Test Tensor: {test_tensor.shape}, Test Labels: {o1_test_los_label.shape}\")\n",
    "print(f\"External Tensor: {external_tensor.shape}, External Labels: {o1_external_los_label.shape}\")\n"
   ]
  }
 ],
 "metadata": {
  "kernelspec": {
   "display_name": "Python 3 (ipykernel)",
   "language": "python",
   "name": "python3"
  },
  "language_info": {
   "codemirror_mode": {
    "name": "ipython",
    "version": 3
   },
   "file_extension": ".py",
   "mimetype": "text/x-python",
   "name": "python",
   "nbconvert_exporter": "python",
   "pygments_lexer": "ipython3",
   "version": "3.12.7"
  }
 },
 "nbformat": 4,
 "nbformat_minor": 5
}
