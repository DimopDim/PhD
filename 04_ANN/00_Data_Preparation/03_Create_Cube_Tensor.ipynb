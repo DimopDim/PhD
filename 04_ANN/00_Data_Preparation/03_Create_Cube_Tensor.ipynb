{
 "cells": [
  {
   "cell_type": "code",
   "execution_count": 1,
   "id": "a6ec677c-df73-4d68-8e40-741986809425",
   "metadata": {},
   "outputs": [],
   "source": [
    "import pandas as pd\n",
    "import numpy as np\n",
    "import logging\n",
    "import h5py # Save 3D tensor\n",
    "import os"
   ]
  },
  {
   "cell_type": "code",
   "execution_count": 2,
   "id": "e22686a9-5114-4b93-b19e-885d3a80c851",
   "metadata": {},
   "outputs": [],
   "source": [
    "# Set up logging\n",
    "logging.basicConfig(\n",
    "    level=logging.INFO,\n",
    "    format='%(asctime)s - %(levelname)s - %(message)s',\n",
    "    handlers=[\n",
    "        logging.FileHandler(\"data_loading.log\"),\n",
    "        logging.StreamHandler()\n",
    "    ]\n",
    ")"
   ]
  },
  {
   "cell_type": "code",
   "execution_count": 3,
   "id": "1a928475-2269-488e-ae79-b89f6f0e393f",
   "metadata": {
    "scrolled": true
   },
   "outputs": [
    {
     "name": "stderr",
     "output_type": "stream",
     "text": [
      "2024-12-16 22:21:40,932 - INFO - Loading... -> o1_X_external.csv\n",
      "2024-12-16 22:21:49,756 - INFO - Loading... -> o1_X_test.csv\n",
      "2024-12-16 22:21:50,380 - INFO - Loading... -> o1_X_train.csv\n",
      "2024-12-16 22:21:55,232 - INFO - Loading... -> o1_X_validate.csv\n",
      "2024-12-16 22:21:55,845 - INFO - Loading... -> o1_y_external_los.csv\n",
      "2024-12-16 22:21:55,891 - INFO - Loading... -> o1_y_external_mortality.csv\n",
      "2024-12-16 22:21:55,921 - INFO - Loading... -> o1_y_test_los.csv\n",
      "2024-12-16 22:21:55,931 - INFO - Loading... -> o1_y_test_mortality.csv\n",
      "2024-12-16 22:21:55,935 - INFO - Loading... -> o1_y_train_los.csv\n",
      "2024-12-16 22:21:55,973 - INFO - Loading... -> o1_y_train_mortality.csv\n",
      "2024-12-16 22:21:55,991 - INFO - Loading... -> o1_y_validate_los.csv\n",
      "2024-12-16 22:21:56,000 - INFO - Loading... -> o1_y_validate_mortality.csv\n",
      "2024-12-16 22:21:56,006 - INFO - Loading... -> o2_X_external.csv\n",
      "2024-12-16 22:22:00,645 - INFO - Loading... -> o2_X_test.csv\n",
      "2024-12-16 22:22:00,976 - INFO - Loading... -> o2_X_train.csv\n",
      "2024-12-16 22:22:03,378 - INFO - Loading... -> o2_X_validate.csv\n",
      "2024-12-16 22:22:03,686 - INFO - Loading... -> o2_y_external_los.csv\n",
      "2024-12-16 22:22:03,708 - INFO - Loading... -> o2_y_test_los.csv\n",
      "2024-12-16 22:22:03,714 - INFO - Loading... -> o2_y_train_los.csv\n",
      "2024-12-16 22:22:03,734 - INFO - Loading... -> o2_y_validate_los.csv\n",
      "2024-12-16 22:22:03,740 - INFO - Loading... -> o3_X_external.csv\n",
      "2024-12-16 22:22:06,775 - INFO - Loading... -> o3_X_test.csv\n",
      "2024-12-16 22:22:06,997 - INFO - Loading... -> o3_X_train.csv\n",
      "2024-12-16 22:22:08,605 - INFO - Loading... -> o3_X_validate.csv\n",
      "2024-12-16 22:22:08,833 - INFO - Loading... -> o3_y_external_los.csv\n",
      "2024-12-16 22:22:08,852 - INFO - Loading... -> o3_y_test_los.csv\n",
      "2024-12-16 22:22:08,857 - INFO - Loading... -> o3_y_train_los.csv\n",
      "2024-12-16 22:22:08,873 - INFO - Loading... -> o3_y_validate_los.csv\n",
      "2024-12-16 22:22:08,877 - INFO - Loading... -> o4_X_external.csv\n",
      "2024-12-16 22:22:11,121 - INFO - Loading... -> o4_X_test.csv\n",
      "2024-12-16 22:22:11,305 - INFO - Loading... -> o4_X_train.csv\n",
      "2024-12-16 22:22:12,483 - INFO - Loading... -> o4_X_validate.csv\n",
      "2024-12-16 22:22:12,651 - INFO - Loading... -> o4_y_external_los.csv\n",
      "2024-12-16 22:22:12,664 - INFO - Loading... -> o4_y_test_los.csv\n",
      "2024-12-16 22:22:12,668 - INFO - Loading... -> o4_y_train_los.csv\n",
      "2024-12-16 22:22:12,682 - INFO - Loading... -> o4_y_validate_los.csv\n",
      "2024-12-16 22:22:12,686 - INFO - o1_X_external loaded successfully with shape (234720, 346)\n",
      "2024-12-16 22:22:12,686 - INFO - o1_X_test loaded successfully with shape (15312, 346)\n",
      "2024-12-16 22:22:12,687 - INFO - o1_X_train loaded successfully with shape (122496, 346)\n",
      "2024-12-16 22:22:12,688 - INFO - o1_X_validate loaded successfully with shape (15312, 346)\n",
      "2024-12-16 22:22:12,689 - INFO - o1_y_external_los loaded successfully with shape (234720, 1)\n",
      "2024-12-16 22:22:12,690 - INFO - o1_y_external_mortality loaded successfully with shape (234720, 1)\n",
      "2024-12-16 22:22:12,691 - INFO - o1_y_test_los loaded successfully with shape (15312, 1)\n",
      "2024-12-16 22:22:12,692 - INFO - o1_y_test_mortality loaded successfully with shape (15312, 1)\n",
      "2024-12-16 22:22:12,693 - INFO - o1_y_train_los loaded successfully with shape (122496, 1)\n",
      "2024-12-16 22:22:12,694 - INFO - o1_y_train_mortality loaded successfully with shape (122496, 1)\n",
      "2024-12-16 22:22:12,696 - INFO - o1_y_validate_los loaded successfully with shape (15312, 1)\n",
      "2024-12-16 22:22:12,696 - INFO - o1_y_validate_mortality loaded successfully with shape (15312, 1)\n",
      "2024-12-16 22:22:12,698 - INFO - o2_X_external loaded successfully with shape (117360, 346)\n",
      "2024-12-16 22:22:12,698 - INFO - o2_X_test loaded successfully with shape (7656, 346)\n",
      "2024-12-16 22:22:12,699 - INFO - o2_X_train loaded successfully with shape (61248, 346)\n",
      "2024-12-16 22:22:12,701 - INFO - o2_X_validate loaded successfully with shape (7656, 346)\n",
      "2024-12-16 22:22:12,701 - INFO - o2_y_external_los loaded successfully with shape (117360, 1)\n",
      "2024-12-16 22:22:12,702 - INFO - o2_y_test_los loaded successfully with shape (7656, 1)\n",
      "2024-12-16 22:22:12,703 - INFO - o2_y_train_los loaded successfully with shape (61248, 1)\n",
      "2024-12-16 22:22:12,705 - INFO - o2_y_validate_los loaded successfully with shape (7656, 1)\n",
      "2024-12-16 22:22:12,706 - INFO - o3_X_external loaded successfully with shape (78240, 346)\n",
      "2024-12-16 22:22:12,707 - INFO - o3_X_test loaded successfully with shape (5104, 346)\n",
      "2024-12-16 22:22:12,708 - INFO - o3_X_train loaded successfully with shape (40832, 346)\n",
      "2024-12-16 22:22:12,709 - INFO - o3_X_validate loaded successfully with shape (5104, 346)\n",
      "2024-12-16 22:22:12,710 - INFO - o3_y_external_los loaded successfully with shape (78240, 1)\n",
      "2024-12-16 22:22:12,711 - INFO - o3_y_test_los loaded successfully with shape (5104, 1)\n",
      "2024-12-16 22:22:12,711 - INFO - o3_y_train_los loaded successfully with shape (40832, 1)\n",
      "2024-12-16 22:22:12,713 - INFO - o3_y_validate_los loaded successfully with shape (5104, 1)\n",
      "2024-12-16 22:22:12,714 - INFO - o4_X_external loaded successfully with shape (58680, 346)\n",
      "2024-12-16 22:22:12,715 - INFO - o4_X_test loaded successfully with shape (3828, 346)\n",
      "2024-12-16 22:22:12,716 - INFO - o4_X_train loaded successfully with shape (30624, 346)\n",
      "2024-12-16 22:22:12,717 - INFO - o4_X_validate loaded successfully with shape (3828, 346)\n",
      "2024-12-16 22:22:12,718 - INFO - o4_y_external_los loaded successfully with shape (58680, 1)\n",
      "2024-12-16 22:22:12,718 - INFO - o4_y_test_los loaded successfully with shape (3828, 1)\n",
      "2024-12-16 22:22:12,719 - INFO - o4_y_train_los loaded successfully with shape (30624, 1)\n",
      "2024-12-16 22:22:12,721 - INFO - o4_y_validate_los loaded successfully with shape (3828, 1)\n",
      "2024-12-16 22:22:12,722 - INFO - All files loaded successfully.\n"
     ]
    }
   ],
   "source": [
    "path = \"../CSV/exports/impute/o1_GAN/o01\"\n",
    "\n",
    "# Get all files in the directory\n",
    "all_files = os.listdir(path)\n",
    "\n",
    "# Store dictionary\n",
    "dataframes = {}\n",
    "\n",
    "# Load files one by one\n",
    "for file in all_files:\n",
    "    if file.endswith(\".csv\"):\n",
    "        # Create a variable name from the filename\n",
    "        var_name = file.replace(\".csv\", \"\").replace(\"-\", \"_\")\n",
    "        logging.info(f\"Loading... -> {file}\")\n",
    "        # Load the CSV into a pandas dataframe\n",
    "        dataframes[var_name] = pd.read_csv(os.path.join(path, file)).astype('float32')\n",
    "\n",
    "# Chech if they are load\n",
    "for var_name, df in dataframes.items():\n",
    "    globals()[var_name] = df  # Assign to global variables if needed\n",
    "    logging.info(f\"{var_name} loaded successfully with shape {df.shape}\")\n",
    "\n",
    "logging.info(\"All files loaded successfully.\")"
   ]
  },
  {
   "cell_type": "code",
   "execution_count": 4,
   "id": "3ad67b23-9fe2-4136-9f41-91a8d26e4bfb",
   "metadata": {},
   "outputs": [
    {
     "name": "stderr",
     "output_type": "stream",
     "text": [
      "2024-12-16 22:22:14,462 - INFO - Aligning columns for all datasets.\n",
      "2024-12-16 22:22:14,623 - INFO - Aligning complete.\n"
     ]
    }
   ],
   "source": [
    "# Align column. They must be in same order and have same names.\n",
    "logging.info(f\"Aligning columns for all datasets.\")\n",
    "train_columns = o1_X_train.columns # Extract columns names in their order\n",
    "o2_train = o2_X_train[train_columns] # Reorder the columns to match with o1_train\n",
    "o3_train = o3_X_train[train_columns] \n",
    "o4_train = o4_X_train[train_columns] \n",
    "\n",
    "val_columnns = o1_X_validate.columns\n",
    "o2_validate = o2_X_validate[val_columnns]\n",
    "o3_validate = o3_X_validate[val_columnns]\n",
    "o4_validate = o4_X_validate[val_columnns]\n",
    "\n",
    "test_columnns = o1_X_test.columns\n",
    "o2_test = o2_X_test[test_columnns]\n",
    "o3_test = o3_X_test[test_columnns]\n",
    "o4_test = o4_X_test[test_columnns]\n",
    "\n",
    "external_columnns = o1_X_external.columns\n",
    "o2_external = o2_X_external[external_columnns]\n",
    "o3_external = o3_X_external[external_columnns]\n",
    "o4_external = o4_X_external[external_columnns]\n",
    "logging.info(f\"Aligning complete.\")"
   ]
  },
  {
   "cell_type": "code",
   "execution_count": 5,
   "id": "93479844-c2ce-4c96-976d-2eeea13f9795",
   "metadata": {},
   "outputs": [
    {
     "name": "stderr",
     "output_type": "stream",
     "text": [
      "2024-12-16 22:22:14,639 - INFO - Repeating train rows to match the number of rows in o1_train.\n",
      "2024-12-16 22:22:15,389 - INFO - Repeating Complete\n",
      "\n",
      "2024-12-16 22:22:15,390 - INFO - Repeating validate rows to match the number of rows in o1_validate.\n",
      "2024-12-16 22:22:15,493 - INFO - Repeating Complete\n",
      "\n",
      "2024-12-16 22:22:15,493 - INFO - Repeating test rows to match the number of rows in o1_test.\n",
      "2024-12-16 22:22:15,589 - INFO - Repeating Complete\n",
      "\n",
      "2024-12-16 22:22:15,590 - INFO - Repeating external rows to match the number of rows in o1_external.\n",
      "2024-12-16 22:22:17,165 - INFO - Repeating Complete\n"
     ]
    }
   ],
   "source": [
    "# Multiply rows to match the rows of o1_ file\n",
    "logging.info(f\"Repeating train rows to match the number of rows in o1_train.\")\n",
    "o2_train = o2_train.loc[o2_train.index.repeat(2)].reset_index(drop=True)\n",
    "o3_train = o3_train.loc[o3_train.index.repeat(3)].reset_index(drop=True)\n",
    "o4_train = o4_train.loc[o4_train.index.repeat(4)].reset_index(drop=True)\n",
    "logging.info(f\"Repeating Complete\\n\")\n",
    "\n",
    "logging.info(f\"Repeating validate rows to match the number of rows in o1_validate.\")\n",
    "o2_validate = o2_validate.loc[o2_validate.index.repeat(2)].reset_index(drop=True)\n",
    "o3_validate = o3_validate.loc[o3_validate.index.repeat(3)].reset_index(drop=True)\n",
    "o4_validate = o4_validate.loc[o4_validate.index.repeat(4)].reset_index(drop=True)\n",
    "logging.info(f\"Repeating Complete\\n\")\n",
    "\n",
    "logging.info(f\"Repeating test rows to match the number of rows in o1_test.\")\n",
    "o2_test = o2_test.loc[o2_test.index.repeat(2)].reset_index(drop=True)\n",
    "o3_test = o3_test.loc[o3_test.index.repeat(3)].reset_index(drop=True)\n",
    "o4_test = o4_test.loc[o4_test.index.repeat(4)].reset_index(drop=True)\n",
    "logging.info(f\"Repeating Complete\\n\")\n",
    "\n",
    "logging.info(f\"Repeating external rows to match the number of rows in o1_external.\")\n",
    "o2_external= o2_external.loc[o2_external.index.repeat(2)].reset_index(drop=True)\n",
    "o3_external = o3_external.loc[o3_external.index.repeat(3)].reset_index(drop=True)\n",
    "o4_external = o4_external.loc[o4_external.index.repeat(4)].reset_index(drop=True)\n",
    "logging.info(f\"Repeating Complete\")"
   ]
  },
  {
   "cell_type": "code",
   "execution_count": 6,
   "id": "e6c5b32e-ab2e-441f-a19d-13b35ec2e287",
   "metadata": {},
   "outputs": [],
   "source": [
    "# Check all datasets if they have the same number of rows.\n",
    "if not (len(o1_X_train) == len(o2_train) == len(o3_train) == len(o4_train)):\n",
    "    raise ValueError(\"The Train datasets do not have the same number of rows after alignment!\")\n",
    "\n",
    "if not (len(o1_X_validate) == len(o2_validate) == len(o3_validate) == len(o4_validate)):\n",
    "    raise ValueError(\"The Validation datasets do not have the same number of rows after alignment!\")\n",
    "\n",
    "if not (len(o1_X_test) == len(o2_test) == len(o3_test) == len(o4_test)):\n",
    "    raise ValueError(\"The Test datasets do not have the same number of rows after alignment!\")\n",
    "\n",
    "if not (len(o1_X_external) == len(o2_external) == len(o3_external) == len(o4_external)):\n",
    "    raise ValueError(\"The External datasets do not have the same number of rows after alignment!\")"
   ]
  },
  {
   "cell_type": "code",
   "execution_count": 7,
   "id": "dc2fd9cb-e484-4a98-9b29-905746e9f4a0",
   "metadata": {},
   "outputs": [
    {
     "name": "stderr",
     "output_type": "stream",
     "text": [
      "2024-12-16 22:22:17,190 - INFO - Stacking datasets to create a 3D tensor.\n",
      "2024-12-16 22:22:19,061 - INFO - Train 3D Tensor shape: (122496, 346, 4)\n",
      "2024-12-16 22:22:19,062 - INFO - Validate 3D Tensor shape: (15312, 346, 4)\n",
      "2024-12-16 22:22:19,063 - INFO - Test 3D Tensor shape: (15312, 346, 4)\n",
      "2024-12-16 22:22:19,064 - INFO - External 3D Tensor shape: (234720, 346, 4)\n"
     ]
    }
   ],
   "source": [
    "# Create a 3D tensor by stacking the dataframes\n",
    "logging.info(\"Stacking datasets to create a 3D tensor.\")\n",
    "train_tensor = np.stack([o1_X_train.values, o2_train.values, o3_train.values, o4_train.values], axis=-1)\n",
    "validate_tensor = np.stack([o1_X_validate.values, o2_validate.values, o3_validate.values, o4_validate.values], axis=-1)\n",
    "test_tensor = np.stack([o1_X_test.values, o2_test.values, o3_test.values, o4_test.values], axis=-1)\n",
    "external_tensor = np.stack([o1_X_external.values, o2_external.values, o3_external.values, o4_external.values], axis=-1)\n",
    "\n",
    "logging.info(f\"Train 3D Tensor shape: {train_tensor.shape}\")\n",
    "logging.info(f\"Validate 3D Tensor shape: {validate_tensor.shape}\")\n",
    "logging.info(f\"Test 3D Tensor shape: {test_tensor.shape}\")\n",
    "logging.info(f\"External 3D Tensor shape: {external_tensor.shape}\")"
   ]
  },
  {
   "cell_type": "code",
   "execution_count": 9,
   "id": "434fc592-d9b2-4bae-9bc8-c064449520d2",
   "metadata": {},
   "outputs": [
    {
     "name": "stderr",
     "output_type": "stream",
     "text": [
      "2024-12-16 22:24:14,591 - INFO - Tensors saved to ../CSV/exports/tensors/o1_3D_four_dataframe.h5.\n"
     ]
    }
   ],
   "source": [
    "save_path = '../CSV/exports/tensors/'\n",
    "os.makedirs(save_path, exist_ok=True)\n",
    "\n",
    "name = 'o1_3D_four_dataframe.h5'\n",
    "\n",
    "# Save tensors to an HDF5 file\n",
    "with h5py.File(os.path.join(save_path, name), 'w') as hf:\n",
    "    # Tensors\n",
    "    hf.create_dataset('train_tensor', data=train_tensor)\n",
    "    hf.create_dataset('validate_tensor', data=validate_tensor)\n",
    "    hf.create_dataset('test_tensor', data=test_tensor)\n",
    "    hf.create_dataset('external_tensor', data=external_tensor)\n",
    "    # Los Labels\n",
    "    hf.create_dataset('train_los_label', data=o1_y_train_los)\n",
    "    hf.create_dataset('validate_los_label', data=o1_y_validate_los)\n",
    "    hf.create_dataset('test_los_label', data=o1_y_test_los)\n",
    "    hf.create_dataset('external_los_label', data=o1_y_external_los)\n",
    "    # Mortality Labels\n",
    "    hf.create_dataset('train_mortality_label', data=o1_y_train_mortality)\n",
    "    hf.create_dataset('validate_mortality_label', data=o1_y_validate_mortality)\n",
    "    hf.create_dataset('test_mortality_label', data=o1_y_test_mortality)\n",
    "    hf.create_dataset('external_mortality_label', data=o1_y_external_mortality)\n",
    "\n",
    "logging.info(f\"Tensors saved to {save_path}{name}.\")"
   ]
  },
  {
   "cell_type": "markdown",
   "id": "5595857c-3ae8-465e-b53e-6380414dc6a4",
   "metadata": {},
   "source": [
    "# Load Tensors"
   ]
  },
  {
   "cell_type": "code",
   "execution_count": null,
   "id": "696a992f-f388-40fd-9161-81ac207be861",
   "metadata": {},
   "outputs": [],
   "source": [
    "# Load tensors from the HDF5 file\n",
    "load_path = '../CSV/exports/tensors/icu_tensors.h5'\n",
    "\n",
    "logging.info(f\"Loading...\")\n",
    "with h5py.File(load_path, 'r') as hf:\n",
    "    train_tensor = hf['train_tensor'][:]\n",
    "    validate_tensor = hf['validate_tensor'][:]\n",
    "    test_tensor = hf['test_tensor'][:]\n",
    "    external_tensor = hf['external_tensor'][:]\n",
    "    # los\n",
    "    train_los_label = hf['train_los_label'][:]\n",
    "    validate_los_label = hf['validate_los_label'][:]\n",
    "    test_los_label = hf['test_los_label'][:]\n",
    "    external_los_label = hf['external_los_label'][:]\n",
    "    # mortality\n",
    "    train_mortality_label = hf['train_mortality_label'][:]\n",
    "    validate_mortality_label = hf['validate_mortality_label'][:]\n",
    "    test_mortality_label = hf['test_mortality_label'][:]\n",
    "    external_mortality_label = hf['external_mortality_label'][:]\n",
    "\n",
    "logging.info(f\"Train: {train_tensor.shape}, Los Label: {train_los_label.shape}, Mortality Label: {train_mortality_label.shape}\")\n",
    "logging.info(f\"Validate: {validate_tensor.shape}, Los Label: {validate_los_label.shape}, Mortality Label: {validate_mortality_label.shape}\")\n",
    "logging.info(f\"Test: {test_tensor.shape}, Los Label: {test_los_label.shape}, Mortality Label: {test_mortality_label.shape}\")\n",
    "logging.info(f\"External: {external_tensor.shape}, Los Label: {external_los_label.shape}, Mortality Label: {external_mortality_label.shape}\")"
   ]
  }
 ],
 "metadata": {
  "kernelspec": {
   "display_name": "Python 3 (ipykernel)",
   "language": "python",
   "name": "python3"
  },
  "language_info": {
   "codemirror_mode": {
    "name": "ipython",
    "version": 3
   },
   "file_extension": ".py",
   "mimetype": "text/x-python",
   "name": "python",
   "nbconvert_exporter": "python",
   "pygments_lexer": "ipython3",
   "version": "3.12.7"
  }
 },
 "nbformat": 4,
 "nbformat_minor": 5
}
