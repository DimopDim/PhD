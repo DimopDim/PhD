{
 "cells": [
  {
   "cell_type": "markdown",
   "id": "7918f675-6760-4388-be2b-7c0ae56b842a",
   "metadata": {},
   "source": [
    "# Filter admissions with specific ICD code"
   ]
  },
  {
   "cell_type": "code",
   "execution_count": 1,
   "id": "5b68acc4-3713-487f-b1d9-a78580eedc6a",
   "metadata": {
    "tags": []
   },
   "outputs": [],
   "source": [
    "import gc\n",
    "import gzip\n",
    "import pandas as pd\n",
    "\n",
    "# CAUTION: Path with the specific ICD codes from a CSV file \n",
    "icd = r'CSV\\Imports\\icd_stroke.csv'\n",
    "\n",
    "compressed_file_path = r\"..\\00_Datasets\\eicu-2_0\\diagnosis.csv.gz\"\n",
    "\n",
    "df = pd.read_csv(compressed_file_path, compression='gzip')\n",
    "\n",
    "# Read the specific ICD codes from a CSV file\n",
    "specific_icd_numbers = pd.read_csv(icd, header=None)"
   ]
  },
  {
   "cell_type": "code",
   "execution_count": 2,
   "id": "53082b89-fc19-4642-b5c9-1d3e36a1e057",
   "metadata": {
    "tags": []
   },
   "outputs": [],
   "source": [
    "# Split the icd9code column and create multiple rows\n",
    "df['icd9code'] = df['icd9code'].str.split(', ')\n",
    "df = df.explode('icd9code')\n",
    "df = df.dropna(subset=['icd9code'])"
   ]
  },
  {
   "cell_type": "code",
   "execution_count": 3,
   "id": "b4bf3288-2306-4c81-a0b3-c8ebd590f76e",
   "metadata": {
    "tags": []
   },
   "outputs": [],
   "source": [
    "# Convert the list of ICD codes to a list of strings\n",
    "specific_icd_numbers = specific_icd_numbers[0].tolist()"
   ]
  },
  {
   "cell_type": "code",
   "execution_count": 4,
   "id": "6c24af5c-5101-464c-8700-28c442233cbf",
   "metadata": {
    "tags": []
   },
   "outputs": [],
   "source": [
    "# Filter rows based on desired_icd9codes\n",
    "filtered_df = df[df['icd9code'].isin(specific_icd_numbers)]\n",
    "\n",
    "filtered_df = filtered_df.copy()\n",
    "filtered_df.drop_duplicates(subset='patientunitstayid', keep='first', inplace=True)\n",
    "\n",
    "# Display the filtered DataFrame\n",
    "#display(filtered_df)"
   ]
  },
  {
   "cell_type": "code",
   "execution_count": 5,
   "id": "1cfbd49d-0259-4c4f-bd11-7a15907b6d9e",
   "metadata": {
    "tags": []
   },
   "outputs": [
    {
     "data": {
      "text/plain": [
       "22"
      ]
     },
     "execution_count": 5,
     "metadata": {},
     "output_type": "execute_result"
    }
   ],
   "source": [
    "# Export the filtered DataFrame to a CSV file\n",
    "filtered_df.to_csv(r'CSV\\Exports\\o01_eicu_diagnosis.csv', index=False, header=True)\n",
    "\n",
    "# Free RAM\n",
    "gc.collect()"
   ]
  }
 ],
 "metadata": {
  "kernelspec": {
   "display_name": "Python 3 (ipykernel)",
   "language": "python",
   "name": "python3"
  },
  "language_info": {
   "codemirror_mode": {
    "name": "ipython",
    "version": 3
   },
   "file_extension": ".py",
   "mimetype": "text/x-python",
   "name": "python",
   "nbconvert_exporter": "python",
   "pygments_lexer": "ipython3",
   "version": "3.12.7"
  }
 },
 "nbformat": 4,
 "nbformat_minor": 5
}
