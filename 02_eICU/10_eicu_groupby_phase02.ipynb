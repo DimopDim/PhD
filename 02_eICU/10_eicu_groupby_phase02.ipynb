{
 "cells": [
  {
   "cell_type": "markdown",
   "id": "4881a8d0-8d54-4d3c-9fd7-4e504c31e158",
   "metadata": {},
   "source": [
    "## Groupby 2nd Phase\n",
    "Export the scrolling observation window (Mean, Median, Min, Max) sorted to unique separate files."
   ]
  },
  {
   "cell_type": "code",
   "execution_count": 1,
   "id": "348a067f-20bf-4779-8faf-7ca6a1932c37",
   "metadata": {},
   "outputs": [],
   "source": [
    "import pandas as pd\n",
    "import os\n",
    "import gc"
   ]
  },
  {
   "cell_type": "markdown",
   "id": "51b8046a-6269-427a-a7aa-b861ba04ccfd",
   "metadata": {},
   "source": [
    "## Collecting mean data to one file"
   ]
  },
  {
   "cell_type": "code",
   "execution_count": 2,
   "id": "eeca4bb6-ba9d-458e-9f3f-c9aabe5a9140",
   "metadata": {},
   "outputs": [],
   "source": [
    "# Directory where the CSV files are located\n",
    "csv_directory = 'CSV/Exports/groupby/mean/'\n",
    "\n",
    "# Initialize an empty list to collect DataFrames\n",
    "dfs = []\n",
    "\n",
    "# Iterate through all CSV files in the directory\n",
    "for filename in os.listdir(csv_directory):\n",
    "    if filename.endswith('.csv'):\n",
    "        file_path = os.path.join(csv_directory, filename)\n",
    "        # Read the CSV file\n",
    "        df = pd.read_csv(file_path)\n",
    "        # Filter rows with 'Count' equal to 1 and append to the list\n",
    "        filtered_rows = df[df['Count'] == 1]\n",
    "        dfs.append(filtered_rows)\n",
    "\n",
    "# Concatenate all DataFrames in the list into a single DataFrame\n",
    "combined_data = pd.concat(dfs, ignore_index=True)\n",
    "\n",
    "# Sort\n",
    "combined_data.sort_values(by=['patientunitstayid', 'uniquepid','Time_Zone'], inplace=True)\n",
    "\n",
    "# Remove rows with NaN values in the 'Mean_Chart' column\n",
    "combined_data = combined_data.dropna(subset=['Mean_Chart'])\n",
    "\n",
    "# Save to a CSV file\n",
    "combined_data.to_csv('CSV\\Exports\\groupby\\o01_eicu_grouped_mean.csv', index=False)"
   ]
  },
  {
   "cell_type": "markdown",
   "id": "bc35d9af-079d-4f30-baa1-50aeb53084a7",
   "metadata": {},
   "source": [
    "## Collecting median data to one file"
   ]
  },
  {
   "cell_type": "code",
   "execution_count": 3,
   "id": "a96e6a74-fe91-44a4-a9f7-42e7aad4b509",
   "metadata": {},
   "outputs": [],
   "source": [
    "# Directory where the CSV files are located\n",
    "csv_directory = 'CSV/Exports/groupby/median/'\n",
    "\n",
    "# Initialize an empty list to collect DataFrames\n",
    "dfs = []\n",
    "\n",
    "# Iterate through all CSV files in the directory\n",
    "for filename in os.listdir(csv_directory):\n",
    "    if filename.endswith('.csv'):\n",
    "        file_path = os.path.join(csv_directory, filename)\n",
    "        # Read the CSV file\n",
    "        df = pd.read_csv(file_path)\n",
    "        # Filter rows with 'Count' equal to 1 and append to the list\n",
    "        filtered_rows = df[df['Count'] == 1]\n",
    "        dfs.append(filtered_rows)\n",
    "\n",
    "# Concatenate all DataFrames in the list into a single DataFrame\n",
    "combined_data = pd.concat(dfs, ignore_index=True)\n",
    "\n",
    "# Sort\n",
    "combined_data.sort_values(by=['patientunitstayid', 'uniquepid','Time_Zone'], inplace=True)\n",
    "\n",
    "# Remove rows with NaN values in the 'Mean_Chart' column\n",
    "combined_data = combined_data.dropna(subset=['Median_Chart'])\n",
    "\n",
    "# Save to a CSV file\n",
    "combined_data.to_csv('CSV\\Exports\\groupby\\o02_eicu_grouped_median.csv', index=False)"
   ]
  },
  {
   "cell_type": "markdown",
   "id": "a6f4f15c-fce0-4441-93d5-0f422643613d",
   "metadata": {},
   "source": [
    "## Collecting min data to one file"
   ]
  },
  {
   "cell_type": "code",
   "execution_count": 4,
   "id": "7320c37c-82dc-4e2f-ac53-77aa348aa581",
   "metadata": {},
   "outputs": [],
   "source": [
    "# Directory where the CSV files are located\n",
    "csv_directory = 'CSV/Exports/groupby/min/'\n",
    "\n",
    "# Initialize an empty list to collect DataFrames\n",
    "dfs = []\n",
    "\n",
    "# Iterate through all CSV files in the directory\n",
    "for filename in os.listdir(csv_directory):\n",
    "    if filename.endswith('.csv'):\n",
    "        file_path = os.path.join(csv_directory, filename)\n",
    "        # Read the CSV file\n",
    "        df = pd.read_csv(file_path)\n",
    "        # Filter rows with 'Count' equal to 1 and append to the list\n",
    "        filtered_rows = df[df['Count'] == 1]\n",
    "        dfs.append(filtered_rows)\n",
    "\n",
    "# Concatenate all DataFrames in the list into a single DataFrame\n",
    "combined_data = pd.concat(dfs, ignore_index=True)\n",
    "\n",
    "# Sort\n",
    "combined_data.sort_values(by=['patientunitstayid', 'uniquepid','Time_Zone'], inplace=True)\n",
    "\n",
    "# Remove rows with NaN values in the 'Mean_Chart' column\n",
    "combined_data = combined_data.dropna(subset=['Min_Chart'])\n",
    "\n",
    "# Save to a CSV file\n",
    "combined_data.to_csv('CSV\\Exports\\groupby\\o03_eicu_grouped_min.csv', index=False)"
   ]
  },
  {
   "cell_type": "markdown",
   "id": "2bdf5eec-c95f-4d65-841b-c75b7603f172",
   "metadata": {},
   "source": [
    "# Collecting max data to one file"
   ]
  },
  {
   "cell_type": "code",
   "execution_count": 5,
   "id": "39465010-11f6-41ca-aab8-c408e6824f57",
   "metadata": {},
   "outputs": [],
   "source": [
    "# Directory where the CSV files are located\n",
    "csv_directory = 'CSV/Exports/groupby/max/'\n",
    "\n",
    "# Initialize an empty list to collect DataFrames\n",
    "dfs = []\n",
    "\n",
    "# Iterate through all CSV files in the directory\n",
    "for filename in os.listdir(csv_directory):\n",
    "    if filename.endswith('.csv'):\n",
    "        file_path = os.path.join(csv_directory, filename)\n",
    "        # Read the CSV file\n",
    "        df = pd.read_csv(file_path)\n",
    "        # Filter rows with 'Count' equal to 1 and append to the list\n",
    "        filtered_rows = df[df['Count'] == 1]\n",
    "        dfs.append(filtered_rows)\n",
    "\n",
    "# Concatenate all DataFrames in the list into a single DataFrame\n",
    "combined_data = pd.concat(dfs, ignore_index=True)\n",
    "\n",
    "# Sort\n",
    "combined_data.sort_values(by=['patientunitstayid', 'uniquepid','Time_Zone'], inplace=True)\n",
    "\n",
    "# Remove rows with NaN values in the 'Mean_Chart' column\n",
    "combined_data = combined_data.dropna(subset=['Max_Chart'])\n",
    "\n",
    "# Save to a CSV file\n",
    "combined_data.to_csv('CSV\\Exports\\groupby\\o04_eicu_grouped_max.csv', index=False)"
   ]
  }
 ],
 "metadata": {
  "kernelspec": {
   "display_name": "Python 3 (ipykernel)",
   "language": "python",
   "name": "python3"
  },
  "language_info": {
   "codemirror_mode": {
    "name": "ipython",
    "version": 3
   },
   "file_extension": ".py",
   "mimetype": "text/x-python",
   "name": "python",
   "nbconvert_exporter": "python",
   "pygments_lexer": "ipython3",
   "version": "3.9.18"
  }
 },
 "nbformat": 4,
 "nbformat_minor": 5
}
