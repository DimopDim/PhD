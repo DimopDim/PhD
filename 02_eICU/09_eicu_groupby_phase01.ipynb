{
 "cells": [
  {
   "cell_type": "markdown",
   "id": "a3d8ecc6-f6b8-4ce7-8d39-38e46b35f5d5",
   "metadata": {},
   "source": [
    "# Groupby phase 01\n",
    "\n",
    "## Create rows for the final table and groupby results\n",
    "\n",
    "Attention: In the third block of code we must set the time window"
   ]
  },
  {
   "cell_type": "code",
   "execution_count": 1,
   "id": "48503132-75bb-4114-9776-954acf93e811",
   "metadata": {},
   "outputs": [
    {
     "name": "stderr",
     "output_type": "stream",
     "text": [
      "C:\\Users\\dimop\\AppData\\Local\\Temp\\ipykernel_7436\\1768891953.py:14: DtypeWarning: Columns (5) have mixed types. Specify dtype option on import or set low_memory=False.\n",
      "  total_df = pd.read_csv(total_path)\n"
     ]
    }
   ],
   "source": [
    "import pandas as pd\n",
    "import gc\n",
    "import gzip\n",
    "import os\n",
    "from datetime import datetime, timedelta\n",
    "\n",
    "# Set the display option to show all columns\n",
    "pd.set_option('display.max_columns', None)\n",
    "\n",
    "# Total file \n",
    "total_path = 'CSV\\Exports\\o10_eicu_four_concat_dataframes.csv'\n",
    "\n",
    "# Read the CSV file\n",
    "total_df = pd.read_csv(total_path)\n",
    "\n",
    "# Copy the total_df in order to create the rows for the final table\n",
    "temp_df = total_df[['uniquepid', 'patientunitstayid']].copy()\n",
    "\n",
    "# Keep only unique values in the 'patientunitstayid' column\n",
    "temp_df = temp_df.drop_duplicates(subset='patientunitstayid', keep='first')\n",
    "\n",
    "# Sort the DataFrame by multiple columns\n",
    "total_df = total_df.sort_values(by=['patientunitstayid', 'uniquepid', 'offset'])"
   ]
  },
  {
   "cell_type": "code",
   "execution_count": 2,
   "id": "0980c974-96de-4289-a544-928c6268bd21",
   "metadata": {},
   "outputs": [],
   "source": [
    "\"\"\"\n",
    "Creating a new column with the name charttime \n",
    "in order to groupby the result values based on\n",
    "time. \n",
    "\"\"\"\n",
    "\n",
    "# Convert 'offset' to timedelta and add it to the datetime threshold\n",
    "threshold_datetime = datetime(2130, 1, 1, 0, 0, 0)\n",
    "total_df['charttime'] = threshold_datetime + pd.to_timedelta(total_df['offset'], unit='m')\n",
    "\n",
    "# Convert charttime column from object to datetime\n",
    "total_df['charttime']= pd.to_datetime(total_df['charttime'])"
   ]
  },
  {
   "cell_type": "code",
   "execution_count": 3,
   "id": "5196f2b4-3075-414a-8798-92a3924c1d3c",
   "metadata": {},
   "outputs": [],
   "source": [
    "# Initialize time window (start, increase and end)\n",
    "start_increase_time = 3\n",
    "end_time = 48"
   ]
  },
  {
   "cell_type": "code",
   "execution_count": 4,
   "id": "1c9590ad-52dc-4b78-8f28-823bebe5ca21",
   "metadata": {},
   "outputs": [],
   "source": [
    "\"\"\"\n",
    "Putting a new column at the end of the temp_df\n",
    "which are going to use it as an index for the time\n",
    "window.\n",
    "\"\"\"\n",
    "\n",
    "# Repeat each row based on the end_time/start_increase_time calculation\n",
    "temp_df = temp_df.loc[temp_df.index.repeat(end_time/start_increase_time)].reset_index(drop=True)\n",
    "\n",
    "# Create the \"Time_Zone\" column and count the occurrences of subject_id\n",
    "temp_df['Time_Zone'] = temp_df.groupby('patientunitstayid').cumcount() + 1\n",
    "\n",
    "# Save the resulting DataFrame to a new CSV file\n",
    "temp_df.to_csv('CSV\\Exports\\o09_table_rows.csv', index=False)"
   ]
  },
  {
   "cell_type": "markdown",
   "id": "7e650bc3-8c4c-465a-8a80-0a401f4e366e",
   "metadata": {},
   "source": [
    "# Mean Calculation"
   ]
  },
  {
   "cell_type": "code",
   "execution_count": 5,
   "id": "7cd21b9f-4c48-4c64-a633-f257b87c41ab",
   "metadata": {},
   "outputs": [],
   "source": [
    "# Initialize the starting time window\n",
    "time_window = pd.Timedelta(hours=start_increase_time)\n",
    "\n",
    "# Define the desired time window\n",
    "desired_time_window = pd.Timedelta(hours=end_time)\n",
    "\n",
    "# Initialize a counter to track iterations\n",
    "iteration = 1\n",
    "\n",
    "# Define the directory path for saving files\n",
    "output_directory = 'CSV/Exports/groupby/mean/'\n",
    "\n",
    "# Create the directory if it doesn't exist\n",
    "os.makedirs(output_directory, exist_ok=True)\n",
    "\n",
    "# Convert 'result' column to numeric, handling non-convertible values with errors='coerce'\n",
    "total_df['result'] = pd.to_numeric(total_df['result'], errors='coerce')\n",
    "\n",
    "# Loop through the time windows\n",
    "while time_window <= desired_time_window:\n",
    "    grouped_multiple = (total_df.groupby(['patientunitstayid',\n",
    "                                          'uniquepid',\n",
    "                                          'observation',\n",
    "                                          pd.Grouper(key='charttime',\n",
    "                                                     freq=time_window)])\n",
    "                        .agg({'result': ['mean']}))\n",
    "    grouped_multiple.columns = ['Mean_Chart']\n",
    "    grouped_multiple = grouped_multiple.reset_index()\n",
    "    \n",
    "    # Add a new column that counts from 1 for each unique combination\n",
    "    grouped_multiple['Count'] = grouped_multiple.groupby(['patientunitstayid', 'uniquepid', 'observation']).cumcount() + 1\n",
    "    \n",
    "    # Add a 'File_Number' column with the current iteration value\n",
    "    grouped_multiple['Time_Zone'] = iteration\n",
    "    \n",
    "    # Define the file path with forward slashes\n",
    "    result_file_name = os.path.join(output_directory, f'results_iteration_mean_o{iteration}.csv')\n",
    "    grouped_multiple.to_csv(result_file_name, index=False)\n",
    "    \n",
    "    # Increase the time window by 3 hours\n",
    "    time_window += pd.Timedelta(hours=start_increase_time)\n",
    "    \n",
    "    # Increment the iteration counter\n",
    "    iteration += 1"
   ]
  },
  {
   "cell_type": "markdown",
   "id": "ef1abc46-3ce0-4aaf-9dbc-8ae8fd8cdffb",
   "metadata": {},
   "source": [
    "# Median Calculation"
   ]
  },
  {
   "cell_type": "code",
   "execution_count": 6,
   "id": "b739ac45-afdd-4905-90f6-47da00ec857e",
   "metadata": {},
   "outputs": [],
   "source": [
    "# Initialize the starting time window\n",
    "time_window = pd.Timedelta(hours=start_increase_time)\n",
    "\n",
    "# Define the desired time window\n",
    "desired_time_window = pd.Timedelta(hours=end_time)\n",
    "\n",
    "# Initialize a counter to track iterations\n",
    "iteration = 1\n",
    "\n",
    "# Define the directory path for saving files\n",
    "output_directory = 'CSV/Exports/groupby/median/'\n",
    "\n",
    "# Create the directory if it doesn't exist\n",
    "os.makedirs(output_directory, exist_ok=True)\n",
    "\n",
    "# Convert 'result' column to numeric, handling non-convertible values with errors='coerce'\n",
    "total_df['result'] = pd.to_numeric(total_df['result'], errors='coerce')\n",
    "\n",
    "# Loop through the time windows\n",
    "while time_window <= desired_time_window:\n",
    "    grouped_multiple = (total_df.groupby(['patientunitstayid',\n",
    "                                          'uniquepid',\n",
    "                                          'observation',\n",
    "                                          pd.Grouper(key='charttime',\n",
    "                                                     freq=time_window)])\n",
    "                        .agg({'result': ['median']}))\n",
    "    grouped_multiple.columns = ['Median_Chart']\n",
    "    grouped_multiple = grouped_multiple.reset_index()\n",
    "    \n",
    "    # Add a new column that counts from 1 for each unique combination\n",
    "    grouped_multiple['Count'] = grouped_multiple.groupby(['patientunitstayid', 'uniquepid', 'observation']).cumcount() + 1\n",
    "    \n",
    "    # Add a 'File_Number' column with the current iteration value\n",
    "    grouped_multiple['Time_Zone'] = iteration\n",
    "    \n",
    "    # Define the file path with forward slashes\n",
    "    result_file_name = os.path.join(output_directory, f'results_iteration_median_o{iteration}.csv')\n",
    "    grouped_multiple.to_csv(result_file_name, index=False)\n",
    "    \n",
    "    # Increase the time window by 3 hours\n",
    "    time_window += pd.Timedelta(hours=start_increase_time)\n",
    "    \n",
    "    # Increment the iteration counter\n",
    "    iteration += 1"
   ]
  },
  {
   "cell_type": "markdown",
   "id": "b3a82aaf-b373-4b75-b335-d37aecf01675",
   "metadata": {},
   "source": [
    "# Min Calculation"
   ]
  },
  {
   "cell_type": "code",
   "execution_count": 7,
   "id": "980d5b4e-0f96-414a-a465-63e7bebe5d4f",
   "metadata": {},
   "outputs": [],
   "source": [
    "# Initialize the starting time window\n",
    "time_window = pd.Timedelta(hours=start_increase_time)\n",
    "\n",
    "# Define the desired time window\n",
    "desired_time_window = pd.Timedelta(hours=end_time)\n",
    "\n",
    "# Initialize a counter to track iterations\n",
    "iteration = 1\n",
    "\n",
    "# Define the directory path for saving files\n",
    "output_directory = 'CSV/Exports/groupby/min/'\n",
    "\n",
    "# Create the directory if it doesn't exist\n",
    "os.makedirs(output_directory, exist_ok=True)\n",
    "\n",
    "# Convert 'result' column to numeric, handling non-convertible values with errors='coerce'\n",
    "total_df['result'] = pd.to_numeric(total_df['result'], errors='coerce')\n",
    "\n",
    "# Loop through the time windows\n",
    "while time_window <= desired_time_window:\n",
    "    grouped_multiple = (total_df.groupby(['patientunitstayid',\n",
    "                                          'uniquepid',\n",
    "                                          'observation',\n",
    "                                          pd.Grouper(key='charttime',\n",
    "                                                     freq=time_window)])\n",
    "                        .agg({'result': ['min']}))\n",
    "    grouped_multiple.columns = ['Min_Chart']\n",
    "    grouped_multiple = grouped_multiple.reset_index()\n",
    "    \n",
    "    # Add a new column that counts from 1 for each unique combination\n",
    "    grouped_multiple['Count'] = grouped_multiple.groupby(['patientunitstayid', 'uniquepid', 'observation']).cumcount() + 1\n",
    "    \n",
    "    # Add a 'File_Number' column with the current iteration value\n",
    "    grouped_multiple['Time_Zone'] = iteration\n",
    "    \n",
    "    # Define the file path with forward slashes\n",
    "    result_file_name = os.path.join(output_directory, f'results_iteration_min_o{iteration}.csv')\n",
    "    grouped_multiple.to_csv(result_file_name, index=False)\n",
    "    \n",
    "    # Increase the time window by 3 hours\n",
    "    time_window += pd.Timedelta(hours=start_increase_time)\n",
    "    \n",
    "    # Increment the iteration counter\n",
    "    iteration += 1"
   ]
  },
  {
   "cell_type": "markdown",
   "id": "a76207ee-d390-44b0-a996-867f3cb6dedc",
   "metadata": {},
   "source": [
    "# Max Calculation"
   ]
  },
  {
   "cell_type": "code",
   "execution_count": 8,
   "id": "f9604be7-b8c9-4dde-b732-33a3cc90e4e3",
   "metadata": {},
   "outputs": [],
   "source": [
    "# Initialize the starting time window\n",
    "time_window = pd.Timedelta(hours=start_increase_time)\n",
    "\n",
    "# Define the desired time window\n",
    "desired_time_window = pd.Timedelta(hours=end_time)\n",
    "\n",
    "# Initialize a counter to track iterations\n",
    "iteration = 1\n",
    "\n",
    "# Define the directory path for saving files\n",
    "output_directory = 'CSV/Exports/groupby/max/'\n",
    "\n",
    "# Create the directory if it doesn't exist\n",
    "os.makedirs(output_directory, exist_ok=True)\n",
    "\n",
    "# Convert 'result' column to numeric, handling non-convertible values with errors='coerce'\n",
    "total_df['result'] = pd.to_numeric(total_df['result'], errors='coerce')\n",
    "\n",
    "# Loop through the time windows\n",
    "while time_window <= desired_time_window:\n",
    "    grouped_multiple = (total_df.groupby(['patientunitstayid',\n",
    "                                          'uniquepid',\n",
    "                                          'observation',\n",
    "                                          pd.Grouper(key='charttime',\n",
    "                                                     freq=time_window)])\n",
    "                        .agg({'result': ['max']}))\n",
    "    grouped_multiple.columns = ['Max_Chart']\n",
    "    grouped_multiple = grouped_multiple.reset_index()\n",
    "    \n",
    "    # Add a new column that counts from 1 for each unique combination\n",
    "    grouped_multiple['Count'] = grouped_multiple.groupby(['patientunitstayid', 'uniquepid', 'observation']).cumcount() + 1\n",
    "    \n",
    "    # Add a 'File_Number' column with the current iteration value\n",
    "    grouped_multiple['Time_Zone'] = iteration\n",
    "    \n",
    "    # Define the file path with forward slashes\n",
    "    result_file_name = os.path.join(output_directory, f'results_iteration_max_o{iteration}.csv')\n",
    "    grouped_multiple.to_csv(result_file_name, index=False)\n",
    "    \n",
    "    # Increase the time window by 3 hours\n",
    "    time_window += pd.Timedelta(hours=start_increase_time)\n",
    "    \n",
    "    # Increment the iteration counter\n",
    "    iteration += 1"
   ]
  },
  {
   "cell_type": "code",
   "execution_count": 9,
   "id": "4ad57e5d-4239-4b23-977c-f82bd5bd0efb",
   "metadata": {},
   "outputs": [
    {
     "data": {
      "text/plain": [
       "0"
      ]
     },
     "execution_count": 9,
     "metadata": {},
     "output_type": "execute_result"
    }
   ],
   "source": [
    "# Free Ram\n",
    "total_df = None\n",
    "temp_df = None\n",
    "grouped_multiple = None\n",
    "\n",
    "gc.collect()"
   ]
  }
 ],
 "metadata": {
  "kernelspec": {
   "display_name": "Python 3 (ipykernel)",
   "language": "python",
   "name": "python3"
  },
  "language_info": {
   "codemirror_mode": {
    "name": "ipython",
    "version": 3
   },
   "file_extension": ".py",
   "mimetype": "text/x-python",
   "name": "python",
   "nbconvert_exporter": "python",
   "pygments_lexer": "ipython3",
   "version": "3.9.18"
  }
 },
 "nbformat": 4,
 "nbformat_minor": 5
}
