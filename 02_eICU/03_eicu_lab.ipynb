{
 "cells": [
  {
   "cell_type": "markdown",
   "id": "1141868e-21c6-410a-a946-022695d1e60a",
   "metadata": {},
   "source": [
    "# Collect data from lab"
   ]
  },
  {
   "cell_type": "code",
   "execution_count": 1,
   "id": "db8766b4-2d7c-41ee-87d0-1aa8c8959ebe",
   "metadata": {
    "tags": []
   },
   "outputs": [],
   "source": [
    "import gc\n",
    "import gzip\n",
    "import pandas as pd\n",
    "\n",
    "# Diagnosis file \n",
    "admissions_path = r'CSV\\Exports\\o02_eicu_unique_admissions.csv'\n",
    "\n",
    "compressed_file_path = r\"..\\00_Datasets\\eicu-2_0\\lab.csv.gz\"\n",
    "\n",
    "df = pd.read_csv(compressed_file_path, compression='gzip')\n",
    "\n",
    "# Read the specific ICD codes from a CSV file\n",
    "admissions_df = pd.read_csv(admissions_path)"
   ]
  },
  {
   "cell_type": "code",
   "execution_count": 2,
   "id": "9899001d-723f-4fd9-a648-62761bcdd835",
   "metadata": {
    "tags": []
   },
   "outputs": [],
   "source": [
    "merged_df = admissions_df.merge(df, on='patientunitstayid', how='inner')\n",
    "\n",
    "# List of columns to be dropped\n",
    "columns_to_drop = ['activeupondischarge', 'diagnosispriority', 'diagnosisstring', 'icd9code',\n",
    "                   'diagnosispriority', 'patienthealthsystemstayid', 'diagnosispriority',\n",
    "                   'hospitalid', 'wardid', 'hospitaladmitoffset', 'hospitaladmitsource',\n",
    "                   'hospitaldischargeyear', 'hospitaldischargetime24', 'hospitaldischargeoffset',\n",
    "                   'hospitaldischargestatus', 'unittype', 'unitadmitsource', 'unitstaytype',\n",
    "                   'unitdischargetime24', 'unitdischargeoffset', 'unitdischargelocation',\n",
    "                   'order_of_appearance', 'labtypeid', 'labresulttext', 'labmeasurenameinterface',\n",
    "                   'diagnosisoffset', 'apacheadmissiondx', 'hospitaladmittime24', 'hospitaldischargelocation',\n",
    "                   'unitvisitnumber', 'labid', 'gender', 'age', 'ethnicity', 'admissionheight', 'unitadmittime24',\n",
    "                   'admissionweight', 'dischargeweight', 'labresultrevisedoffset', 'unitdischargestatus', 'diagnosisid']\n",
    "\n",
    "# Drop the specified columns\n",
    "merged_df = merged_df.drop(columns=columns_to_drop)"
   ]
  },
  {
   "cell_type": "code",
   "execution_count": 3,
   "id": "5cb6e3af-54c2-4fca-a2fd-f885657a6fe0",
   "metadata": {
    "tags": []
   },
   "outputs": [],
   "source": [
    "# Filtering out rows with negative values in the labresultoffset column\n",
    "merged_df = merged_df[merged_df['labresultoffset'] >= 0]\n",
    "\n",
    "# Optional: Resetting the index if you want consecutive integer indices\n",
    "merged_df.reset_index(drop=True, inplace=True)"
   ]
  },
  {
   "cell_type": "code",
   "execution_count": 4,
   "id": "388a3c6f-762e-488e-a699-9744352a2a4f",
   "metadata": {
    "tags": []
   },
   "outputs": [
    {
     "data": {
      "text/plain": [
       "0"
      ]
     },
     "execution_count": 4,
     "metadata": {},
     "output_type": "execute_result"
    }
   ],
   "source": [
    "# Export the filtered DataFrame to a CSV file\n",
    "merged_df.to_csv(r'CSV\\Exports\\o03_eicu_lab.csv', index=False, header=True)\n",
    "\n",
    "# Free RAM\n",
    "gc.collect()"
   ]
  }
 ],
 "metadata": {
  "kernelspec": {
   "display_name": "Python 3 (ipykernel)",
   "language": "python",
   "name": "python3"
  },
  "language_info": {
   "codemirror_mode": {
    "name": "ipython",
    "version": 3
   },
   "file_extension": ".py",
   "mimetype": "text/x-python",
   "name": "python",
   "nbconvert_exporter": "python",
   "pygments_lexer": "ipython3",
   "version": "3.12.7"
  }
 },
 "nbformat": 4,
 "nbformat_minor": 5
}
