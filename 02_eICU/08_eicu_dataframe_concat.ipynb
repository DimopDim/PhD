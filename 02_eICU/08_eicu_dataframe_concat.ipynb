{
 "cells": [
  {
   "cell_type": "code",
   "execution_count": 1,
   "id": "4fb01da8-9bc7-4f06-89ce-c4cb49c13fff",
   "metadata": {},
   "outputs": [],
   "source": [
    "import gc\n",
    "import gzip\n",
    "import pandas as pd\n",
    "\n",
    "# Set the display option to show all columns\n",
    "pd.set_option('display.max_columns', None)\n",
    "\n",
    "# lab file \n",
    "lab_path = 'CSV\\Exports\\o04_eicu_lab_final.csv'\n",
    "\n",
    "# Nurse Charting file \n",
    "nursechart_path = 'CSV\\Exports\\o05_eicu_nurseCharting_final.csv'\n",
    "\n",
    "# Nurse Charting file \n",
    "vitalperiodic_path = 'CSV\\Exports\\o06_eicu_vitalperiodic.csv'\n",
    "\n",
    "# Nurse Charting file \n",
    "vitalaperiodic_path = 'CSV\\Exports\\o07_eicu_vitalaperiodic.csv'\n",
    "\n",
    "lab_df = pd.read_csv(lab_path)\n",
    "\n",
    "nursechart_df = pd.read_csv(nursechart_path)\n",
    "\n",
    "vitalperiodic_df = pd.read_csv(vitalperiodic_path)\n",
    "\n",
    "vitalaperiodic_df = pd.read_csv(vitalaperiodic_path)"
   ]
  },
  {
   "cell_type": "code",
   "execution_count": 2,
   "id": "221143f1-564c-4df6-aa88-4af01f23b219",
   "metadata": {
    "tags": []
   },
   "outputs": [],
   "source": [
    "\"\"\"Change the shape of vital periodic to be the same with other dataframes.\"\"\"\n",
    "\n",
    "# Melt the dataframe to reshape it\n",
    "melted_periodic_df = pd.melt(vitalperiodic_df, id_vars=['uniquepid', 'patientunitstayid', 'observationoffset'],\n",
    "                    var_name='resultname', value_name='resultvalue')\n",
    "# Sort the melted dataframe by 'uniquepid'\n",
    "melted_periodic_df = melted_periodic_df.sort_values(by='uniquepid')\n",
    "\n",
    "# Remove rows with NaN values in 'resultvalue'\n",
    "melted_periodic_df = melted_periodic_df.dropna(subset=['resultvalue'])\n",
    "\n",
    "# Export the filtered DataFrame to a CSV file\n",
    "melted_periodic_df.to_csv('CSV\\Exports\\o08_eicu_vitalperiodic_final.csv', index=False, header=True)"
   ]
  },
  {
   "cell_type": "code",
   "execution_count": 3,
   "id": "81846edd-9c32-40de-9439-46662e4ad8fc",
   "metadata": {
    "tags": []
   },
   "outputs": [],
   "source": [
    "\"\"\"Change the shape of vital aperiodic to be the same with other dataframes.\"\"\"\n",
    "\n",
    "# Melt the dataframe to reshape it\n",
    "melted_aperiodic_df = pd.melt(vitalaperiodic_df, id_vars=['uniquepid', 'patientunitstayid', 'observationoffset'],\n",
    "                    var_name='resultname', value_name='resultvalue')\n",
    "# Sort the melted dataframe by 'uniquepid'\n",
    "melted_aperiodic_df = melted_aperiodic_df.sort_values(by='uniquepid')\n",
    "\n",
    "# Remove rows with NaN values in 'resultvalue'\n",
    "melted_aperiodic_df = melted_aperiodic_df.dropna(subset=['resultvalue'])\n",
    "\n",
    "# Export the filtered DataFrame to a CSV file\n",
    "melted_aperiodic_df.to_csv('CSV\\Exports\\o09_eicu_vitalaperiodic_final.csv', index=False, header=True)"
   ]
  },
  {
   "cell_type": "code",
   "execution_count": 4,
   "id": "8f8f7edd-006d-4cfc-a0ab-6e81896b4f33",
   "metadata": {
    "tags": []
   },
   "outputs": [],
   "source": [
    "\"\"\"lab_df reformation\"\"\"\n",
    "\n",
    "column_to_remove = 'labmeasurenamesystem'\n",
    "\n",
    "# Use the drop method to remove the specified column\n",
    "lab_df = lab_df.drop(column_to_remove, axis=1)\n",
    "\n",
    "lab_df.rename(columns={'labresultoffset': 'offset', 'labname': 'observation',\n",
    "                       'labresult': 'result'}, inplace=True)"
   ]
  },
  {
   "cell_type": "code",
   "execution_count": 5,
   "id": "e3d27363-6402-4a66-b584-02d30c36df18",
   "metadata": {
    "tags": []
   },
   "outputs": [],
   "source": [
    "\"\"\"nursechart_df reformation\"\"\"\n",
    "\n",
    "nursechart_df.rename(columns={'nursingchartoffset': 'offset',\n",
    "                              'nursingchartcelltypevalname': 'observation',\n",
    "                              'nursingchartvalue': 'result'}, inplace=True)"
   ]
  },
  {
   "cell_type": "code",
   "execution_count": 6,
   "id": "f626da3f-554f-42da-8eaf-619bf13850aa",
   "metadata": {
    "tags": []
   },
   "outputs": [],
   "source": [
    "\"\"\"melted_periodic_df reformation\"\"\"\n",
    "\n",
    "melted_periodic_df.rename(columns={'observationoffset': 'offset',\n",
    "                                   'resultname': 'observation',\n",
    "                                   'resultvalue': 'result'}, inplace=True)"
   ]
  },
  {
   "cell_type": "code",
   "execution_count": 7,
   "id": "c4c3733f-6fcf-4550-adc7-afc672ba643a",
   "metadata": {
    "tags": []
   },
   "outputs": [],
   "source": [
    "\"\"\"melted_aperiodic_df reformation\"\"\"\n",
    "\n",
    "melted_aperiodic_df.rename(columns={'observationoffset': 'offset',\n",
    "                                    'resultname': 'observation',\n",
    "                                    'resultvalue': 'result'}, inplace=True)"
   ]
  },
  {
   "cell_type": "code",
   "execution_count": 8,
   "id": "9b4b3cc2-aa09-4d0a-943d-c08778f07c1b",
   "metadata": {
    "tags": []
   },
   "outputs": [],
   "source": [
    "# concatenate the four dataframes one on top of the other. \n",
    "result = pd.concat([lab_df, nursechart_df, melted_periodic_df, melted_aperiodic_df], axis=0, ignore_index=True)"
   ]
  },
  {
   "cell_type": "code",
   "execution_count": 9,
   "id": "a4a1d91a-71a8-4c9a-8846-f961a26a3a74",
   "metadata": {
    "tags": []
   },
   "outputs": [
    {
     "data": {
      "text/plain": [
       "0"
      ]
     },
     "execution_count": 9,
     "metadata": {},
     "output_type": "execute_result"
    }
   ],
   "source": [
    "# Export the DataFrame to a CSV file\n",
    "result.to_csv('CSV\\Exports\\o10_eicu_four_concat_dataframes.csv', index=False, header=True)\n",
    "\n",
    "# Free RAM\n",
    "lab_df = None\n",
    "result = None\n",
    "nursechart_df = None\n",
    "vitalperiodic_df = None\n",
    "vitalaperiodic_df = None\n",
    "melted_periodic_df = None\n",
    "melted_aperiodic_df = None\n",
    "gc.collect()"
   ]
  }
 ],
 "metadata": {
  "kernelspec": {
   "display_name": "Python 3 (ipykernel)",
   "language": "python",
   "name": "python3"
  },
  "language_info": {
   "codemirror_mode": {
    "name": "ipython",
    "version": 3
   },
   "file_extension": ".py",
   "mimetype": "text/x-python",
   "name": "python",
   "nbconvert_exporter": "python",
   "pygments_lexer": "ipython3",
   "version": "3.9.18"
  }
 },
 "nbformat": 4,
 "nbformat_minor": 5
}
