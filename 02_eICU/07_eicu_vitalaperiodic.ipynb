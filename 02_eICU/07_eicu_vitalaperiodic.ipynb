{
 "cells": [
  {
   "cell_type": "markdown",
   "id": "7aa1a114-d081-4c3e-a363-9d0ae4bcc686",
   "metadata": {},
   "source": [
    "# Collecting vital aperiodic data."
   ]
  },
  {
   "cell_type": "code",
   "execution_count": 1,
   "id": "ae5745d3-efd0-4bd9-9cc0-3a6fa733c616",
   "metadata": {},
   "outputs": [],
   "source": [
    "import gc\n",
    "import gzip\n",
    "import pandas as pd\n",
    "\n",
    "# Set the display option to show all columns\n",
    "pd.set_option('display.max_columns', None)\n",
    "\n",
    "# Diagnosis file \n",
    "admissions_path = 'CSV\\Exports\\o02_eicu_unique_admissions.csv'\n",
    "\n",
    "compressed_file_path = r\"..\\Datasets\\eicu-2_0\\vitalaperiodic.csv.gz\"\n",
    "\n",
    "df = pd.read_csv(compressed_file_path, compression='gzip')\n",
    "\n",
    "# Read the specific ICD codes from a CSV file\n",
    "admissions_df = pd.read_csv(admissions_path)\n",
    "\n",
    "# Select only the specified columns\n",
    "admissions_df = admissions_df[['uniquepid', 'patientunitstayid']]"
   ]
  },
  {
   "cell_type": "code",
   "execution_count": 2,
   "id": "7c3b2c19-0645-43b8-9db4-7f5d786e7edd",
   "metadata": {
    "tags": []
   },
   "outputs": [],
   "source": [
    "# Merge table\n",
    "merged_df = admissions_df.merge(df, on='patientunitstayid', how='inner')\n",
    "\n",
    "# Filtering out rows with negative values in the labresultoffset column\n",
    "merged_df = merged_df[merged_df['observationoffset'] >= 0]\n",
    "\n",
    "# Replace 'vitalaperiodicid' with the actual column name you want to remove\n",
    "column_to_remove = 'vitalaperiodicid'\n",
    "\n",
    "# Use the drop method to remove the specified column\n",
    "merged_df = merged_df.drop(column_to_remove, axis=1)"
   ]
  },
  {
   "cell_type": "code",
   "execution_count": 3,
   "id": "dc1de1e1-c175-431a-92b6-cd35969ffe09",
   "metadata": {},
   "outputs": [
    {
     "data": {
      "text/plain": [
       "0"
      ]
     },
     "execution_count": 3,
     "metadata": {},
     "output_type": "execute_result"
    }
   ],
   "source": [
    "# Export the filtered DataFrame to a CSV file\n",
    "merged_df.to_csv('CSV\\Exports\\o07_eicu_vitalaperiodic.csv', index=False, header=True)\n",
    "\n",
    "# Free RAM\n",
    "df = None\n",
    "merged_df = None\n",
    "admissions_df = None\n",
    "gc.collect()"
   ]
  }
 ],
 "metadata": {
  "kernelspec": {
   "display_name": "Python 3 (ipykernel)",
   "language": "python",
   "name": "python3"
  },
  "language_info": {
   "codemirror_mode": {
    "name": "ipython",
    "version": 3
   },
   "file_extension": ".py",
   "mimetype": "text/x-python",
   "name": "python",
   "nbconvert_exporter": "python",
   "pygments_lexer": "ipython3",
   "version": "3.9.18"
  }
 },
 "nbformat": 4,
 "nbformat_minor": 5
}
