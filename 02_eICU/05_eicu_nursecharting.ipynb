{
 "cells": [
  {
   "cell_type": "markdown",
   "id": "e4999a37-28cc-4de1-9c31-b09aa937d0bb",
   "metadata": {},
   "source": [
    "# Collecting data from nursecharting table."
   ]
  },
  {
   "cell_type": "code",
   "execution_count": 1,
   "id": "ae5745d3-efd0-4bd9-9cc0-3a6fa733c616",
   "metadata": {},
   "outputs": [],
   "source": [
    "import gc\n",
    "import gzip\n",
    "import pandas as pd\n",
    "\n",
    "# Diagnosis file \n",
    "admissions_path = r'CSV\\Exports\\o02_eicu_unique_admissions.csv'\n",
    "\n",
    "compressed_file_path = r\"..\\00_Datasets\\eicu-2_0\\nursecharting.csv.gz\"\n",
    "\n",
    "df = pd.read_csv(compressed_file_path, compression='gzip')\n",
    "\n",
    "# Read the specific ICD codes from a CSV file\n",
    "admissions_df = pd.read_csv(admissions_path)\n",
    "\n",
    "# Select only the specified columns\n",
    "admissions_df = admissions_df[['uniquepid', 'patientunitstayid']]"
   ]
  },
  {
   "cell_type": "code",
   "execution_count": 2,
   "id": "c9ad3064-9d6c-41c2-b02e-fb4ecbda6ccc",
   "metadata": {
    "tags": []
   },
   "outputs": [],
   "source": [
    "# Merge table\n",
    "merged_df = admissions_df.merge(df, on='patientunitstayid', how='inner')\n",
    "\n",
    "# Filtering out rows with negative values in the labresultoffset column\n",
    "merged_df = merged_df[merged_df['nursingchartentryoffset'] >= 0]\n",
    "\n",
    "# List of columns to be dropped\n",
    "columns_to_drop = ['nursingchartid', 'nursingchartentryoffset', 'nursingchartcelltypecat', 'nursingchartcelltypevallabel']\n",
    "\n",
    "# Drop the specified columns\n",
    "merged_df = merged_df.drop(columns=columns_to_drop)"
   ]
  },
  {
   "cell_type": "code",
   "execution_count": 3,
   "id": "6f090366-9dd0-43be-906b-361aaeb450d7",
   "metadata": {
    "tags": []
   },
   "outputs": [
    {
     "data": {
      "text/plain": [
       "0"
      ]
     },
     "execution_count": 3,
     "metadata": {},
     "output_type": "execute_result"
    }
   ],
   "source": [
    "# Export the filtered DataFrame to a CSV file\n",
    "merged_df.to_csv(r'CSV\\Exports\\o05_eicu_nurseCharting_final.csv', index=False, header=True)\n",
    "\n",
    "# Free RAM\n",
    "df = None\n",
    "merged_df = None\n",
    "admissions_df = None\n",
    "gc.collect()"
   ]
  }
 ],
 "metadata": {
  "kernelspec": {
   "display_name": "Python 3 (ipykernel)",
   "language": "python",
   "name": "python3"
  },
  "language_info": {
   "codemirror_mode": {
    "name": "ipython",
    "version": 3
   },
   "file_extension": ".py",
   "mimetype": "text/x-python",
   "name": "python",
   "nbconvert_exporter": "python",
   "pygments_lexer": "ipython3",
   "version": "3.12.7"
  }
 },
 "nbformat": 4,
 "nbformat_minor": 5
}
