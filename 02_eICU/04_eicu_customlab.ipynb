{
 "cells": [
  {
   "cell_type": "markdown",
   "id": "1141868e-21c6-410a-a946-022695d1e60a",
   "metadata": {},
   "source": [
    "# Creating the final lab table using data from lab and customlab tables"
   ]
  },
  {
   "cell_type": "code",
   "execution_count": 1,
   "id": "db8766b4-2d7c-41ee-87d0-1aa8c8959ebe",
   "metadata": {
    "tags": []
   },
   "outputs": [],
   "source": [
    "import gc\n",
    "import gzip\n",
    "import pandas as pd\n",
    "\n",
    "# Set the display option to show all columns\n",
    "pd.set_option('display.max_columns', None)\n",
    "\n",
    "# Diagnosis file \n",
    "admissions_path = 'CSV\\Exports\\o02_eicu_unique_admissions.csv'\n",
    "\n",
    "compressed_file_path = r\"..\\Datasets\\eicu-2_0\\customlab.csv.gz\"\n",
    "\n",
    "df = pd.read_csv(compressed_file_path, compression='gzip')\n",
    "\n",
    "# Read the specific ICD codes from a CSV file\n",
    "admissions_df = pd.read_csv(admissions_path)"
   ]
  },
  {
   "cell_type": "code",
   "execution_count": 2,
   "id": "cfd5db30-d62c-4df5-8d62-75cc3ea2a857",
   "metadata": {
    "tags": []
   },
   "outputs": [],
   "source": [
    "merged_df = admissions_df.merge(df, on='patientunitstayid', how='inner')\n",
    "\n",
    "# Filtering out rows with negative values in the labresultoffset column\n",
    "merged_df = merged_df[merged_df['labotheroffset'] >= 0]\n",
    "\n",
    "# Optional: Resetting the index if you want consecutive integer indices\n",
    "merged_df.reset_index(drop=True, inplace=True)\n",
    "\n",
    "# List of columns to be dropped\n",
    "columns_to_drop = ['diagnosisid', 'activeupondischarge', 'labothervaluetext', 'labothertypeid',\n",
    "                   'customlabid', 'order_of_appearance', 'unitdischargestatus', 'unitdischargelocation',\n",
    "                   'unitdischargeoffset', 'unitdischargetime24', 'dischargeweight', 'admissionweight',\n",
    "                   'unitstaytype', 'unitvisitnumber', 'unitadmitsource', 'unitadmittime24', 'unittype',\n",
    "                   'hospitaldischargestatus', 'hospitaldischargelocation', 'hospitaldischargeoffset',\n",
    "                   'hospitaldischargetime24', 'hospitaldischargeyear', 'icd9code', 'diagnosispriority',\n",
    "                   'patienthealthsystemstayid', 'gender', 'age', 'ethnicity', 'hospitalid', 'wardid',\n",
    "                   'apacheadmissiondx', 'admissionheight', 'hospitaladmitoffset', 'hospitaladmitsource',\n",
    "                   'diagnosisstring', 'hospitaladmittime24', 'diagnosisoffset']\n",
    "\n",
    "# Drop the specified columns\n",
    "merged_df = merged_df.drop(columns=columns_to_drop)\n",
    "\n",
    "merged_df['labmeasurenamesystem'] = '-'"
   ]
  },
  {
   "cell_type": "code",
   "execution_count": 3,
   "id": "170e0154-6ab9-4ed2-84c0-bb9ac0153095",
   "metadata": {
    "tags": []
   },
   "outputs": [],
   "source": [
    "# Replace the column names accordingly\n",
    "\n",
    "column_mapping = {\n",
    "    'labotheroffset': 'labresultoffset',\n",
    "    'labothername': 'labname',\n",
    "    'labotherresult': 'labresult'\n",
    "}\n",
    "\n",
    "merged_df.rename(columns=column_mapping, inplace=True)"
   ]
  },
  {
   "cell_type": "code",
   "execution_count": 4,
   "id": "082a7ad2-22b0-4810-8e2b-523d1c0af9fa",
   "metadata": {
    "tags": []
   },
   "outputs": [],
   "source": [
    "# combine lab with customlab\n",
    "\n",
    "lab_path = 'CSV\\Exports\\o03_eicu_lab.csv'\n",
    "lab_df = pd.read_csv(lab_path)\n",
    "\n",
    "df_combined = pd.concat([lab_df, merged_df], ignore_index=True)"
   ]
  },
  {
   "cell_type": "code",
   "execution_count": 5,
   "id": "53754fd9-7caa-4b90-b9ce-8110a076b271",
   "metadata": {
    "tags": []
   },
   "outputs": [
    {
     "data": {
      "text/plain": [
       "0"
      ]
     },
     "execution_count": 5,
     "metadata": {},
     "output_type": "execute_result"
    }
   ],
   "source": [
    "# Export the filtered DataFrame to a CSV file\n",
    "df_combined.to_csv('CSV\\Exports\\o04_eicu_lab_final.csv', index=False, header=True)\n",
    "\n",
    "# Free RAM\n",
    "gc.collect()"
   ]
  }
 ],
 "metadata": {
  "kernelspec": {
   "display_name": "Python 3 (ipykernel)",
   "language": "python",
   "name": "python3"
  },
  "language_info": {
   "codemirror_mode": {
    "name": "ipython",
    "version": 3
   },
   "file_extension": ".py",
   "mimetype": "text/x-python",
   "name": "python",
   "nbconvert_exporter": "python",
   "pygments_lexer": "ipython3",
   "version": "3.9.18"
  }
 },
 "nbformat": 4,
 "nbformat_minor": 5
}
