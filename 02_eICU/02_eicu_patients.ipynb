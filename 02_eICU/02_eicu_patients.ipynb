{
 "cells": [
  {
   "cell_type": "markdown",
   "id": "71043bb0-0d7c-4128-8818-c10dc5e21c4e",
   "metadata": {},
   "source": [
    "# Merge and keep unique data from admissions and patient tables  "
   ]
  },
  {
   "cell_type": "code",
   "execution_count": 1,
   "id": "7113c505-819a-4322-87d2-a08dea76bd57",
   "metadata": {
    "tags": []
   },
   "outputs": [],
   "source": [
    "import gc\n",
    "import gzip\n",
    "import pandas as pd\n",
    "\n",
    "# Set the display option to show all columns\n",
    "pd.set_option('display.max_columns', None)\n",
    "\n",
    "# Diagnosis file \n",
    "diagnosis_path = 'CSV\\Exports\\o01_eicu_diagnosis.csv'\n",
    "\n",
    "compressed_file_path = r\"..\\Datasets\\eicu-2_0\\patient.csv.gz\"\n",
    "\n",
    "df = pd.read_csv(compressed_file_path, compression='gzip')\n",
    "\n",
    "# Read the specific ICD codes from a CSV file\n",
    "diagnosis_df = pd.read_csv(diagnosis_path)"
   ]
  },
  {
   "cell_type": "code",
   "execution_count": 2,
   "id": "6d76d897-fb8e-4313-b6c5-ac06c3646875",
   "metadata": {
    "tags": []
   },
   "outputs": [],
   "source": [
    "# Columns related to ICU\n",
    "icu_columns = [\n",
    "    'uniquepid', # ID for a unique patient\n",
    "    'unitvisitnumber', # identifies the visit number of the patient\n",
    "    'patienthealthsystemstayid', # surrogate key for hospital Stay\n",
    "    'patientunitstayid', # surrogate key for ICU Stay\n",
    "    'gender', # gender of the patient\n",
    "    'age', # age of the patient in full years\n",
    "    'ethnicity', # ethnicity of the patient\n",
    "    'wardid', # surrogate key for the ward associated with the patient unit stay\n",
    "    'apacheadmissiondx', #Full path string of admission diagnosis for patients unit stay\n",
    "    'admissionheight', # admission height of the patient in cm\n",
    "    'unittype', # the picklist unit type of the unit\n",
    "    'unitadmittime24', # time in 24 hour format of when the unit admit event occurred\n",
    "    'unitadmitsource', # picklist location from where the patient was admitted\n",
    "    'admissionweight', #admission weight of the patient in kilograms\n",
    "    'dischargeweight', # patient weight at time of unit discharge in kilograms \n",
    "    'unitdischargetime24', # time in 24 hour format of when the unit discharge event occurred\n",
    "    'unitdischargeoffset', # number of minutes from unit admit time that the patient was discharged from the unit\n",
    "    'unitdischargelocation', #  Structured list of locations where the patient was discharged to from the unit\n",
    "    'unitdischargestatus' # specifies patient’s condition upon leaving the unit\n",
    "]\n",
    "\n",
    "# Create a new DataFrame with only the ICU-related columns\n",
    "temp_df = df[icu_columns]"
   ]
  },
  {
   "cell_type": "code",
   "execution_count": 3,
   "id": "1959e4f9-1388-438d-b422-ce11550f6894",
   "metadata": {
    "tags": []
   },
   "outputs": [],
   "source": [
    "# Merge dataframes\n",
    "merged_df = pd.merge(diagnosis_df, df, on='patientunitstayid', how='inner')\n",
    "\n",
    "# Move 'uniquepid' column to the beginning\n",
    "uniquepid_column = merged_df.pop('uniquepid')\n",
    "merged_df.insert(0, 'uniquepid', uniquepid_column)\n",
    "\n",
    "\n",
    "# Sort the DataFrame by uniquepid and hospitalAdmitOffset\n",
    "sorted_table = merged_df.sort_values(by=['uniquepid', 'hospitaladmitoffset'])"
   ]
  },
  {
   "cell_type": "code",
   "execution_count": 4,
   "id": "007fa931-d37a-445c-a574-8b1d6899434f",
   "metadata": {
    "tags": []
   },
   "outputs": [],
   "source": [
    "# Create an additional column to represent the order of appearance\n",
    "sorted_table['order_of_appearance'] = sorted_table.groupby('uniquepid').cumcount()"
   ]
  },
  {
   "cell_type": "code",
   "execution_count": 5,
   "id": "99e521ef-0ba5-4f96-ae46-247c698ec996",
   "metadata": {
    "tags": []
   },
   "outputs": [],
   "source": [
    "# Group by 'uniquepid' and get the index of the row with the maximum 'order_of_appearance'\n",
    "idx = sorted_table.groupby('uniquepid')['order_of_appearance'].idxmax()\n",
    "\n",
    "# Select the corresponding rows and reset index\n",
    "result = sorted_table.loc[idx].reset_index(drop=True)"
   ]
  },
  {
   "cell_type": "code",
   "execution_count": 6,
   "id": "79e71792-fd0e-4ccc-a476-bbda22886543",
   "metadata": {},
   "outputs": [
    {
     "data": {
      "text/plain": [
       "0"
      ]
     },
     "execution_count": 6,
     "metadata": {},
     "output_type": "execute_result"
    }
   ],
   "source": [
    "# Export the filtered DataFrame to a CSV file\n",
    "result.to_csv('CSV\\Exports\\o02_eicu_unique_admissions.csv', index=False, header=True)\n",
    "\n",
    "# Free RAM\n",
    "gc.collect()"
   ]
  }
 ],
 "metadata": {
  "kernelspec": {
   "display_name": "Python 3 (ipykernel)",
   "language": "python",
   "name": "python3"
  },
  "language_info": {
   "codemirror_mode": {
    "name": "ipython",
    "version": 3
   },
   "file_extension": ".py",
   "mimetype": "text/x-python",
   "name": "python",
   "nbconvert_exporter": "python",
   "pygments_lexer": "ipython3",
   "version": "3.9.18"
  }
 },
 "nbformat": 4,
 "nbformat_minor": 5
}
