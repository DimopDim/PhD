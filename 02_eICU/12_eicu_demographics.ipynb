{
 "cells": [
  {
   "cell_type": "markdown",
   "id": "e08f90e0-419d-42db-b853-6ef6d7c1595c",
   "metadata": {},
   "source": [
    "## Adding Demographics"
   ]
  },
  {
   "cell_type": "code",
   "execution_count": 1,
   "id": "57cdd79e-4d7c-4289-b457-ae1282370446",
   "metadata": {},
   "outputs": [],
   "source": [
    "import gzip\n",
    "import pandas as pd\n",
    "import gc"
   ]
  },
  {
   "cell_type": "code",
   "execution_count": 2,
   "id": "1c9c8db3-d3fa-4616-bee2-06824e01f85e",
   "metadata": {},
   "outputs": [],
   "source": [
    "# Read the exported for header chartevent CSV file\n",
    "admissions_df = pd.read_csv(r'CSV\\Exports\\o02_eicu_unique_admissions.csv')\n",
    "\n",
    "mean_df = pd.read_csv(r'CSV\\Exports\\datasets\\Temp\\o01_mean_table.csv')\n",
    "median_df = pd.read_csv(r'CSV\\Exports\\datasets\\Temp\\o02_median_table.csv')\n",
    "min_df = pd.read_csv(r'CSV\\Exports\\datasets\\Temp\\o03_min_table.csv')\n",
    "max_df = pd.read_csv(r'CSV\\Exports\\datasets\\Temp\\o04_max_table.csv')"
   ]
  },
  {
   "cell_type": "code",
   "execution_count": 5,
   "id": "8d2d9579-191c-4e6a-a06b-0d877dd7003c",
   "metadata": {},
   "outputs": [],
   "source": [
    "columns_to_keep = [\"uniquepid\", \"patientunitstayid\", 'gender',\n",
    "                   'age', 'ethnicity', 'unitdischargestatus', 'unitdischargeoffset']\n",
    "demographics_df = admissions_df[columns_to_keep]"
   ]
  },
  {
   "cell_type": "markdown",
   "id": "fc079b35-71eb-473a-b08f-387ccfc0ee4a",
   "metadata": {},
   "source": [
    "# Mean & Demographics"
   ]
  },
  {
   "cell_type": "code",
   "execution_count": 6,
   "id": "290524b5-1326-4f81-9781-1a13d06702e5",
   "metadata": {},
   "outputs": [
    {
     "data": {
      "text/plain": [
       "0"
      ]
     },
     "execution_count": 6,
     "metadata": {},
     "output_type": "execute_result"
    }
   ],
   "source": [
    "# Merge mean with demographics\n",
    "temp_df = pd.merge(mean_df, demographics_df, on=['patientunitstayid', 'uniquepid'])\n",
    "\n",
    "\n",
    "# Set new order\n",
    "new_order = ['uniquepid', 'patientunitstayid', 'Time_Zone', 'gender', 'age', 'ethnicity'\n",
    "            ] + [col for col in temp_df.columns if col not in \n",
    "                 ['uniquepid', 'patientunitstayid', 'Time_Zone', 'gender', 'age', 'ethnicity']]\n",
    "\n",
    "\n",
    "# Reorder the columns in the DataFrame\n",
    "temp_df = temp_df[new_order]\n",
    "\n",
    "# Sort DataFrame based on 'patientunitstayid' and 'Time_Zone'\n",
    "temp_df.sort_values(by=['patientunitstayid', 'Time_Zone'], inplace=True)\n",
    "\n",
    "# Add a new column 'row_count' at the beginning\n",
    "# I'm going to use it as a split point when I load\n",
    "# the dataset in the rapidminer with filter operator\n",
    "temp_df.insert(0, 'row_count', range(1, len(temp_df) + 1))\n",
    "\n",
    "# Reset the index to match the row_count\n",
    "temp_df.reset_index(drop=True, inplace=True)\n",
    "\n",
    "# Export the merged DataFrame to a CSV file\n",
    "temp_df.to_csv(r'CSV\\Exports\\datasets\\whole_set\\o01_final_mean_table.csv', index=False)\n",
    "\n",
    "# Free RAM\n",
    "temp_df = None\n",
    "gc.collect()"
   ]
  },
  {
   "cell_type": "markdown",
   "id": "f89b830c-a8f6-4601-83ae-ae3464d7b43e",
   "metadata": {},
   "source": [
    "# Median & Demographics"
   ]
  },
  {
   "cell_type": "code",
   "execution_count": 7,
   "id": "078fe20c-0d53-49c8-a0a9-cfdcbfb86b27",
   "metadata": {},
   "outputs": [
    {
     "data": {
      "text/plain": [
       "0"
      ]
     },
     "execution_count": 7,
     "metadata": {},
     "output_type": "execute_result"
    }
   ],
   "source": [
    "# Merge median with demographics\n",
    "temp_df = pd.merge(median_df, demographics_df, on=['patientunitstayid', 'uniquepid'])\n",
    "\n",
    "\n",
    "# Set new order\n",
    "new_order = ['uniquepid', 'patientunitstayid', 'Time_Zone', 'gender', 'age', 'ethnicity'\n",
    "            ] + [col for col in temp_df.columns if col not in \n",
    "                 ['uniquepid', 'patientunitstayid', 'Time_Zone', 'gender', 'age', 'ethnicity']]\n",
    "\n",
    "\n",
    "# Reorder the columns in the DataFrame\n",
    "temp_df = temp_df[new_order]\n",
    "\n",
    "# Sort DataFrame based on 'patientunitstayid' and 'Time_Zone'\n",
    "temp_df.sort_values(by=['patientunitstayid', 'Time_Zone'], inplace=True)\n",
    "\n",
    "# Add a new column 'row_count' at the beginning\n",
    "# I'm going to use it as a split point when I load\n",
    "# the dataset in the rapidminer with filter operator\n",
    "temp_df.insert(0, 'row_count', range(1, len(temp_df) + 1))\n",
    "\n",
    "# Reset the index to match the row_count\n",
    "temp_df.reset_index(drop=True, inplace=True)\n",
    "\n",
    "# Export the merged DataFrame to a CSV file\n",
    "temp_df.to_csv(r'CSV\\Exports\\datasets\\whole_set\\o02_final_median_table.csv', index=False)\n",
    "\n",
    "# Free RAM\n",
    "temp_df = None\n",
    "gc.collect()"
   ]
  },
  {
   "cell_type": "markdown",
   "id": "963cb30e-a1d6-44c7-8040-d38f3c7e4b75",
   "metadata": {},
   "source": [
    "# # Min & Demographics"
   ]
  },
  {
   "cell_type": "code",
   "execution_count": 8,
   "id": "6135c77e-0814-41d5-94fd-4aef260d7b2e",
   "metadata": {},
   "outputs": [
    {
     "data": {
      "text/plain": [
       "0"
      ]
     },
     "execution_count": 8,
     "metadata": {},
     "output_type": "execute_result"
    }
   ],
   "source": [
    "# Merge min with demographics\n",
    "temp_df = pd.merge(min_df, demographics_df, on=['patientunitstayid', 'uniquepid'])\n",
    "\n",
    "\n",
    "# Set new order\n",
    "new_order = ['uniquepid', 'patientunitstayid', 'Time_Zone', 'gender', 'age', 'ethnicity'\n",
    "            ] + [col for col in temp_df.columns if col not in \n",
    "                 ['uniquepid', 'patientunitstayid', 'Time_Zone', 'gender', 'age', 'ethnicity']]\n",
    "\n",
    "\n",
    "# Reorder the columns in the DataFrame\n",
    "temp_df = temp_df[new_order]\n",
    "\n",
    "# Sort DataFrame based on 'patientunitstayid' and 'Time_Zone'\n",
    "temp_df.sort_values(by=['patientunitstayid', 'Time_Zone'], inplace=True)\n",
    "\n",
    "# Add a new column 'row_count' at the beginning\n",
    "# I'm going to use it as a split point when I load\n",
    "# the dataset in the rapidminer with filter operator\n",
    "temp_df.insert(0, 'row_count', range(1, len(temp_df) + 1))\n",
    "\n",
    "# Reset the index to match the row_count\n",
    "temp_df.reset_index(drop=True, inplace=True)\n",
    "\n",
    "# Export the merged DataFrame to a CSV file\n",
    "temp_df.to_csv(r'CSV\\Exports\\datasets\\whole_set\\o03_final_min_table.csv', index=False)\n",
    "\n",
    "# Free RAM\n",
    "temp_df = None\n",
    "gc.collect()"
   ]
  },
  {
   "cell_type": "markdown",
   "id": "28b0457c-6bdb-48f5-867a-d8464ccc37d9",
   "metadata": {},
   "source": [
    "# Max & Demographics"
   ]
  },
  {
   "cell_type": "code",
   "execution_count": 9,
   "id": "1104ee59-39cb-4515-b244-377b1be4a9cd",
   "metadata": {},
   "outputs": [
    {
     "data": {
      "text/plain": [
       "0"
      ]
     },
     "execution_count": 9,
     "metadata": {},
     "output_type": "execute_result"
    }
   ],
   "source": [
    "# Merge max with demographics\n",
    "temp_df = pd.merge(max_df, demographics_df, on=['patientunitstayid', 'uniquepid'])\n",
    "\n",
    "\n",
    "# Set new order\n",
    "new_order = ['uniquepid', 'patientunitstayid', 'Time_Zone', 'gender', 'age', 'ethnicity'\n",
    "            ] + [col for col in temp_df.columns if col not in \n",
    "                 ['uniquepid', 'patientunitstayid', 'Time_Zone', 'gender', 'age', 'ethnicity']]\n",
    "\n",
    "\n",
    "# Reorder the columns in the DataFrame\n",
    "temp_df = temp_df[new_order]\n",
    "\n",
    "# Sort DataFrame based on 'patientunitstayid' and 'Time_Zone'\n",
    "temp_df.sort_values(by=['patientunitstayid', 'Time_Zone'], inplace=True)\n",
    "\n",
    "# Add a new column 'row_count' at the beginning\n",
    "# I'm going to use it as a split point when I load\n",
    "# the dataset in the rapidminer with filter operator\n",
    "temp_df.insert(0, 'row_count', range(1, len(temp_df) + 1))\n",
    "\n",
    "# Reset the index to match the row_count\n",
    "temp_df.reset_index(drop=True, inplace=True)\n",
    "\n",
    "# Export the merged DataFrame to a CSV file\n",
    "temp_df.to_csv(r'CSV\\Exports\\datasets\\whole_set\\o04_final_max_table.csv', index=False)\n",
    "\n",
    "# Free RAM\n",
    "temp_df = None\n",
    "gc.collect()"
   ]
  }
 ],
 "metadata": {
  "kernelspec": {
   "display_name": "Python 3 (ipykernel)",
   "language": "python",
   "name": "python3"
  },
  "language_info": {
   "codemirror_mode": {
    "name": "ipython",
    "version": 3
   },
   "file_extension": ".py",
   "mimetype": "text/x-python",
   "name": "python",
   "nbconvert_exporter": "python",
   "pygments_lexer": "ipython3",
   "version": "3.12.7"
  }
 },
 "nbformat": 4,
 "nbformat_minor": 5
}
