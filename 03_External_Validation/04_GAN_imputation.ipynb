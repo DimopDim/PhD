{
 "cells": [
  {
   "cell_type": "markdown",
   "id": "27150fe1-2273-4084-bfdb-af667c2c54c2",
   "metadata": {
    "jp-MarkdownHeadingCollapsed": true
   },
   "source": [
    "# Import"
   ]
  },
  {
   "cell_type": "code",
   "execution_count": 1,
   "id": "8ba9ff51-183c-48dd-ab85-986b02ba8647",
   "metadata": {},
   "outputs": [],
   "source": [
    "import os\n",
    "import pandas as pd\n",
    "import numpy as np\n",
    "\n",
    "from sklearn.model_selection import GridSearchCV, RandomizedSearchCV, ParameterGrid, train_test_split"
   ]
  },
  {
   "cell_type": "code",
   "execution_count": 2,
   "id": "03c94c6d-1c45-4a23-8d0c-ced1519d7b4c",
   "metadata": {},
   "outputs": [],
   "source": [
    "# Read MIMICs CSV file\n",
    "mimic_df = pd.read_csv(\"CSV\\\\exports\\\\final\\\\mimic_mean_median_min_max_final.csv\")\n",
    "\n",
    "# Read eICUs CSV file\n",
    "eicu_df = pd.read_csv(\"CSV\\\\exports\\\\final\\\\eicu_mean_median_min_max_final.csv\")"
   ]
  },
  {
   "cell_type": "code",
   "execution_count": 3,
   "id": "e73ecd05-dc5d-4103-8959-4948a825288c",
   "metadata": {},
   "outputs": [],
   "source": [
    "day = 10\n",
    "\n",
    "# Filter icu stay less than 10 days\n",
    "mimic_df = mimic_df[mimic_df['los'] < day]\n",
    "\n",
    "# Filter icu stay less than 10 days\n",
    "eicu_df = eicu_df[eicu_df['los'] < day]"
   ]
  },
  {
   "cell_type": "code",
   "execution_count": 4,
   "id": "64f2142c-43bf-44fe-9838-b7be5302785d",
   "metadata": {},
   "outputs": [
    {
     "name": "stdout",
     "output_type": "stream",
     "text": [
      "Row count: 51040\n"
     ]
    }
   ],
   "source": [
    "\"\"\"\n",
    "I'm gonna concat and split the mimic and icu\n",
    "at this point. I must create the same columns\n",
    "from the tranformation of categorical data.\n",
    "\"\"\"\n",
    "row_count = mimic_df.shape[0]\n",
    "print(f\"Row count: {row_count}\")\n",
    "\n",
    "# Concat dataframes\n",
    "df_combined = pd.concat([mimic_df, eicu_df], ignore_index=True)\n",
    "\n",
    "# Find all categorical columns in mimic\n",
    "categorical_columns = df_combined.select_dtypes(include=['object', 'category']).columns.tolist()\n",
    "\n",
    "# Apply one-hot encoding to all categorical columns\n",
    "df_encoded = pd.get_dummies(df_combined, columns=categorical_columns)\n",
    "\n",
    "# Split the concatenate dataframe\n",
    "mimic_df = df_encoded.iloc[:row_count, :]\n",
    "eicu_df = df_encoded.iloc[row_count:, :]"
   ]
  },
  {
   "cell_type": "markdown",
   "id": "5461fc4c-6d94-49b7-8811-de5e223cb528",
   "metadata": {
    "jp-MarkdownHeadingCollapsed": true
   },
   "source": [
    "# Split Training - Validation - Test Set (Phase 02)"
   ]
  },
  {
   "cell_type": "code",
   "execution_count": 6,
   "id": "f01eb144-0185-4e6c-94f4-43104907fd2f",
   "metadata": {},
   "outputs": [
    {
     "name": "stdout",
     "output_type": "stream",
     "text": [
      "Training set size: 40832\n",
      "Validation set size: 5104\n",
      "Test set size: 5104\n"
     ]
    }
   ],
   "source": [
    "total_test_val_perc = 0.2\n",
    "split_between_test_val_perc = 0.5\n",
    "\n",
    "# Group data by subject_id and hadm_id\n",
    "grouped_df = mimic_df.groupby(['subject_id', 'hadm_id'])\n",
    "\n",
    "# Get a new dataframe with one row per patient (subject_id, hadm_id) pair\n",
    "patient_df = grouped_df['hospital_expire_flag'].first().reset_index()\n",
    "\n",
    "# Split the patient_df into training (80%), validation (10%), and test (10%) while keeping the ratio of hospital_expired_flag\n",
    "train, temp = train_test_split(patient_df, test_size=total_test_val_perc, stratify=patient_df['hospital_expire_flag'], random_state=42)\n",
    "val, test = train_test_split(temp, test_size=split_between_test_val_perc, stratify=temp['hospital_expire_flag'], random_state=42)\n",
    "\n",
    "# Step 4: Merge back with the original df to get the rows for each patient in the splits\n",
    "train_df = mimic_df.merge(train[['subject_id', 'hadm_id']], on=['subject_id', 'hadm_id'], how='inner')\n",
    "val_df = mimic_df.merge(val[['subject_id', 'hadm_id']], on=['subject_id', 'hadm_id'], how='inner')\n",
    "test_df = mimic_df.merge(test[['subject_id', 'hadm_id']], on=['subject_id', 'hadm_id'], how='inner')\n",
    "\n",
    "# Check the sizes of the splits\n",
    "print(f'Training set size: {train_df.shape[0]}')\n",
    "print(f'Validation set size: {val_df.shape[0]}')\n",
    "print(f'Test set size: {test_df.shape[0]}')"
   ]
  },
  {
   "cell_type": "markdown",
   "id": "04507a83-85b1-48aa-acfa-25455f4f2418",
   "metadata": {
    "jp-MarkdownHeadingCollapsed": true
   },
   "source": [
    "# Split label from Train - Validation - Test Sets (Phase 04)"
   ]
  },
  {
   "cell_type": "code",
   "execution_count": 8,
   "id": "c4db47f7-426f-47b6-aada-48b382ceed33",
   "metadata": {},
   "outputs": [],
   "source": [
    "# External validation from eICU\n",
    "X_external = eicu_df.drop(columns=['hospital_expire_flag', 'los', 'subject_id', 'hadm_id', 'row_count', 'Time_Zone'])\n",
    "y_external = eicu_df['los']\n",
    "\n",
    "# Separate features and target for the training, validation, and test sets\n",
    "X_train = train_df.drop(columns=['hospital_expire_flag', 'los', 'subject_id', 'hadm_id', 'row_count', 'Time_Zone'])\n",
    "y_train = train_df['los']\n",
    "\n",
    "X_validate = val_df.drop(columns=['hospital_expire_flag', 'los', 'subject_id', 'hadm_id', 'row_count', 'Time_Zone'])\n",
    "y_validate = val_df['los']\n",
    "\n",
    "X_test = test_df.drop(columns=['hospital_expire_flag', 'los', 'subject_id', 'hadm_id', 'row_count', 'Time_Zone'])\n",
    "y_test = test_df['los']"
   ]
  },
  {
   "cell_type": "markdown",
   "id": "688a0783-9c31-47d9-8cb4-b093c68c1302",
   "metadata": {
    "jp-MarkdownHeadingCollapsed": true
   },
   "source": [
    "# Load Train - Validation - Test & External Validation Sets"
   ]
  },
  {
   "cell_type": "code",
   "execution_count": null,
   "id": "5a53833f-0875-467d-a556-4e3508c362fa",
   "metadata": {},
   "outputs": [],
   "source": [
    "# Define subfolder\n",
    "subfolder = \"o2_interpolation_impute\"\n",
    "\n",
    "# Load CSV files into corresponding variables\n",
    "X_external = pd.read_csv(f\"CSV/exports/impute/{subfolder}/X_external.csv\")\n",
    "y_external = pd.read_csv(f\"CSV/exports/impute/{subfolder}/y_external.csv\")\n",
    "X_train = pd.read_csv(f\"CSV/exports/impute/{subfolder}/X_train.csv\")\n",
    "y_train = pd.read_csv(f\"CSV/exports/impute/{subfolder}/y_train.csv\")\n",
    "X_validate = pd.read_csv(f\"CSV/exports/impute/{subfolder}/X_validate.csv\")\n",
    "y_validate = pd.read_csv(f\"CSV/exports/impute/{subfolder}/y_validate.csv\")\n",
    "X_test = pd.read_csv(f\"CSV/exports/impute/{subfolder}/X_test.csv\")\n",
    "y_test = pd.read_csv(f\"CSV/exports/impute/{subfolder}/y_test.csv\")"
   ]
  },
  {
   "cell_type": "markdown",
   "id": "3842d464-9aae-4c19-9624-05619c336c85",
   "metadata": {},
   "source": [
    "# GAN"
   ]
  },
  {
   "cell_type": "code",
   "execution_count": null,
   "id": "1b8929cb-7e51-4635-a36f-a403877ae289",
   "metadata": {},
   "outputs": [
    {
     "name": "stdout",
     "output_type": "stream",
     "text": [
      "Epoch 1/1000 - Generator Loss: 2.6760354042053223, Discriminator Loss: 0.2195051610469818\n",
      "Epoch 2/1000 - Generator Loss: 2.2173211574554443, Discriminator Loss: 0.3854646682739258\n",
      "Epoch 3/1000 - Generator Loss: 1.587363839149475, Discriminator Loss: 0.4536738395690918\n",
      "Epoch 4/1000 - Generator Loss: 1.8108793497085571, Discriminator Loss: 0.5203495621681213\n",
      "Epoch 5/1000 - Generator Loss: 1.1293985843658447, Discriminator Loss: 0.6584901809692383\n",
      "Epoch 6/1000 - Generator Loss: 2.1951138973236084, Discriminator Loss: 0.24777957797050476\n",
      "Epoch 7/1000 - Generator Loss: 1.4153923988342285, Discriminator Loss: 0.4504125714302063\n",
      "Epoch 8/1000 - Generator Loss: 1.803475022315979, Discriminator Loss: 0.4983537197113037\n",
      "Epoch 9/1000 - Generator Loss: 1.1499632596969604, Discriminator Loss: 0.4779139757156372\n",
      "Epoch 10/1000 - Generator Loss: 1.6163921356201172, Discriminator Loss: 0.40899720788002014\n",
      "Epoch 11/1000 - Generator Loss: 1.2909454107284546, Discriminator Loss: 0.4409679174423218\n",
      "Epoch 12/1000 - Generator Loss: 2.226287603378296, Discriminator Loss: 1.19362473487854\n",
      "Epoch 13/1000 - Generator Loss: 1.159233808517456, Discriminator Loss: 0.8759124279022217\n",
      "Epoch 14/1000 - Generator Loss: 1.433528184890747, Discriminator Loss: 0.4558200240135193\n",
      "Epoch 15/1000 - Generator Loss: 1.7996758222579956, Discriminator Loss: 0.6124951839447021\n",
      "Early stopping at epoch 15 - Generator Loss: 1.7996758222579956\n",
      "Epoch 1/1000 - Generator Loss: 2.4996395111083984, Discriminator Loss: 0.23665711283683777\n",
      "Epoch 2/1000 - Generator Loss: 2.81089448928833, Discriminator Loss: 2.3389077186584473\n",
      "Epoch 3/1000 - Generator Loss: 2.0376269817352295, Discriminator Loss: 0.23561087250709534\n",
      "Epoch 4/1000 - Generator Loss: 1.1772570610046387, Discriminator Loss: 1.459632158279419\n",
      "Epoch 5/1000 - Generator Loss: 1.2367006540298462, Discriminator Loss: 0.4881007671356201\n",
      "Epoch 6/1000 - Generator Loss: 1.9128377437591553, Discriminator Loss: 0.5784832239151001\n",
      "Epoch 7/1000 - Generator Loss: 1.1919020414352417, Discriminator Loss: 0.5374951362609863\n",
      "Epoch 8/1000 - Generator Loss: 2.042689800262451, Discriminator Loss: 1.075815200805664\n",
      "Epoch 9/1000 - Generator Loss: 3.0345451831817627, Discriminator Loss: 0.2484680712223053\n",
      "Epoch 10/1000 - Generator Loss: 2.0859079360961914, Discriminator Loss: 0.3467818796634674\n"
     ]
    }
   ],
   "source": [
    "import torch\n",
    "import torch.nn as nn\n",
    "import torch.optim as optim\n",
    "from torch.utils.data import DataLoader, Dataset\n",
    "\n",
    "# Custom Dataset class for PyTorch\n",
    "def prepare_dataset(X):\n",
    "    class CustomDataset(Dataset):\n",
    "        def __init__(self, data):\n",
    "            # Ensure data is converted to numeric type to avoid object type errors\n",
    "            self.data = torch.tensor(data.astype(np.float32), dtype=torch.float32)\n",
    "\n",
    "        def __len__(self):\n",
    "            return len(self.data)\n",
    "\n",
    "        def __getitem__(self, idx):\n",
    "            return self.data[idx]\n",
    "    \n",
    "    return CustomDataset(X)\n",
    "\n",
    "# Define Generator model\n",
    "class Generator(nn.Module):\n",
    "    def __init__(self, input_dim):\n",
    "        super(Generator, self).__init__()\n",
    "        self.main = nn.Sequential(\n",
    "            nn.Linear(input_dim, 128),\n",
    "            nn.ReLU(),\n",
    "            nn.Linear(128, 128),\n",
    "            nn.ReLU(),\n",
    "            nn.Linear(128, input_dim)\n",
    "        )\n",
    "\n",
    "    def forward(self, x):\n",
    "        return self.main(x)\n",
    "\n",
    "# Define Discriminator model\n",
    "class Discriminator(nn.Module):\n",
    "    def __init__(self, input_dim):\n",
    "        super(Discriminator, self).__init__()\n",
    "        self.main = nn.Sequential(\n",
    "            nn.Linear(input_dim, 128),\n",
    "            nn.ReLU(),\n",
    "            nn.Linear(128, 128),\n",
    "            nn.ReLU(),\n",
    "            nn.Linear(128, 1),\n",
    "            nn.Sigmoid()\n",
    "        )\n",
    "\n",
    "    def forward(self, x):\n",
    "        return self.main(x)\n",
    "\n",
    "# GAN Imputation Function with Early Stopping\n",
    "def impute_missing_values_with_gan(X, epochs=1000, batch_size=64, learning_rate=0.0002, patience=10):\n",
    "    # Exclude columns 'age' and those starting with 'race_'\n",
    "    columns_to_exclude = ['age'] + [col for col in X.columns if col.startswith('race_')]\n",
    "    X_included = X.drop(columns=columns_to_exclude)\n",
    "\n",
    "    # Preparing dataset\n",
    "    X_missing = X_included.copy()\n",
    "    mask = X_missing.isna()\n",
    "    X_missing.fillna(0, inplace=True)\n",
    "    dataset = prepare_dataset(X_missing.values)\n",
    "    dataloader = DataLoader(dataset, batch_size=batch_size, shuffle=True)\n",
    "\n",
    "    input_dim = X_included.shape[1]\n",
    "\n",
    "    # Initialize models\n",
    "    generator = Generator(input_dim)\n",
    "    discriminator = Discriminator(input_dim)\n",
    "\n",
    "    # Define optimizers\n",
    "    optimizer_G = optim.Adam(generator.parameters(), lr=learning_rate)\n",
    "    optimizer_D = optim.Adam(discriminator.parameters(), lr=learning_rate)\n",
    "\n",
    "    # Define loss\n",
    "    adversarial_loss = nn.BCELoss()\n",
    "\n",
    "    best_loss = float('inf')\n",
    "    patience_counter = 0\n",
    "\n",
    "    for epoch in range(epochs):\n",
    "        for i, real_data in enumerate(dataloader):\n",
    "            # Adversarial ground truths\n",
    "            valid = torch.ones(real_data.size(0), 1)\n",
    "            fake = torch.zeros(real_data.size(0), 1)\n",
    "\n",
    "            # Configure input\n",
    "            real_data = real_data\n",
    "\n",
    "            # Train Generator\n",
    "            optimizer_G.zero_grad()\n",
    "\n",
    "            # Generate data with missing values replaced\n",
    "            gen_data = generator(real_data)\n",
    "            gen_data[mask.iloc[i * batch_size:(i + 1) * batch_size].values] = real_data[mask.iloc[i * batch_size:(i + 1) * batch_size].values]\n",
    "\n",
    "            # Calculate generator loss\n",
    "            g_loss = adversarial_loss(discriminator(gen_data), valid)\n",
    "            g_loss.backward()\n",
    "            optimizer_G.step()\n",
    "\n",
    "            # Train Discriminator\n",
    "            optimizer_D.zero_grad()\n",
    "\n",
    "            # Loss for real data\n",
    "            real_loss = adversarial_loss(discriminator(real_data), valid)\n",
    "            # Loss for fake data\n",
    "            fake_loss = adversarial_loss(discriminator(gen_data.detach()), fake)\n",
    "            d_loss = (real_loss + fake_loss) / 2\n",
    "\n",
    "            d_loss.backward()\n",
    "            optimizer_D.step()\n",
    "\n",
    "        print(f\"Epoch {epoch + 1}/{epochs} - Generator Loss: {g_loss.item()}, Discriminator Loss: {d_loss.item()}\")\n",
    "\n",
    "        # Early stopping logic\n",
    "        if g_loss.item() < best_loss:\n",
    "            best_loss = g_loss.item()\n",
    "            patience_counter = 0\n",
    "        else:\n",
    "            patience_counter += 1\n",
    "\n",
    "        if patience_counter >= patience:\n",
    "            print(f\"Early stopping at epoch {epoch + 1} - Generator Loss: {g_loss.item()}\")\n",
    "            break\n",
    "\n",
    "    # Impute missing values using the trained generator\n",
    "    X_imputed = X_missing.copy()\n",
    "    X_imputed = torch.tensor(X_imputed.values.astype(np.float32), dtype=torch.float32)\n",
    "    X_imputed = generator(X_imputed).detach().numpy()\n",
    "    X_imputed[mask.values] = X_missing.values[mask.values]\n",
    "    X_imputed_df = pd.DataFrame(X_imputed, columns=X_included.columns)\n",
    "\n",
    "    # Apply mean imputation to excluded columns before combining with GAN-imputed data\n",
    "    for col in columns_to_exclude:\n",
    "        if X[col].isna().sum() > 0:\n",
    "            X[col].fillna(X[col].mean(), inplace=True)\n",
    "\n",
    "    # Combine imputed and excluded columns\n",
    "    X_final = pd.concat([X_imputed_df, X[columns_to_exclude]], axis=1)\n",
    "    X_final = X_final[X.columns]  # Reorder columns to match original dataframe\n",
    "\n",
    "    return X_final\n",
    "\n",
    "# Impute missing values for each dataset separately\n",
    "X_external_imputed = impute_missing_values_with_gan(X_external)\n",
    "X_train_imputed = impute_missing_values_with_gan(X_train)\n",
    "X_validate_imputed = impute_missing_values_with_gan(X_validate)\n",
    "X_test_imputed = impute_missing_values_with_gan(X_test)"
   ]
  },
  {
   "cell_type": "code",
   "execution_count": 11,
   "id": "ae9e1e27-02f1-46a0-a457-3384d3876b7d",
   "metadata": {},
   "outputs": [],
   "source": [
    "# Path\n",
    "save_path = 'CSV/exports/impute/o6_GAN/'\n",
    "\n",
    "# Check if the directory exists, and if not, create it\n",
    "if not os.path.exists(save_path):\n",
    "    os.makedirs(save_path)\n",
    "\n",
    "# Save external validation set from eICU\n",
    "X_external_imputed.to_csv(save_path + 'X_external.csv', index=False)\n",
    "y_external.to_csv(save_path + 'y_external.csv', index=False)\n",
    "\n",
    "# Save training, validation, and test sets\n",
    "X_train_imputed.to_csv(save_path + 'X_train.csv', index=False)\n",
    "y_train.to_csv(save_path + 'y_train.csv', index=False)\n",
    "\n",
    "X_validate_imputed.to_csv(save_path + 'X_validate.csv', index=False)\n",
    "y_validate.to_csv(save_path + 'y_validate.csv', index=False)\n",
    "\n",
    "X_test_imputed.to_csv(save_path + 'X_test.csv', index=False)\n",
    "y_test.to_csv(save_path + 'y_test.csv', index=False)"
   ]
  },
  {
   "cell_type": "code",
   "execution_count": 17,
   "id": "00b7bb8a-216a-4240-b6b2-71fabcfeb6dd",
   "metadata": {},
   "outputs": [
    {
     "data": {
      "text/plain": [
       "age                                        0\n",
       "Alanine_Aminotransferase_(ALT)_(Max)       0\n",
       "Alanine_Aminotransferase_(ALT)_(Mean)      0\n",
       "Alanine_Aminotransferase_(ALT)_(Median)    0\n",
       "Alanine_Aminotransferase_(ALT)_(Min)       0\n",
       "                                          ..\n",
       "race_WHITE                                 0\n",
       "race_WHITE - BRAZILIAN                     0\n",
       "race_WHITE - EASTERN EUROPEAN              0\n",
       "race_WHITE - OTHER EUROPEAN                0\n",
       "race_WHITE - RUSSIAN                       0\n",
       "Length: 344, dtype: int64"
      ]
     },
     "execution_count": 17,
     "metadata": {},
     "output_type": "execute_result"
    }
   ],
   "source": [
    "X_validate_imputed.isna().sum()"
   ]
  },
  {
   "cell_type": "code",
   "execution_count": 18,
   "id": "2b4c2533-2099-4150-96e9-4fdef212baa2",
   "metadata": {},
   "outputs": [
    {
     "name": "stdout",
     "output_type": "stream",
     "text": [
      "17557760\n"
     ]
    }
   ],
   "source": [
    "total_missing_values = X_external_imputed.isna().sum().sum()\n",
    "print(total_missing_values)"
   ]
  },
  {
   "cell_type": "code",
   "execution_count": null,
   "id": "a5794985-1736-4187-bc28-62c46e83fc74",
   "metadata": {},
   "outputs": [],
   "source": []
  }
 ],
 "metadata": {
  "kernelspec": {
   "display_name": "Python 3 (ipykernel)",
   "language": "python",
   "name": "python3"
  },
  "language_info": {
   "codemirror_mode": {
    "name": "ipython",
    "version": 3
   },
   "file_extension": ".py",
   "mimetype": "text/x-python",
   "name": "python",
   "nbconvert_exporter": "python",
   "pygments_lexer": "ipython3",
   "version": "3.11.7"
  }
 },
 "nbformat": 4,
 "nbformat_minor": 5
}
