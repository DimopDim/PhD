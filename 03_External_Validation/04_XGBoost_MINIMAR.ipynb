{
 "cells": [
  {
   "cell_type": "code",
   "execution_count": null,
   "id": "ba8f35f1-b4c6-41aa-bfc8-e799563ad2f0",
   "metadata": {},
   "outputs": [],
   "source": [
    "import pandas as pd\n",
    "import numpy as np"
   ]
  },
  {
   "cell_type": "code",
   "execution_count": null,
   "id": "46974eaf-114c-47e5-8b13-2a733bb2abca",
   "metadata": {},
   "outputs": [],
   "source": [
    "# Read MIMICs CSV file\n",
    "mimic_df = pd.read_csv(\"CSV\\\\exports\\\\final\\\\mimic_mean_final.csv\")\n",
    "\n",
    "# Read eICUs CSV file\n",
    "eicu_df = pd.read_csv(\"CSV\\\\exports\\\\final\\\\eicu_mean_final.csv\")"
   ]
  },
  {
   "cell_type": "code",
   "execution_count": null,
   "id": "9a6602f0-ebb4-424d-82cb-ce364403313e",
   "metadata": {},
   "outputs": [],
   "source": [
    "day = 10\n",
    "\n",
    "# Filter icu stay less than 10 days\n",
    "mimic_df = mimic_df[mimic_df['los'] < day]\n",
    "\n",
    "# Filter icu stay less than 10 days\n",
    "eicu_df = eicu_df[eicu_df['los'] < day]"
   ]
  },
  {
   "cell_type": "code",
   "execution_count": null,
   "id": "322a3984-ad1f-43e6-80e0-f49c9132971a",
   "metadata": {},
   "outputs": [],
   "source": [
    "\"\"\"\n",
    "I'm gonna concat and split the mimic and icu\n",
    "at this point. I must create the same columns\n",
    "from the tranformation of categorical data.\n",
    "\"\"\"\n",
    "row_count = mimic_df.shape[0]\n",
    "print(f\"Row count: {row_count}\")"
   ]
  },
  {
   "cell_type": "code",
   "execution_count": null,
   "id": "5ce795c9-6194-41ae-b2e0-24e2d2e4c573",
   "metadata": {},
   "outputs": [],
   "source": [
    "display(mimic_df)\n",
    "display(eicu_df)"
   ]
  },
  {
   "cell_type": "code",
   "execution_count": null,
   "id": "8b845869-7542-4ba6-82ba-47b158e3f9cf",
   "metadata": {},
   "outputs": [],
   "source": [
    "import pandas as pd\n",
    "\n",
    "# Assuming mimic_df and eicu_df are already loaded DataFrames\n",
    "\n",
    "# Calculate demographic characteristics for MIMIC\n",
    "def calculate_mimic_demographics(mimic_df):\n",
    "    # Age\n",
    "    mimic_age_mean = mimic_df['age'].mean()\n",
    "    \n",
    "    # Gender breakdown\n",
    "    mimic_gender_counts = mimic_df['gender'].value_counts(normalize=True) * 100\n",
    "    \n",
    "    # Race breakdown\n",
    "    mimic_race_counts = mimic_df['race'].value_counts(normalize=True) * 100\n",
    "    \n",
    "    # Socioeconomic status (assuming 'insurance' column exists for socioeconomic data)\n",
    "    if 'insurance' in mimic_df.columns:\n",
    "        mimic_socioeconomic_counts = mimic_df['insurance'].value_counts(normalize=True) * 100\n",
    "    else:\n",
    "        mimic_socioeconomic_counts = \"Not provided\"\n",
    "\n",
    "    return {\n",
    "        'Age (mean)': mimic_age_mean,\n",
    "        'Gender breakdown': mimic_gender_counts,\n",
    "        'Race breakdown': mimic_race_counts,\n",
    "        'Socioeconomic status breakdown': mimic_socioeconomic_counts\n",
    "    }\n",
    "\n",
    "# Calculate demographic characteristics for eICU\n",
    "def calculate_eicu_demographics(eicu_df):\n",
    "    # Age\n",
    "    eicu_age_median = eicu_df['age'].median()\n",
    "    \n",
    "    # Gender breakdown\n",
    "    eicu_gender_counts = eicu_df['gender'].value_counts(normalize=True) * 100\n",
    "    \n",
    "    # Race breakdown\n",
    "    eicu_race_counts = eicu_df['race'].value_counts(normalize=True) * 100\n",
    "    \n",
    "    # Socioeconomic status (assuming 'insurance' column exists for socioeconomic data)\n",
    "    if 'insurance' in eicu_df.columns:\n",
    "        eicu_socioeconomic_counts = eicu_df['insurance'].value_counts(normalize=True) * 100\n",
    "    else:\n",
    "        eicu_socioeconomic_counts = \"Not provided\"\n",
    "\n",
    "    return {\n",
    "        'Age (median)': eicu_age_median,\n",
    "        'Gender breakdown': eicu_gender_counts,\n",
    "        'Race breakdown': eicu_race_counts,\n",
    "        'Socioeconomic status breakdown': eicu_socioeconomic_counts\n",
    "    }\n",
    "\n",
    "# Display results for MIMIC and eICU\n",
    "mimic_demographics = calculate_mimic_demographics(mimic_df)\n",
    "eicu_demographics = calculate_eicu_demographics(eicu_df)\n",
    "\n",
    "print(\"MIMIC Demographics:\")\n",
    "for key, value in mimic_demographics.items():\n",
    "    print(f\"{key}: {value}\")\n",
    "\n",
    "print(\"\\nEICU Demographics:\")\n",
    "for key, value in eicu_demographics.items():\n",
    "    print(f\"{key}: {value}\")\n"
   ]
  },
  {
   "cell_type": "code",
   "execution_count": null,
   "id": "acc711d8-e4d6-41b7-9735-a911d2fd205e",
   "metadata": {},
   "outputs": [],
   "source": []
  }
 ],
 "metadata": {
  "kernelspec": {
   "display_name": "Python 3 (ipykernel)",
   "language": "python",
   "name": "python3"
  },
  "language_info": {
   "codemirror_mode": {
    "name": "ipython",
    "version": 3
   },
   "file_extension": ".py",
   "mimetype": "text/x-python",
   "name": "python",
   "nbconvert_exporter": "python",
   "pygments_lexer": "ipython3",
   "version": "3.11.7"
  }
 },
 "nbformat": 4,
 "nbformat_minor": 5
}
