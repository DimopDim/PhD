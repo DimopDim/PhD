{
 "cells": [
  {
   "cell_type": "markdown",
   "id": "70237575-56f9-4f87-9742-ca2de9d941a9",
   "metadata": {},
   "source": [
    "## Collect demographic data\n",
    "\n",
    "age, sex, language, marital_status, race"
   ]
  },
  {
   "cell_type": "code",
   "execution_count": null,
   "id": "038672b6-764e-4b67-a0ac-86d674529626",
   "metadata": {
    "tags": []
   },
   "outputs": [],
   "source": [
    "import gzip\n",
    "import pandas as pd\n",
    "import gc"
   ]
  },
  {
   "cell_type": "code",
   "execution_count": null,
   "id": "72c0531a-0f1c-4a3b-b79d-917271a9a09d",
   "metadata": {
    "tags": []
   },
   "outputs": [],
   "source": [
    "# Read the exported for rows chartevent CSV file\n",
    "choosen_patients_df = pd.read_csv('CSV\\Exports\\o03_icu_first_stay.csv')\n",
    "\n",
    "# Read files\n",
    "compressed_patients_df = r\"..\\Datasets\\mimic-iv-2_2\\hosp\\patients.csv.gz\"\n",
    "compressed_admissions_df = r\"..\\Datasets\\mimic-iv-2_2\\hosp\\admissions.csv.gz\"\n",
    "\n",
    "# Read and pass the compressed CSV file into a DataFrame\n",
    "patients_df = pd.read_csv(compressed_patients_df, compression='gzip')\n",
    "admissions_df = pd.read_csv(compressed_admissions_df, compression='gzip')"
   ]
  },
  {
   "cell_type": "code",
   "execution_count": null,
   "id": "105e7f8d-6b19-4847-88c5-f208ecebd8d7",
   "metadata": {
    "tags": []
   },
   "outputs": [],
   "source": [
    "# Age calculation\n",
    "\n",
    "# Convert the 'intime' column to datetime and then extract the year\n",
    "choosen_patients_df['intime'] = pd.to_datetime(choosen_patients_df['intime'])\n",
    "choosen_patients_df['year'] = choosen_patients_df['intime'].dt.year\n",
    "\n",
    "# Choosing only the subject_id and year\n",
    "choosen_patients_df = choosen_patients_df[['subject_id','hadm_id','year']]\n",
    "\n",
    "# Merge the tables\n",
    "age_df = pd.merge(choosen_patients_df, patients_df, on='subject_id')\n",
    "\n",
    "# Calculate the actual age based on the conditions\n",
    "age_df['age'] = age_df.apply(lambda row: min(91, row['anchor_age'] + (row['year'] - row['anchor_year'])), axis=1)\n",
    "\n",
    "# Keep subject, gender and age at the ICU admission.\n",
    "age_df = age_df[['subject_id', 'gender', 'age']]"
   ]
  },
  {
   "cell_type": "code",
   "execution_count": null,
   "id": "8b50e298-891b-4a1b-87c3-6ecb10011e21",
   "metadata": {
    "tags": []
   },
   "outputs": [],
   "source": [
    "# Keep language, marital status, race and expire flag(live or death) \n",
    "demographics_df = pd.merge(choosen_patients_df, admissions_df, on=['subject_id', 'hadm_id'])\n",
    "demographics_df = demographics_df[['subject_id', 'hadm_id', 'language', 'marital_status', 'race', 'hospital_expire_flag']]"
   ]
  },
  {
   "cell_type": "code",
   "execution_count": null,
   "id": "ae843737-21d1-41e0-8efd-fa729ff0dea2",
   "metadata": {
    "tags": []
   },
   "outputs": [],
   "source": [
    "temp_df = pd.merge(age_df, demographics_df, on=['subject_id'])\n",
    "\n",
    "# Set new order\n",
    "new_order = ['subject_id', 'hadm_id'] + [col for col in temp_df.columns if col not in ['subject_id', 'hadm_id']]\n",
    "\n",
    "# Reorder the columns in the DataFrame\n",
    "temp_df = temp_df[new_order]\n",
    "\n",
    "# Export the merged DataFrame to a CSV file\n",
    "temp_df.to_csv('CSV\\Exports\\o08_demographics.csv', index=False)\n",
    "\n",
    "# Free RAM\n",
    "gc.collect()"
   ]
  }
 ],
 "metadata": {
  "kernelspec": {
   "display_name": "Python 3 (ipykernel)",
   "language": "python",
   "name": "python3"
  },
  "language_info": {
   "codemirror_mode": {
    "name": "ipython",
    "version": 3
   },
   "file_extension": ".py",
   "mimetype": "text/x-python",
   "name": "python",
   "nbconvert_exporter": "python",
   "pygments_lexer": "ipython3",
   "version": "3.9.17"
  }
 },
 "nbformat": 4,
 "nbformat_minor": 5
}
