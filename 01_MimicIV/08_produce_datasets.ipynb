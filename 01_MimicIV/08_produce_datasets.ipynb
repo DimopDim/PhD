{
 "cells": [
  {
   "cell_type": "code",
   "execution_count": 1,
   "id": "8e70c2c0-c7f3-4957-b16f-77fb78644c16",
   "metadata": {
    "tags": []
   },
   "outputs": [],
   "source": [
    "import gzip\n",
    "import pandas as pd\n",
    "\n",
    "# Read the exported for header chartevent CSV file\n",
    "mean_df = pd.read_csv('CSV\\Exports\\datasets\\Temp\\o01_mean_table.csv')\n",
    "median_df = pd.read_csv('CSV\\Exports\\datasets\\Temp\\o02_median_table.csv')\n",
    "min_df = pd.read_csv('CSV\\Exports\\datasets\\Temp\\o03_min_table.csv')\n",
    "max_df = pd.read_csv('CSV\\Exports\\datasets\\Temp\\o04_max_table.csv')\n",
    "\n",
    "demographics_df = pd.read_csv('CSV\\Exports\\o08_demographics.csv')"
   ]
  },
  {
   "cell_type": "code",
   "execution_count": 2,
   "id": "2dac765e-ca44-4a73-9dbc-fe7f3dad627f",
   "metadata": {
    "tags": []
   },
   "outputs": [],
   "source": [
    "# Merge mean with demographics\n",
    "temp_df = pd.merge(mean_df, demographics_df, on=['subject_id', 'hadm_id'])\n",
    "\n",
    "# Set new order\n",
    "new_order = ['subject_id', 'hadm_id', 'Time_Zone', 'gender', 'age', 'language', 'marital_status', 'race'\n",
    "            ] + [col for col in temp_df.columns if col not in \n",
    "                 ['subject_id', 'hadm_id', 'Time_Zone', 'gender', 'age', 'language', 'marital_status', 'race']]\n",
    "\n",
    "# Reorder the columns in the DataFrame\n",
    "temp_df = temp_df[new_order]\n",
    "\n",
    "# Add a new column 'row_count' at the beginning\n",
    "# I'm going to use it as a split point when I load\n",
    "# the dataset in the rapidminer with filter operator\n",
    "temp_df.insert(0, 'row_count', range(1, len(temp_df) + 1))\n",
    "\n",
    "# Reset the index to match the row_count\n",
    "temp_df.reset_index(drop=True, inplace=True)\n",
    "\n",
    "# Replace from hospital_expire_flag 0 with survive and 1 with death\n",
    "temp_df['hospital_expire_flag'] = temp_df['hospital_expire_flag'].replace({0: 'Survive', 1: 'Death'})\n",
    "\n",
    "# Export the merged DataFrame to a CSV file\n",
    "temp_df.to_csv('CSV\\Exports\\datasets\\whole_set\\o01_final_mean_table.csv', index=False)\n",
    "\n",
    "# Delete dataframes to free memory.\n",
    "del (temp_df)"
   ]
  },
  {
   "cell_type": "code",
   "execution_count": 3,
   "id": "90814a6a-3997-4aab-9665-908a60f15eed",
   "metadata": {},
   "outputs": [],
   "source": [
    "# Merge median with demographics\n",
    "temp_df = pd.merge(median_df, demographics_df, on=['subject_id', 'hadm_id'])\n",
    "\n",
    "# Set new order\n",
    "new_order = ['subject_id', 'hadm_id', 'Time_Zone', 'gender', 'age', 'language', 'marital_status', 'race'\n",
    "            ] + [col for col in temp_df.columns if col not in \n",
    "                 ['subject_id', 'hadm_id', 'Time_Zone', 'gender', 'age', 'language', 'marital_status', 'race']]\n",
    "\n",
    "# Reorder the columns in the DataFrame\n",
    "temp_df = temp_df[new_order]\n",
    "\n",
    "# Add a new column 'row_count' at the beginning\n",
    "# I'm going to use it as a split point when I load\n",
    "# the dataset in the rapidminer with filter operator\n",
    "temp_df.insert(0, 'row_count', range(1, len(temp_df) + 1))\n",
    "\n",
    "# Reset the index to match the row_count\n",
    "temp_df.reset_index(drop=True, inplace=True)\n",
    "\n",
    "# Replace from hospital_expire_flag 0 with survive and 1 with death\n",
    "temp_df['hospital_expire_flag'] = temp_df['hospital_expire_flag'].replace({0: 'Survive', 1: 'Death'})\n",
    "\n",
    "# Export the merged DataFrame to a CSV file\n",
    "temp_df.to_csv('CSV\\Exports\\datasets\\whole_set\\o02_final_median_table.csv', index=False)\n",
    "\n",
    "# Delete dataframes to free memory.\n",
    "del (temp_df)"
   ]
  },
  {
   "cell_type": "code",
   "execution_count": 4,
   "id": "dbdfea59-1150-4e17-9856-c6f0582215f3",
   "metadata": {},
   "outputs": [],
   "source": [
    "# Merge min with demographics\n",
    "temp_df = pd.merge(min_df, demographics_df, on=['subject_id', 'hadm_id'])\n",
    "\n",
    "# Set new order\n",
    "new_order = ['subject_id', 'hadm_id', 'Time_Zone', 'gender', 'age', 'language', 'marital_status', 'race'\n",
    "            ] + [col for col in temp_df.columns if col not in \n",
    "                 ['subject_id', 'hadm_id', 'Time_Zone', 'gender', 'age', 'language', 'marital_status', 'race']]\n",
    "\n",
    "# Reorder the columns in the DataFrame\n",
    "temp_df = temp_df[new_order]\n",
    "\n",
    "# Add a new column 'row_count' at the beginning\n",
    "# I'm going to use it as a split point when I load\n",
    "# the dataset in the rapidminer with filter operator\n",
    "temp_df.insert(0, 'row_count', range(1, len(temp_df) + 1))\n",
    "\n",
    "# Reset the index to match the row_count\n",
    "temp_df.reset_index(drop=True, inplace=True)\n",
    "\n",
    "# Replace from hospital_expire_flag 0 with survive and 1 with death\n",
    "temp_df['hospital_expire_flag'] = temp_df['hospital_expire_flag'].replace({0: 'Survive', 1: 'Death'})\n",
    "\n",
    "# Export the merged DataFrame to a CSV file\n",
    "temp_df.to_csv('CSV\\Exports\\datasets\\whole_set\\o03_final_min_table.csv', index=False)\n",
    "\n",
    "# Delete dataframes to free memory.\n",
    "del (temp_df)"
   ]
  },
  {
   "cell_type": "code",
   "execution_count": 5,
   "id": "87dfe2a2-adb0-4b5c-80fa-6dd98051f97b",
   "metadata": {
    "tags": []
   },
   "outputs": [],
   "source": [
    "# Merge max with demographics\n",
    "temp_df = pd.merge(max_df, demographics_df, on=['subject_id', 'hadm_id'])\n",
    "\n",
    "# Set new order\n",
    "new_order = ['subject_id', 'hadm_id', 'Time_Zone', 'gender', 'age', 'language', 'marital_status', 'race'\n",
    "            ] + [col for col in temp_df.columns if col not in \n",
    "                 ['subject_id', 'hadm_id', 'Time_Zone', 'gender', 'age', 'language', 'marital_status', 'race']]\n",
    "\n",
    "# Reorder the columns in the DataFrame\n",
    "temp_df = temp_df[new_order]\n",
    "\n",
    "# Add a new column 'row_count' at the beginning\n",
    "# I'm going to use it as a split point when I load\n",
    "# the dataset in the rapidminer with filter operator\n",
    "temp_df.insert(0, 'row_count', range(1, len(temp_df) + 1))\n",
    "\n",
    "# Reset the index to match the row_count\n",
    "temp_df.reset_index(drop=True, inplace=True)\n",
    "\n",
    "# Replace from hospital_expire_flag 0 with survive and 1 with death\n",
    "temp_df['hospital_expire_flag'] = temp_df['hospital_expire_flag'].replace({0: 'Survive', 1: 'Death'})\n",
    "\n",
    "# Export the merged DataFrame to a CSV file\n",
    "temp_df.to_csv('CSV\\Exports\\datasets\\whole_set\\o04_final_max_table.csv', index=False)\n",
    "\n",
    "# Delete dataframes to free memory.\n",
    "del (temp_df)"
   ]
  }
 ],
 "metadata": {
  "kernelspec": {
   "display_name": "Python 3 (ipykernel)",
   "language": "python",
   "name": "python3"
  },
  "language_info": {
   "codemirror_mode": {
    "name": "ipython",
    "version": 3
   },
   "file_extension": ".py",
   "mimetype": "text/x-python",
   "name": "python",
   "nbconvert_exporter": "python",
   "pygments_lexer": "ipython3",
   "version": "3.9.18"
  }
 },
 "nbformat": 4,
 "nbformat_minor": 5
}
