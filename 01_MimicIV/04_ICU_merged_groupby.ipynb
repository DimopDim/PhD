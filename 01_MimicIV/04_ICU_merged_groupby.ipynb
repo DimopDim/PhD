{
 "cells": [
  {
   "cell_type": "markdown",
   "id": "928d971c-8fe0-43cb-9345-bfbff3ab0d4d",
   "metadata": {
    "tags": []
   },
   "source": [
    "## Chartevent Groupby 1st Phase\n",
    "\n",
    "At this phase we create in seperate files the observations\n",
    "\n",
    "Attention -> set the observation time window in the second cell\n",
    "\n",
    "Create rows for the final table.\n",
    "\n",
    "Calculate: Mean, Median, Min, Max"
   ]
  },
  {
   "cell_type": "code",
   "execution_count": null,
   "id": "52271f7e-b716-4416-84b8-c5a7f49d66a3",
   "metadata": {
    "tags": []
   },
   "outputs": [],
   "source": [
    "import pandas as pd\n",
    "import os\n",
    "import gc\n",
    "\n",
    "# Read csv\n",
    "df_patients_chart = pd.read_csv('CSV\\Exports\\o04_icu_chart_lab_merged.csv', low_memory=False)\n",
    "row_df = pd.read_csv('CSV\\Exports\\o03_icu_first_stay.csv')\n",
    "\n",
    "# Convert charttime column from object to datetime\n",
    "df_patients_chart['charttime']= pd.to_datetime(df_patients_chart['charttime'])"
   ]
  },
  {
   "cell_type": "code",
   "execution_count": null,
   "id": "166f0753-afa3-4e2b-bdba-1d37f7af1ca5",
   "metadata": {
    "tags": []
   },
   "outputs": [],
   "source": [
    "\"\"\"\n",
    "In this field we are setting the\n",
    "observation time window. In the\n",
    "variable \"start_icrease_time\" we set\n",
    "the observation step. In variable\n",
    "\"end_time\" we declare when we want to\n",
    "stop the observations. We set those\n",
    "variables to hours.\n",
    "\"\"\"\n",
    "\n",
    "# Initialize time window (start, increase and end)\n",
    "start_increase_time = 3\n",
    "end_time = 48"
   ]
  },
  {
   "cell_type": "code",
   "execution_count": null,
   "id": "252a74d3-5e1d-47e1-9747-61adba0db259",
   "metadata": {
    "tags": []
   },
   "outputs": [],
   "source": [
    "# Filter the DataFrame to keep only the desired columns\n",
    "temp_df = row_df[['subject_id', 'hadm_id']]\n",
    "\n",
    "# Repeat each row three times\n",
    "temp_df = temp_df.loc[temp_df.index.repeat(end_time/start_increase_time)].reset_index(drop=True)\n",
    "\n",
    "# Create the \"Time_Zone\" column and count the occurrences of subject_id\n",
    "temp_df['Time_Zone'] = temp_df.groupby('subject_id').cumcount() + 1\n",
    "\n",
    "# Save the resulting DataFrame to a new CSV file\n",
    "temp_df.to_csv('CSV\\Exports\\o07_chartevent_rows.csv', index=False)"
   ]
  },
  {
   "cell_type": "markdown",
   "id": "00d44d6e-fe5f-4b53-ae03-188a70e14235",
   "metadata": {},
   "source": [
    "## Calculating Mean"
   ]
  },
  {
   "cell_type": "code",
   "execution_count": null,
   "id": "e042651a-62df-471a-a9b5-248fda7d0eaa",
   "metadata": {
    "tags": []
   },
   "outputs": [],
   "source": [
    "# Initialize the starting time window\n",
    "time_window = pd.Timedelta(hours=start_increase_time)\n",
    "\n",
    "# Define the desired time window\n",
    "desired_time_window = pd.Timedelta(hours=end_time)\n",
    "\n",
    "# Initialize a counter to track iterations\n",
    "iteration = 1\n",
    "\n",
    "# Define the directory path for saving files\n",
    "output_directory = 'CSV/Exports/groupby/chartevent/mean/'\n",
    "\n",
    "# Create the directory if it doesn't exist\n",
    "os.makedirs(output_directory, exist_ok=True)\n",
    "\n",
    "# Loop through the time windows\n",
    "while time_window <= desired_time_window:\n",
    "    grouped_multiple = (df_patients_chart.groupby(['subject_id',\n",
    "                                                   'hadm_id',\n",
    "                                                   'itemid',\n",
    "                                                   pd.Grouper(key='charttime',\n",
    "                                                              freq=time_window)])\n",
    "                        .agg({'valuenum': ['mean']}))\n",
    "    grouped_multiple.columns = ['Mean_Chart']\n",
    "    grouped_multiple = grouped_multiple.reset_index()\n",
    "    \n",
    "    # Add a new column that counts from 1 for each unique combination\n",
    "    grouped_multiple['Count'] = grouped_multiple.groupby(['subject_id', 'hadm_id', 'itemid']).cumcount() + 1\n",
    "    \n",
    "    # Add a 'File_Number' column with the current iteration value\n",
    "    grouped_multiple['Time_Zone'] = iteration\n",
    "    \n",
    "    # Define the file path with forward slashes\n",
    "    result_file_name = os.path.join(output_directory, f'results_iteration_mean_o{iteration}.csv')\n",
    "    grouped_multiple.to_csv(result_file_name, index=False)\n",
    "    \n",
    "    # Increase the time window by 3 hours\n",
    "    time_window += pd.Timedelta(hours=start_increase_time)\n",
    "    \n",
    "    # Increment the iteration counter\n",
    "    iteration += 1"
   ]
  },
  {
   "cell_type": "markdown",
   "id": "f19313bd-a4ad-47a0-8de5-8ba5869709af",
   "metadata": {},
   "source": [
    "## Calculating Median"
   ]
  },
  {
   "cell_type": "code",
   "execution_count": null,
   "id": "d97bd4b8-3c44-4cb3-a150-a699c6512d76",
   "metadata": {
    "tags": []
   },
   "outputs": [],
   "source": [
    "# Initialize the starting time window\n",
    "time_window = pd.Timedelta(hours=start_increase_time)\n",
    "\n",
    "# Define the desired time window\n",
    "desired_time_window = pd.Timedelta(hours=end_time)\n",
    "\n",
    "# Initialize a counter to track iterations\n",
    "iteration = 1\n",
    "\n",
    "# Define the directory path for saving files\n",
    "output_directory = 'CSV/Exports/groupby/chartevent/median/'\n",
    "\n",
    "# Create the directory if it doesn't exist\n",
    "os.makedirs(output_directory, exist_ok=True)\n",
    "\n",
    "# Loop through the time windows\n",
    "while time_window <= desired_time_window:\n",
    "    grouped_multiple = (df_patients_chart.groupby(['subject_id',\n",
    "                                                   'hadm_id',\n",
    "                                                   'itemid',\n",
    "                                                   pd.Grouper(key='charttime',\n",
    "                                                              freq=time_window)])\n",
    "                        .agg({'valuenum': ['median']}))\n",
    "    grouped_multiple.columns = ['Median_Chart']\n",
    "    grouped_multiple = grouped_multiple.reset_index()\n",
    "    \n",
    "    # Add a new column that counts from 1 for each unique combination\n",
    "    grouped_multiple['Count'] = grouped_multiple.groupby(['subject_id', 'hadm_id', 'itemid']).cumcount() + 1\n",
    "\n",
    "    # Add a 'File_Number' column with the current iteration value\n",
    "    grouped_multiple['Time_Zone'] = iteration\n",
    "    \n",
    "    # Define the file path with forward slashes\n",
    "    result_file_name = os.path.join(output_directory, f'results_iteration_median_o{iteration}.csv')\n",
    "    grouped_multiple.to_csv(result_file_name, index=False)\n",
    "    \n",
    "    # Increase the time window by 3 hours\n",
    "    time_window += pd.Timedelta(hours=start_increase_time)\n",
    "    \n",
    "    # Increment the iteration counter\n",
    "    iteration += 1"
   ]
  },
  {
   "cell_type": "markdown",
   "id": "a5f82712-c1a7-47de-8c94-7e3aeea615d3",
   "metadata": {},
   "source": [
    "## Calculating Min"
   ]
  },
  {
   "cell_type": "code",
   "execution_count": null,
   "id": "9e37d523-bf57-4c19-8356-0cbe682fc1da",
   "metadata": {
    "tags": []
   },
   "outputs": [],
   "source": [
    "# Initialize the starting time window\n",
    "time_window = pd.Timedelta(hours=start_increase_time)\n",
    "\n",
    "# Define the desired time window\n",
    "desired_time_window = pd.Timedelta(hours=end_time)\n",
    "\n",
    "# Initialize a counter to track iterations\n",
    "iteration = 1\n",
    "\n",
    "# Define the directory path for saving files\n",
    "output_directory = 'CSV/Exports/groupby/chartevent/min/'\n",
    "\n",
    "# Create the directory if it doesn't exist\n",
    "os.makedirs(output_directory, exist_ok=True)\n",
    "\n",
    "# Loop through the time windows\n",
    "while time_window <= desired_time_window:\n",
    "    grouped_multiple = (df_patients_chart.groupby(['subject_id',\n",
    "                                                   'hadm_id',\n",
    "                                                   'itemid',\n",
    "                                                   pd.Grouper(key='charttime',\n",
    "                                                              freq=time_window)])\n",
    "                        .agg({'valuenum': ['min']}))\n",
    "    grouped_multiple.columns = ['Min_Chart']\n",
    "    grouped_multiple = grouped_multiple.reset_index()\n",
    "    \n",
    "    # Add a new column that counts from 1 for each unique combination\n",
    "    grouped_multiple['Count'] = grouped_multiple.groupby(['subject_id', 'hadm_id', 'itemid']).cumcount() + 1\n",
    "    \n",
    "    # Add a 'File_Number' column with the current iteration value\n",
    "    grouped_multiple['Time_Zone'] = iteration\n",
    "    \n",
    "    # Define the file path with forward slashes\n",
    "    result_file_name = os.path.join(output_directory, f'results_iteration_min_o{iteration}.csv')\n",
    "    grouped_multiple.to_csv(result_file_name, index=False)\n",
    "    \n",
    "    # Increase the time window by 3 hours\n",
    "    time_window += pd.Timedelta(hours=start_increase_time)\n",
    "    \n",
    "    # Increment the iteration counter\n",
    "    iteration += 1"
   ]
  },
  {
   "cell_type": "markdown",
   "id": "47c05bc7-2184-4358-ba2e-e245a5831bde",
   "metadata": {},
   "source": [
    "## Calculating Max"
   ]
  },
  {
   "cell_type": "code",
   "execution_count": null,
   "id": "26e08b2a-d737-4cfa-8f00-a9ac80dab165",
   "metadata": {
    "tags": []
   },
   "outputs": [],
   "source": [
    "# Initialize the starting time window\n",
    "time_window = pd.Timedelta(hours=start_increase_time)\n",
    "\n",
    "# Define the desired time window\n",
    "desired_time_window = pd.Timedelta(hours=end_time)\n",
    "\n",
    "# Initialize a counter to track iterations\n",
    "iteration = 1\n",
    "\n",
    "# Define the directory path for saving files\n",
    "output_directory = 'CSV/Exports/groupby/chartevent/max/'\n",
    "\n",
    "# Create the directory if it doesn't exist\n",
    "os.makedirs(output_directory, exist_ok=True)\n",
    "\n",
    "# Loop through the time windows\n",
    "while time_window <= desired_time_window:\n",
    "    grouped_multiple = (df_patients_chart.groupby(['subject_id',\n",
    "                                                   'hadm_id',\n",
    "                                                   'itemid',\n",
    "                                                   pd.Grouper(key='charttime',\n",
    "                                                              freq=time_window)])\n",
    "                        .agg({'valuenum': ['max']}))\n",
    "    grouped_multiple.columns = ['Max_Chart']\n",
    "    grouped_multiple = grouped_multiple.reset_index()\n",
    "    \n",
    "    # Add a new column that counts from 1 for each unique combination\n",
    "    grouped_multiple['Count'] = grouped_multiple.groupby(['subject_id', 'hadm_id', 'itemid']).cumcount() + 1\n",
    "    \n",
    "    # Add a 'File_Number' column with the current iteration value\n",
    "    grouped_multiple['Time_Zone'] = iteration\n",
    "    \n",
    "    # Define the file path with forward slashes\n",
    "    result_file_name = os.path.join(output_directory, f'results_iteration_max_o{iteration}.csv')\n",
    "    grouped_multiple.to_csv(result_file_name, index=False)\n",
    "    \n",
    "    # Increase the time window by 3 hours\n",
    "    time_window += pd.Timedelta(hours=start_increase_time)\n",
    "    \n",
    "    # Increment the iteration counter\n",
    "    iteration += 1"
   ]
  },
  {
   "cell_type": "code",
   "execution_count": null,
   "id": "64d5fb10-c9e8-436c-9f94-d575b74d651c",
   "metadata": {},
   "outputs": [],
   "source": [
    "# Free RAM\n",
    "gc.collect()"
   ]
  }
 ],
 "metadata": {
  "kernelspec": {
   "display_name": "Python 3 (ipykernel)",
   "language": "python",
   "name": "python3"
  },
  "language_info": {
   "codemirror_mode": {
    "name": "ipython",
    "version": 3
   },
   "file_extension": ".py",
   "mimetype": "text/x-python",
   "name": "python",
   "nbconvert_exporter": "python",
   "pygments_lexer": "ipython3",
   "version": "3.9.17"
  }
 },
 "nbformat": 4,
 "nbformat_minor": 5
}
