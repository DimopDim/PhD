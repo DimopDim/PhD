{
 "cells": [
  {
   "cell_type": "markdown",
   "id": "dccfbc06-9da6-49e4-9220-45f02918fc65",
   "metadata": {},
   "source": [
    "## ICU Stays\n",
    "\n",
    "Export file -> CSV\\Exports\\o02_ICU_Stays.csv\n",
    "\n",
    "Export file -> CSV\\Exports\\o03_ICU_First_Stays.csv\n",
    "\n",
    "-------------------------------\n",
    "\n",
    "In this part of the code I get as return the ICU stays of the patients diagnosed with the disease I have declared using the ICDs in the csv file.\n",
    "\n",
    "I will keep for each patient only their first admission in the ICU. I will sort the results based on subject_id, hadm_id and intime and I will keep only the first record for each new subject_id I find by scanning the array."
   ]
  },
  {
   "cell_type": "code",
   "execution_count": 1,
   "id": "7d7f8891-84aa-4680-bef3-e8fac867bdcb",
   "metadata": {},
   "outputs": [],
   "source": [
    "import gc\n",
    "import gzip\n",
    "import pandas as pd\n",
    "\n",
    "compressed_file_path = r\"..\\Datasets\\mimic-iv-2_2\\icu\\icustays.csv.gz\"\n",
    "\n",
    "# Read the stroke_diagnosis.csv file\n",
    "diagnosis_df = pd.read_csv(\"CSV/Exports/o01_diagnosis.csv\")"
   ]
  },
  {
   "cell_type": "code",
   "execution_count": 2,
   "id": "3097352a-5967-40e1-b0f2-c5790818a4ae",
   "metadata": {
    "tags": []
   },
   "outputs": [
    {
     "data": {
      "text/plain": [
       "0"
      ]
     },
     "execution_count": 2,
     "metadata": {},
     "output_type": "execute_result"
    }
   ],
   "source": [
    "# Read and pass the compressed CSV file into a DataFrame\n",
    "icustays_df = pd.read_csv(compressed_file_path, compression='gzip')\n",
    "\n",
    "# Merge the two DataFrames on the hadm_id column\n",
    "merged_df = pd.merge(icustays_df, diagnosis_df, on=[\"subject_id\",\"hadm_id\"])\n",
    "\n",
    "# Export the merged DataFrame to a CSV file\n",
    "merged_df.to_csv('CSV\\Exports\\o02_icu_stay.csv', index=False)\n",
    "\n",
    "# Sort by 'subject_id', 'hadm_id', 'intime'\n",
    "merged_df.sort_values(by=['subject_id', 'hadm_id', 'intime'], inplace=True)\n",
    "\n",
    "# Get the unique subject_id\n",
    "unique_subject_ids = merged_df['subject_id'].unique()\n",
    "\n",
    "# Keep only the first row of every unique subject_id\n",
    "first_rows_df = merged_df[merged_df['subject_id'].isin(unique_subject_ids)].groupby('subject_id').first().reset_index()\n",
    "\n",
    "# Export the merged DataFrame to a CSV file\n",
    "first_rows_df.to_csv('CSV\\Exports\\o03_icu_first_stay.csv', index=False)\n",
    "\n",
    "# Free RAM\n",
    "gc.collect()"
   ]
  }
 ],
 "metadata": {
  "kernelspec": {
   "display_name": "Python 3 (ipykernel)",
   "language": "python",
   "name": "python3"
  },
  "language_info": {
   "codemirror_mode": {
    "name": "ipython",
    "version": 3
   },
   "file_extension": ".py",
   "mimetype": "text/x-python",
   "name": "python",
   "nbconvert_exporter": "python",
   "pygments_lexer": "ipython3",
   "version": "3.9.17"
  }
 },
 "nbformat": 4,
 "nbformat_minor": 5
}
