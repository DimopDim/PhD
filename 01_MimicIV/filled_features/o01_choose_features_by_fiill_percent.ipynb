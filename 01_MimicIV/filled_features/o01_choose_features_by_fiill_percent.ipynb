{
 "cells": [
  {
   "cell_type": "markdown",
   "id": "46738050-438d-405f-9bd5-fb54286496b8",
   "metadata": {},
   "source": [
    "# Adding GCS and Braden Columns\n",
    "\n",
    "Αddition of the GCS column by summing the columns including\n",
    "'GCS - Eye Opening - Mean', 'GCS - Verbal Response - Mean',\n",
    "'GCS - Motor Response - Mean'\n",
    "\n",
    "Αddition of the Braden column by summing the columns including\n",
    "'Braden Sensory Perception  - Mean', 'Braden Moisture  - Mean',\n",
    "'Braden Activity  - Mean', 'Braden Mobility  - Mean',\n",
    "'Braden Nutrition  - Mean', 'Braden Friction/Shear  - Mean'"
   ]
  },
  {
   "cell_type": "code",
   "execution_count": 1,
   "id": "a2ba73d1-769e-4842-a22e-f08a74ff5556",
   "metadata": {},
   "outputs": [],
   "source": [
    "import pandas as pd\n",
    "import numpy as np"
   ]
  },
  {
   "cell_type": "code",
   "execution_count": 2,
   "id": "845d9eb3-f3d1-4f3c-9c88-de98324e5b28",
   "metadata": {},
   "outputs": [],
   "source": [
    "# Read the stroke_diagnosis.csv file\n",
    "df = pd.read_csv(\"..\\CSV\\Exports\\datasets\\whole_set\\o05_final_mean_table_los.csv\")"
   ]
  },
  {
   "cell_type": "code",
   "execution_count": null,
   "id": "519e56c1-a73d-4966-8d15-de0784e8ea3e",
   "metadata": {},
   "outputs": [],
   "source": [
    "# Sum the GSC columns and if the value is NaN then we excluded it from the summation.\n",
    "\n",
    "df['GCS  - Mean'] = df.apply(lambda row: row[['GCS - Eye Opening  - Mean', 'GCS - Verbal Response  - Mean', 'GCS - Motor Response  - Mean']].sum() if not all(row[['GCS - Eye Opening  - Mean', 'GCS - Verbal Response  - Mean', 'GCS - Motor Response  - Mean']].isna()) else np.nan, axis=1)"
   ]
  },
  {
   "cell_type": "code",
   "execution_count": null,
   "id": "1dc1573d-8896-4832-a0b1-489c8e0eb1d7",
   "metadata": {},
   "outputs": [],
   "source": [
    "# Sum the Braden columns and if the value is NaN then we excluded it from the summation.\n",
    "\n",
    "df['Braden  - Mean'] = df.apply(lambda row: row[['Braden Sensory Perception  - Mean', 'Braden Moisture  - Mean', 'Braden Activity  - Mean', 'Braden Mobility  - Mean', 'Braden Nutrition  - Mean', 'Braden Friction/Shear  - Mean']].sum() if not all(row[['Braden Sensory Perception  - Mean', 'Braden Moisture  - Mean', 'Braden Activity  - Mean', 'Braden Mobility  - Mean', 'Braden Nutrition  - Mean', 'Braden Friction/Shear  - Mean']].isna()) else np.nan, axis=1)"
   ]
  },
  {
   "cell_type": "code",
   "execution_count": null,
   "id": "c12025f8-8f6c-431b-917d-26f638026103",
   "metadata": {},
   "outputs": [],
   "source": [
    "# remove GCS-... and Braden-... remaining columns\n",
    "columns_to_remove = ['GCS - Eye Opening  - Mean', 'GCS - Verbal Response  - Mean', 'GCS - Motor Response  - Mean', 'Braden Sensory Perception  - Mean', 'Braden Moisture  - Mean', 'Braden Activity  - Mean', 'Braden Mobility  - Mean', 'Braden Nutrition  - Mean', 'Braden Friction/Shear  - Mean']\n",
    "\n",
    "# Drop the specified columns\n",
    "df = df.drop(columns_to_remove, axis=1)"
   ]
  },
  {
   "cell_type": "code",
   "execution_count": null,
   "id": "fb3f652d-bbd0-432a-86a1-6761dfe2339a",
   "metadata": {},
   "outputs": [],
   "source": [
    "# Remove \"(Mean)\" from headers\n",
    "df.columns = [header.replace(' - Mean', '') for header in df.columns]"
   ]
  },
  {
   "cell_type": "code",
   "execution_count": null,
   "id": "afb2ad63-7d31-4c80-9a82-f623e460795a",
   "metadata": {},
   "outputs": [],
   "source": [
    "# Remove \"Mean\" from column headers\n",
    "df.columns = [col.replace(' - Mean', '') if ' - Mean' in col else col for col in df.columns]\n",
    "\n",
    "# Remove \",\" from column headers\n",
    "df.columns = [col.replace(',', '') if ',' in col else col for col in df.columns]\n",
    "\n",
    "# remove blank spaces from the end of header names\n",
    "df.columns = df.columns.str.strip()"
   ]
  },
  {
   "cell_type": "code",
   "execution_count": null,
   "id": "efc20dfa-a098-4cc9-b4e2-3503b8b07299",
   "metadata": {},
   "outputs": [],
   "source": [
    "# Calculate the percentage of filled cells in each column\n",
    "filled_percentages = df.count() / len(df) * 100\n",
    "\n",
    "# Identify columns where the percentage of filled cells is xx% or more\n",
    "columns_to_keep = filled_percentages[filled_percentages >= 30].index"
   ]
  },
  {
   "cell_type": "code",
   "execution_count": null,
   "id": "da00b3e1-2b48-431a-b3e1-d5765e9cb4f5",
   "metadata": {},
   "outputs": [],
   "source": [
    "df_subset = df[columns_to_keep]\n",
    "\n",
    "display(df_subset)"
   ]
  },
  {
   "cell_type": "code",
   "execution_count": null,
   "id": "57a6a6e8-70b3-4438-b3a7-93c5208e8a42",
   "metadata": {},
   "outputs": [],
   "source": [
    "# Save to CSV\n",
    "df_subset.to_csv('dataset_filled_values\\CSV\\exports\\o05_0_percent_filled_dataset.csv', index=False)"
   ]
  }
 ],
 "metadata": {
  "kernelspec": {
   "display_name": "Python 3 (ipykernel)",
   "language": "python",
   "name": "python3"
  },
  "language_info": {
   "codemirror_mode": {
    "name": "ipython",
    "version": 3
   },
   "file_extension": ".py",
   "mimetype": "text/x-python",
   "name": "python",
   "nbconvert_exporter": "python",
   "pygments_lexer": "ipython3",
   "version": "3.11.7"
  }
 },
 "nbformat": 4,
 "nbformat_minor": 5
}
