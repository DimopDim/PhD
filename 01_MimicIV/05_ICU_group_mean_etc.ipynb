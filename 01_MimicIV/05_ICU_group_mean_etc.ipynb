{
 "cells": [
  {
   "cell_type": "markdown",
   "id": "4e100b98-2171-4a82-ba38-b2e2c7e5af1a",
   "metadata": {},
   "source": [
    "## Chartevent Groupby 2nd Phase\n",
    "Export the scrolling observation window (Mean, Median, Min, Max) sorted to unique separate files."
   ]
  },
  {
   "cell_type": "code",
   "execution_count": null,
   "id": "664f184b-adf7-4a77-b07d-32719c008c47",
   "metadata": {},
   "outputs": [],
   "source": [
    "import pandas as pd\n",
    "import os\n",
    "import gc"
   ]
  },
  {
   "cell_type": "code",
   "execution_count": null,
   "id": "2250f3dc-7bb1-4404-9f75-720e926465f5",
   "metadata": {
    "tags": []
   },
   "outputs": [],
   "source": [
    "# Directory where the CSV files are located\n",
    "csv_directory = 'CSV/Exports/groupby/chartevent/mean/'\n",
    "\n",
    "# Initialize an empty list to collect DataFrames\n",
    "dfs = []\n",
    "\n",
    "# Iterate through all CSV files in the directory\n",
    "for filename in os.listdir(csv_directory):\n",
    "    if filename.endswith('.csv'):\n",
    "        file_path = os.path.join(csv_directory, filename)\n",
    "        # Read the CSV file\n",
    "        df = pd.read_csv(file_path)\n",
    "        # Filter rows with 'Count' equal to 1 and append to the list\n",
    "        filtered_rows = df[df['Count'] == 1]\n",
    "        dfs.append(filtered_rows)\n",
    "\n",
    "# Concatenate all DataFrames in the list into a single DataFrame\n",
    "combined_data = pd.concat(dfs, ignore_index=True)\n",
    "\n",
    "# Sort\n",
    "combined_data.sort_values(by=['subject_id','itemid','Time_Zone'], inplace=True)\n",
    "\n",
    "# Save to a CSV file\n",
    "combined_data.to_csv('CSV\\Exports\\groupby\\chartevent\\o01_icu_chartevent_grouped_mean.csv', index=False)"
   ]
  },
  {
   "cell_type": "code",
   "execution_count": null,
   "id": "67da216d-e129-4891-b9f6-4ae72ffdde6e",
   "metadata": {
    "tags": []
   },
   "outputs": [],
   "source": [
    "# Directory where the CSV files are located\n",
    "csv_directory = 'CSV/Exports/groupby/chartevent/median/'\n",
    "\n",
    "# Initialize an empty list to collect DataFrames\n",
    "dfs = []\n",
    "\n",
    "# Iterate through all CSV files in the directory\n",
    "for filename in os.listdir(csv_directory):\n",
    "    if filename.endswith('.csv'):\n",
    "        file_path = os.path.join(csv_directory, filename)\n",
    "        # Read the CSV file\n",
    "        df = pd.read_csv(file_path)\n",
    "        # Filter rows with 'Count' equal to 1 and append to the list\n",
    "        filtered_rows = df[df['Count'] == 1]\n",
    "        dfs.append(filtered_rows)\n",
    "\n",
    "# Concatenate all DataFrames in the list into a single DataFrame\n",
    "combined_data = pd.concat(dfs, ignore_index=True)\n",
    "\n",
    "# Sort\n",
    "combined_data.sort_values(by=['subject_id','itemid','Time_Zone'], inplace=True)\n",
    "\n",
    "# Save to a CSV file\n",
    "combined_data.to_csv('CSV\\Exports\\groupby\\chartevent\\o02_icu_chartevent_grouped_median.csv', index=False)"
   ]
  },
  {
   "cell_type": "code",
   "execution_count": null,
   "id": "065a9aa0-e963-4c49-b0c3-10f893b7d404",
   "metadata": {
    "tags": []
   },
   "outputs": [],
   "source": [
    "# Directory where the CSV files are located\n",
    "csv_directory = 'CSV/Exports/groupby/chartevent/min/'\n",
    "\n",
    "# Initialize an empty list to collect DataFrames\n",
    "dfs = []\n",
    "\n",
    "# Iterate through all CSV files in the directory\n",
    "for filename in os.listdir(csv_directory):\n",
    "    if filename.endswith('.csv'):\n",
    "        file_path = os.path.join(csv_directory, filename)\n",
    "        # Read the CSV file\n",
    "        df = pd.read_csv(file_path)\n",
    "        # Filter rows with 'Count' equal to 1 and append to the list\n",
    "        filtered_rows = df[df['Count'] == 1]\n",
    "        dfs.append(filtered_rows)\n",
    "\n",
    "# Concatenate all DataFrames in the list into a single DataFrame\n",
    "combined_data = pd.concat(dfs, ignore_index=True)\n",
    "\n",
    "# Sort\n",
    "combined_data.sort_values(by=['subject_id','itemid','Time_Zone'], inplace=True)\n",
    "\n",
    "# Save to a CSV file\n",
    "combined_data.to_csv('CSV\\Exports\\groupby\\chartevent\\o03_icu_chartevent_grouped_min.csv', index=False)"
   ]
  },
  {
   "cell_type": "code",
   "execution_count": null,
   "id": "feece621-9d89-4015-a2a3-f7a282eca732",
   "metadata": {
    "tags": []
   },
   "outputs": [],
   "source": [
    "# Directory where the CSV files are located\n",
    "csv_directory = 'CSV/Exports/groupby/chartevent/max/'\n",
    "\n",
    "# Initialize an empty list to collect DataFrames\n",
    "dfs = []\n",
    "\n",
    "# Iterate through all CSV files in the directory\n",
    "for filename in os.listdir(csv_directory):\n",
    "    if filename.endswith('.csv'):\n",
    "        file_path = os.path.join(csv_directory, filename)\n",
    "        # Read the CSV file\n",
    "        df = pd.read_csv(file_path)\n",
    "        # Filter rows with 'Count' equal to 1 and append to the list\n",
    "        filtered_rows = df[df['Count'] == 1]\n",
    "        dfs.append(filtered_rows)\n",
    "\n",
    "# Concatenate all DataFrames in the list into a single DataFrame\n",
    "combined_data = pd.concat(dfs, ignore_index=True)\n",
    "\n",
    "# Sort\n",
    "combined_data.sort_values(by=['subject_id','itemid','Time_Zone'], inplace=True)\n",
    "\n",
    "# Save to a CSV file\n",
    "combined_data.to_csv('CSV\\Exports\\groupby\\chartevent\\o04_icu_chartevent_grouped_max.csv', index=False)"
   ]
  },
  {
   "cell_type": "code",
   "execution_count": null,
   "id": "bba1dc34-a0a4-4b1d-97c2-185af493869f",
   "metadata": {},
   "outputs": [],
   "source": [
    "# Free RAM\n",
    "gc.collect()"
   ]
  }
 ],
 "metadata": {
  "kernelspec": {
   "display_name": "Python 3 (ipykernel)",
   "language": "python",
   "name": "python3"
  },
  "language_info": {
   "codemirror_mode": {
    "name": "ipython",
    "version": 3
   },
   "file_extension": ".py",
   "mimetype": "text/x-python",
   "name": "python",
   "nbconvert_exporter": "python",
   "pygments_lexer": "ipython3",
   "version": "3.9.17"
  }
 },
 "nbformat": 4,
 "nbformat_minor": 5
}
