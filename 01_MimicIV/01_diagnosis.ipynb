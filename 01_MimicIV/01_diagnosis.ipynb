{
 "cells": [
  {
   "cell_type": "markdown",
   "id": "3338f1b7-518c-4c82-ad9d-37772bb8f18a",
   "metadata": {
    "tags": []
   },
   "source": [
    "## Return diagnosis icd 9 & 10 info.\n",
    "\n",
    "Reading icd codes from csv file\n",
    "\n",
    "Import file -> CSV\\Imports\\icd_thrombo.csv\n",
    "\n",
    "Export file -> CSV\\Exports\\stroke_diagnosis.csv\n",
    "\n",
    "--------------------------------------------\n",
    "In this part of the code we create\n",
    "a file with the admissions that have\n",
    "been diagnosed with the disease that\n",
    "we have declared through the ICD codes\n",
    "in the CSV file. At the end of the code,\n",
    "the file is produced with the unique admissions\n",
    "and not the movements within the hospital units.\n",
    "If I want to search for another disease\n",
    "I have to change the path of the icd variable\n",
    "which you find five lines below."
   ]
  },
  {
   "cell_type": "code",
   "execution_count": null,
   "id": "9cc29cae-7a56-4ff7-92de-db6d8b2a1145",
   "metadata": {
    "tags": []
   },
   "outputs": [],
   "source": [
    "import gc\n",
    "import pandas as pd\n",
    "\n",
    "# Define the path to the specific ICD codes CSV file\n",
    "icd = r'CSV\\Imports\\icd_stroke.csv'\n",
    "\n",
    "# Define the path to the compressed MIMIC-IV 3.0 diagnoses ICD file\n",
    "compressed_file_path = r'..\\00_Datasets\\mimic-iv-3_0\\hosp\\diagnoses_icd.csv.gz'\n",
    "\n",
    "try:    \n",
    "    # Read the compressed CSV file into a DataFrame\n",
    "    df = pd.read_csv(compressed_file_path, compression='gzip')\n",
    "    \n",
    "    # Read the specific ICD codes from a CSV file\n",
    "    specific_icd_numbers = pd.read_csv(icd, header=None)\n",
    "    \n",
    "    # Convert the list of ICD codes to a list of strings\n",
    "    specific_icd_numbers = specific_icd_numbers[0].astype(str).tolist()\n",
    "    \n",
    "    # Filter the DataFrame based on the specific ICD codes\n",
    "    filtered_df = df[df['icd_code'].isin(specific_icd_numbers)]\n",
    "    \n",
    "    # Export the filtered DataFrame to a CSV file\n",
    "    filtered_df.to_csv(r'CSV\\Exports\\o01_diagnosis.csv', index=False)\n",
    "    \n",
    "except FileNotFoundError:\n",
    "    print(\"File not found.\")\n",
    "except Exception as e:\n",
    "    print(\"An error occurred:\", e)\n",
    "\n",
    "# Free RAM\n",
    "gc.collect()"
   ]
  },
  {
   "cell_type": "code",
   "execution_count": 2,
   "id": "1616587e-ca66-4f43-8ec3-95decf915878",
   "metadata": {},
   "outputs": [
    {
     "name": "stderr",
     "output_type": "stream",
     "text": [
      "2024-10-22 22:15:28,044 - INFO - Filtered data exported successfully.\n"
     ]
    },
    {
     "data": {
      "text/plain": [
       "0"
      ]
     },
     "execution_count": 2,
     "metadata": {},
     "output_type": "execute_result"
    }
   ],
   "source": [
    "import gc\n",
    "import pandas as pd\n",
    "import logging\n",
    "\n",
    "# logging setup\n",
    "logging.basicConfig(level=logging.INFO, format='%(asctime)s - %(levelname)s - %(message)s')\n",
    "\n",
    "# CAUTION, we must put the csv with the specific icd codes we look for\n",
    "icd_path = r'CSV\\Imports\\icd_stroke.csv'\n",
    "\n",
    "# Define the path to the compressed MIMIC-IV 3.0 diagnoses ICD file\n",
    "compressed_file_path = r'..\\00_Datasets\\mimic-iv-3_0\\hosp\\diagnoses_icd.csv.gz'\n",
    "\n",
    "try:\n",
    "    # Read the ICD codes from CSV file\n",
    "    specific_icd_numbers = pd.read_csv(icd_path, header=None, usecols=[0], names=['icd_code'])\n",
    "    \n",
    "    # Convert the list of ICD codes to strings\n",
    "    specific_icd_numbers = specific_icd_numbers['icd_code'].astype(str).tolist()\n",
    "    \n",
    "    # Read the compressed CSV file in chunks for large file handling\n",
    "    chunksize = 100000  # My computer can handle 100.000 chunksize\n",
    "    filtered_chunks = []\n",
    "    \n",
    "    for chunk in pd.read_csv(compressed_file_path, compression='gzip', chunksize=chunksize):\n",
    "        # Filter each chunk based on the ICD codes\n",
    "        filtered_chunk = chunk[chunk['icd_code'].isin(specific_icd_numbers)]\n",
    "        filtered_chunks.append(filtered_chunk)\n",
    "    \n",
    "    # Concatenate all filtered chunks into one DataFrame\n",
    "    filtered_df = pd.concat(filtered_chunks, ignore_index=True)\n",
    "    \n",
    "    # Export the filtered DataFrame to a CSV file\n",
    "    filtered_df.to_csv(r'CSV\\Exports\\o01_diagnosis.csv', index=False)\n",
    "    \n",
    "    logging.info(\"Filtered data exported successfully.\")\n",
    "\n",
    "except FileNotFoundError as fnf_error:\n",
    "    logging.error(f\"File not found: {fnf_error}\")\n",
    "except pd.errors.ParserError as parse_error:\n",
    "    logging.error(f\"Error parsing the file: {parse_error}\")\n",
    "except Exception as e:\n",
    "    logging.error(f\"An unexpected error occurred: {e}\")\n",
    "\n",
    "# Free RAM if necessary\n",
    "gc.collect()"
   ]
  },
  {
   "cell_type": "code",
   "execution_count": null,
   "id": "fbbe9854-3fc2-4b93-8396-fc6cb9febfd1",
   "metadata": {},
   "outputs": [],
   "source": []
  }
 ],
 "metadata": {
  "kernelspec": {
   "display_name": "Python 3 (ipykernel)",
   "language": "python",
   "name": "python3"
  },
  "language_info": {
   "codemirror_mode": {
    "name": "ipython",
    "version": 3
   },
   "file_extension": ".py",
   "mimetype": "text/x-python",
   "name": "python",
   "nbconvert_exporter": "python",
   "pygments_lexer": "ipython3",
   "version": "3.11.7"
  }
 },
 "nbformat": 4,
 "nbformat_minor": 5
}
