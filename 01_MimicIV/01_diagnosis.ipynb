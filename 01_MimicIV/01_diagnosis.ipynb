{
 "cells": [
  {
   "cell_type": "markdown",
   "id": "3338f1b7-518c-4c82-ad9d-37772bb8f18a",
   "metadata": {
    "tags": []
   },
   "source": [
    "## Return diagnosis icd 9 & 10 info.\n",
    "\n",
    "Reading icd codes from csv file\n",
    "\n",
    "Import file -> CSV\\Imports\\icd_thrombo.csv\n",
    "\n",
    "Export file -> CSV\\Exports\\stroke_diagnosis.csv\n",
    "\n",
    "--------------------------------------------\n",
    "In this part of the code we create\n",
    "a file with the admissions that have\n",
    "been diagnosed with the disease that\n",
    "we have declared through the ICD codes\n",
    "in the CSV file. At the end of the code,\n",
    "the file is produced with the unique admissions\n",
    "and not the movements within the hospital units.\n",
    "If I want to search for another disease\n",
    "I have to change the path of the icd variable\n",
    "which you find five lines below."
   ]
  },
  {
   "cell_type": "code",
   "execution_count": 1,
   "id": "9cc29cae-7a56-4ff7-92de-db6d8b2a1145",
   "metadata": {
    "tags": []
   },
   "outputs": [
    {
     "data": {
      "text/plain": [
       "0"
      ]
     },
     "execution_count": 1,
     "metadata": {},
     "output_type": "execute_result"
    }
   ],
   "source": [
    "import gc\n",
    "import gzip\n",
    "import pandas as pd\n",
    "\n",
    "# CAUTION: Path with the specific ICD codes from a CSV file \n",
    "icd = 'CSV\\Imports\\icd_stroke.csv'\n",
    "\n",
    "compressed_file_path = r\"..\\Datasets\\mimic-iv-2_2\\hosp\\diagnoses_icd.csv.gz\"\n",
    "\n",
    "try:    \n",
    "    # Read and pass the compressed CSV file into a DataFrame\n",
    "    df = pd.read_csv(compressed_file_path, compression='gzip')\n",
    "    \n",
    "    # Read the specific ICD codes from a CSV file\n",
    "    specific_icd_numbers = pd.read_csv(icd, header=None)\n",
    "    \n",
    "    # Convert the list of ICD codes to a list of strings\n",
    "    specific_icd_numbers = specific_icd_numbers[0].tolist()\n",
    "    \n",
    "    # Use boolean indexing to filter the DataFrame\n",
    "    filtered_df = df[df['icd_code'].isin(specific_icd_numbers)]\n",
    "    filtered_df = filtered_df.drop_duplicates(subset=['hadm_id'])\n",
    "    \n",
    "except FileNotFoundError:\n",
    "    print(\"File not found.\")\n",
    "except Exception as e:\n",
    "    print(\"An error occurred:\", e)\n",
    "\n",
    "# Export the filtered DataFrame to a CSV file\n",
    "filtered_df.to_csv('CSV\\Exports\\o01_diagnosis.csv', index=False)\n",
    "\n",
    "# Free RAM\n",
    "gc.collect()"
   ]
  }
 ],
 "metadata": {
  "kernelspec": {
   "display_name": "Python 3 (ipykernel)",
   "language": "python",
   "name": "python3"
  },
  "language_info": {
   "codemirror_mode": {
    "name": "ipython",
    "version": 3
   },
   "file_extension": ".py",
   "mimetype": "text/x-python",
   "name": "python",
   "nbconvert_exporter": "python",
   "pygments_lexer": "ipython3",
   "version": "3.9.17"
  }
 },
 "nbformat": 4,
 "nbformat_minor": 5
}
