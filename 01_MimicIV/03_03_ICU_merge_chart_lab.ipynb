{
 "cells": [
  {
   "cell_type": "markdown",
   "id": "67fc91ff-6fcb-471b-b31d-b7ddb2e20d65",
   "metadata": {},
   "source": [
    "## Merging the observation of chart and lab event\n",
    "\n",
    "To collect data from both the chartevents and labevents tables, we merge them into a single dataset while ensuring that we prioritize values from the labevents when there are duplicate records based on (subject_id, itemid, charttime, storetime)."
   ]
  },
  {
   "cell_type": "code",
   "execution_count": null,
   "id": "f4179cce-321a-4fc3-a1cd-8cc58c2e9d82",
   "metadata": {
    "tags": []
   },
   "outputs": [],
   "source": [
    "import gc\n",
    "import pandas as pd\n",
    "chartevents_df = pd.read_csv('CSV\\Exports\\o04_icu_chartevent.csv')\n",
    "labevents_df = pd.read_csv('CSV\\Exports\\o04_icu_labevents.csv', low_memory=False)\n",
    "\n",
    "merged_df = pd.concat([chartevents_df, labevents_df], ignore_index=True)\n",
    "\n",
    "# Sort by priority: labevents should overwrite chartevents\n",
    "merged_df = merged_df.sort_values(by=['subject_id', 'itemid', 'charttime', 'storetime'], ascending=[True, True, True, True])\n",
    "\n",
    "# Drop duplicates based on (subject_id, itemid, charttime, storetime), keeping the last (labevents) record\n",
    "merged_df = merged_df.drop_duplicates(subset=['subject_id', 'itemid', 'charttime', 'storetime'], keep='last')\n",
    "\n",
    "# Save chartevent dataset to a CSV file\n",
    "merged_df.to_csv('CSV\\Exports\\o04_icu_chart_lab_merged.csv', index=False)\n",
    "\n",
    "# Free RAM\n",
    "gc.collect()"
   ]
  }
 ],
 "metadata": {
  "kernelspec": {
   "display_name": "Python 3 (ipykernel)",
   "language": "python",
   "name": "python3"
  },
  "language_info": {
   "codemirror_mode": {
    "name": "ipython",
    "version": 3
   },
   "file_extension": ".py",
   "mimetype": "text/x-python",
   "name": "python",
   "nbconvert_exporter": "python",
   "pygments_lexer": "ipython3",
   "version": "3.9.17"
  }
 },
 "nbformat": 4,
 "nbformat_minor": 5
}
