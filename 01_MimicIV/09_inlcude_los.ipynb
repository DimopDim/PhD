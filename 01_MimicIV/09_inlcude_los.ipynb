{
 "cells": [
  {
   "cell_type": "code",
   "execution_count": 1,
   "id": "ad0dc68c-30cc-4155-ac00-ca3af8925eeb",
   "metadata": {},
   "outputs": [],
   "source": [
    "import pandas as pd\n",
    "\n",
    "# Load the two CSV files\n",
    "df_los = pd.read_csv(r'CSV\\Exports\\o03_icu_first_stay.csv')\n",
    "df_final = pd.read_csv(r'CSV\\Exports\\datasets\\whole_set\\o01_final_mean_table.csv')\n",
    "\n",
    "# Merge the dataframes on 'subject_id' and 'hadm_id'\n",
    "merged_df = pd.merge(df_final, df_los[['subject_id', 'hadm_id', 'los']], on=['subject_id', 'hadm_id'], how='left')\n",
    "\n",
    "# Save the result to a new CSV file\n",
    "merged_df.to_csv(r'CSV\\Exports\\datasets\\whole_set\\o01_final_mean_with_los.csv', index=False)\n",
    "\n",
    "#---------------------------------\n",
    "\n",
    "df_final = pd.read_csv(r'CSV\\Exports\\datasets\\whole_set\\o02_final_median_table.csv')\n",
    "\n",
    "# Merge the dataframes on 'subject_id' and 'hadm_id'\n",
    "merged_df = pd.merge(df_final, df_los[['subject_id', 'hadm_id', 'los']], on=['subject_id', 'hadm_id'], how='left')\n",
    "\n",
    "# Save the result to a new CSV file\n",
    "merged_df.to_csv(r'CSV\\Exports\\datasets\\whole_set\\o02_final_median_with_los.csv', index=False)\n",
    "\n",
    "#---------------------------------\n",
    "\n",
    "df_final = pd.read_csv(r'CSV\\Exports\\datasets\\whole_set\\o03_final_min_table.csv')\n",
    "\n",
    "# Merge the dataframes on 'subject_id' and 'hadm_id'\n",
    "merged_df = pd.merge(df_final, df_los[['subject_id', 'hadm_id', 'los']], on=['subject_id', 'hadm_id'], how='left')\n",
    "\n",
    "# Save the result to a new CSV file\n",
    "merged_df.to_csv(r'CSV\\Exports\\datasets\\whole_set\\o03_final_min_with_los.csv', index=False)\n",
    "\n",
    "#---------------------------------\n",
    "\n",
    "df_final = pd.read_csv(r'CSV\\Exports\\datasets\\whole_set\\o04_final_max_table.csv')\n",
    "\n",
    "# Merge the dataframes on 'subject_id' and 'hadm_id'\n",
    "merged_df = pd.merge(df_final, df_los[['subject_id', 'hadm_id', 'los']], on=['subject_id', 'hadm_id'], how='left')\n",
    "\n",
    "# Save the result to a new CSV file\n",
    "merged_df.to_csv(r'CSV\\Exports\\datasets\\whole_set\\o04_final_max_with_los.csv', index=False)"
   ]
  }
 ],
 "metadata": {
  "kernelspec": {
   "display_name": "Python 3 (ipykernel)",
   "language": "python",
   "name": "python3"
  },
  "language_info": {
   "codemirror_mode": {
    "name": "ipython",
    "version": 3
   },
   "file_extension": ".py",
   "mimetype": "text/x-python",
   "name": "python",
   "nbconvert_exporter": "python",
   "pygments_lexer": "ipython3",
   "version": "3.12.7"
  }
 },
 "nbformat": 4,
 "nbformat_minor": 5
}
