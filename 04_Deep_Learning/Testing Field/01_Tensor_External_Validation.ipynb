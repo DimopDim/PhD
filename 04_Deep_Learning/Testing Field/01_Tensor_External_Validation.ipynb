{
 "cells": [
  {
   "cell_type": "code",
   "execution_count": 5,
   "id": "65f62fda-1c77-4627-9dd4-c9174fb55964",
   "metadata": {},
   "outputs": [],
   "source": [
    "import pandas as pd\n",
    "from sklearn.model_selection import train_test_split\n",
    "from sklearn.preprocessing import StandardScaler, LabelEncoder\n",
    "from keras.models import Sequential\n",
    "from keras.layers import Dense\n",
    "\n",
    "# Load the dataset\n",
    "data = pd.read_csv(\"mimic_mean_final.csv\")\n",
    "\n",
    "# Exclude non-numeric columns from mean calculation\n",
    "numeric_columns = data.select_dtypes(include=['number']).columns\n",
    "data.fillna(data[numeric_columns].mean(), inplace=True)\n",
    "\n",
    "# Encode categorical variables (if any)\n",
    "label_encoder = LabelEncoder()\n",
    "data['gender'] = label_encoder.fit_transform(data['gender'])\n",
    "\n",
    "# Perform one-hot encoding for the \"race\" column\n",
    "data = pd.get_dummies(data, columns=['race'], drop_first=True)\n",
    "\n",
    "# Split the dataset into features and target variable\n",
    "X = data.drop(['los', 'subject_id', 'hadm_id'], axis=1)  # Features\n",
    "y = data['los']  # Target variable\n",
    "\n",
    "# Split the dataset into training and testing sets\n",
    "X_train, X_test, y_train, y_test = train_test_split(X, y, test_size=0.2, random_state=42)\n",
    "\n",
    "# Feature scaling (important for neural networks)\n",
    "scaler = StandardScaler()\n",
    "X_train_scaled = scaler.fit_transform(X_train)\n",
    "X_test_scaled = scaler.transform(X_test)\n"
   ]
  },
  {
   "cell_type": "code",
   "execution_count": 7,
   "id": "183f3971-f143-46f2-80dc-d22c80f7da00",
   "metadata": {},
   "outputs": [
    {
     "name": "stdout",
     "output_type": "stream",
     "text": [
      "Epoch 1/30\n"
     ]
    },
    {
     "name": "stderr",
     "output_type": "stream",
     "text": [
      "C:\\ProgramData\\anaconda3\\Lib\\site-packages\\keras\\src\\layers\\core\\dense.py:86: UserWarning: Do not pass an `input_shape`/`input_dim` argument to a layer. When using Sequential models, prefer using an `Input(shape)` object as the first layer in the model instead.\n",
      "  super().__init__(activity_regularizer=activity_regularizer, **kwargs)\n"
     ]
    },
    {
     "name": "stdout",
     "output_type": "stream",
     "text": [
      "\u001b[1m1395/1395\u001b[0m \u001b[32m━━━━━━━━━━━━━━━━━━━━\u001b[0m\u001b[37m\u001b[0m \u001b[1m5s\u001b[0m 2ms/step - loss: 35.3669\n",
      "Epoch 2/30\n",
      "\u001b[1m1395/1395\u001b[0m \u001b[32m━━━━━━━━━━━━━━━━━━━━\u001b[0m\u001b[37m\u001b[0m \u001b[1m3s\u001b[0m 2ms/step - loss: 23.1770\n",
      "Epoch 3/30\n",
      "\u001b[1m1395/1395\u001b[0m \u001b[32m━━━━━━━━━━━━━━━━━━━━\u001b[0m\u001b[37m\u001b[0m \u001b[1m3s\u001b[0m 2ms/step - loss: 20.3824\n",
      "Epoch 4/30\n",
      "\u001b[1m1395/1395\u001b[0m \u001b[32m━━━━━━━━━━━━━━━━━━━━\u001b[0m\u001b[37m\u001b[0m \u001b[1m3s\u001b[0m 2ms/step - loss: 17.6530\n",
      "Epoch 5/30\n",
      "\u001b[1m1395/1395\u001b[0m \u001b[32m━━━━━━━━━━━━━━━━━━━━\u001b[0m\u001b[37m\u001b[0m \u001b[1m3s\u001b[0m 2ms/step - loss: 16.8410\n",
      "Epoch 6/30\n",
      "\u001b[1m1395/1395\u001b[0m \u001b[32m━━━━━━━━━━━━━━━━━━━━\u001b[0m\u001b[37m\u001b[0m \u001b[1m3s\u001b[0m 2ms/step - loss: 15.3194\n",
      "Epoch 7/30\n",
      "\u001b[1m1395/1395\u001b[0m \u001b[32m━━━━━━━━━━━━━━━━━━━━\u001b[0m\u001b[37m\u001b[0m \u001b[1m3s\u001b[0m 2ms/step - loss: 15.1867\n",
      "Epoch 8/30\n",
      "\u001b[1m1395/1395\u001b[0m \u001b[32m━━━━━━━━━━━━━━━━━━━━\u001b[0m\u001b[37m\u001b[0m \u001b[1m3s\u001b[0m 2ms/step - loss: 14.1441\n",
      "Epoch 9/30\n",
      "\u001b[1m1395/1395\u001b[0m \u001b[32m━━━━━━━━━━━━━━━━━━━━\u001b[0m\u001b[37m\u001b[0m \u001b[1m3s\u001b[0m 2ms/step - loss: 14.0917\n",
      "Epoch 10/30\n",
      "\u001b[1m1395/1395\u001b[0m \u001b[32m━━━━━━━━━━━━━━━━━━━━\u001b[0m\u001b[37m\u001b[0m \u001b[1m3s\u001b[0m 2ms/step - loss: 13.4635\n",
      "Epoch 11/30\n",
      "\u001b[1m1395/1395\u001b[0m \u001b[32m━━━━━━━━━━━━━━━━━━━━\u001b[0m\u001b[37m\u001b[0m \u001b[1m3s\u001b[0m 2ms/step - loss: 12.9391\n",
      "Epoch 12/30\n",
      "\u001b[1m1395/1395\u001b[0m \u001b[32m━━━━━━━━━━━━━━━━━━━━\u001b[0m\u001b[37m\u001b[0m \u001b[1m3s\u001b[0m 2ms/step - loss: 12.6512\n",
      "Epoch 13/30\n",
      "\u001b[1m1395/1395\u001b[0m \u001b[32m━━━━━━━━━━━━━━━━━━━━\u001b[0m\u001b[37m\u001b[0m \u001b[1m3s\u001b[0m 2ms/step - loss: 12.5209\n",
      "Epoch 14/30\n",
      "\u001b[1m1395/1395\u001b[0m \u001b[32m━━━━━━━━━━━━━━━━━━━━\u001b[0m\u001b[37m\u001b[0m \u001b[1m3s\u001b[0m 2ms/step - loss: 12.7423\n",
      "Epoch 15/30\n",
      "\u001b[1m1395/1395\u001b[0m \u001b[32m━━━━━━━━━━━━━━━━━━━━\u001b[0m\u001b[37m\u001b[0m \u001b[1m3s\u001b[0m 2ms/step - loss: 12.0738\n",
      "Epoch 16/30\n",
      "\u001b[1m1395/1395\u001b[0m \u001b[32m━━━━━━━━━━━━━━━━━━━━\u001b[0m\u001b[37m\u001b[0m \u001b[1m3s\u001b[0m 2ms/step - loss: 12.0023\n",
      "Epoch 17/30\n",
      "\u001b[1m1395/1395\u001b[0m \u001b[32m━━━━━━━━━━━━━━━━━━━━\u001b[0m\u001b[37m\u001b[0m \u001b[1m3s\u001b[0m 2ms/step - loss: 11.7922\n",
      "Epoch 18/30\n",
      "\u001b[1m1395/1395\u001b[0m \u001b[32m━━━━━━━━━━━━━━━━━━━━\u001b[0m\u001b[37m\u001b[0m \u001b[1m3s\u001b[0m 2ms/step - loss: 11.8078\n",
      "Epoch 19/30\n",
      "\u001b[1m1395/1395\u001b[0m \u001b[32m━━━━━━━━━━━━━━━━━━━━\u001b[0m\u001b[37m\u001b[0m \u001b[1m3s\u001b[0m 2ms/step - loss: 11.6244\n",
      "Epoch 20/30\n",
      "\u001b[1m1395/1395\u001b[0m \u001b[32m━━━━━━━━━━━━━━━━━━━━\u001b[0m\u001b[37m\u001b[0m \u001b[1m3s\u001b[0m 2ms/step - loss: 11.4001\n",
      "Epoch 21/30\n",
      "\u001b[1m1395/1395\u001b[0m \u001b[32m━━━━━━━━━━━━━━━━━━━━\u001b[0m\u001b[37m\u001b[0m \u001b[1m3s\u001b[0m 2ms/step - loss: 11.4268\n",
      "Epoch 22/30\n",
      "\u001b[1m1395/1395\u001b[0m \u001b[32m━━━━━━━━━━━━━━━━━━━━\u001b[0m\u001b[37m\u001b[0m \u001b[1m3s\u001b[0m 2ms/step - loss: 11.3198\n",
      "Epoch 23/30\n",
      "\u001b[1m1395/1395\u001b[0m \u001b[32m━━━━━━━━━━━━━━━━━━━━\u001b[0m\u001b[37m\u001b[0m \u001b[1m3s\u001b[0m 2ms/step - loss: 11.2681\n",
      "Epoch 24/30\n",
      "\u001b[1m1395/1395\u001b[0m \u001b[32m━━━━━━━━━━━━━━━━━━━━\u001b[0m\u001b[37m\u001b[0m \u001b[1m3s\u001b[0m 2ms/step - loss: 11.0822\n",
      "Epoch 25/30\n",
      "\u001b[1m1395/1395\u001b[0m \u001b[32m━━━━━━━━━━━━━━━━━━━━\u001b[0m\u001b[37m\u001b[0m \u001b[1m3s\u001b[0m 2ms/step - loss: 11.2206\n",
      "Epoch 26/30\n",
      "\u001b[1m1395/1395\u001b[0m \u001b[32m━━━━━━━━━━━━━━━━━━━━\u001b[0m\u001b[37m\u001b[0m \u001b[1m3s\u001b[0m 2ms/step - loss: 11.0911\n",
      "Epoch 27/30\n",
      "\u001b[1m1395/1395\u001b[0m \u001b[32m━━━━━━━━━━━━━━━━━━━━\u001b[0m\u001b[37m\u001b[0m \u001b[1m3s\u001b[0m 2ms/step - loss: 10.9414\n",
      "Epoch 28/30\n",
      "\u001b[1m1395/1395\u001b[0m \u001b[32m━━━━━━━━━━━━━━━━━━━━\u001b[0m\u001b[37m\u001b[0m \u001b[1m3s\u001b[0m 2ms/step - loss: 11.0664\n",
      "Epoch 29/30\n",
      "\u001b[1m1395/1395\u001b[0m \u001b[32m━━━━━━━━━━━━━━━━━━━━\u001b[0m\u001b[37m\u001b[0m \u001b[1m3s\u001b[0m 2ms/step - loss: 10.8765\n",
      "Epoch 30/30\n",
      "\u001b[1m1395/1395\u001b[0m \u001b[32m━━━━━━━━━━━━━━━━━━━━\u001b[0m\u001b[37m\u001b[0m \u001b[1m3s\u001b[0m 2ms/step - loss: 10.8911\n",
      "\u001b[1m349/349\u001b[0m \u001b[32m━━━━━━━━━━━━━━━━━━━━\u001b[0m\u001b[37m\u001b[0m \u001b[1m1s\u001b[0m 2ms/step - loss: 11.7850\n",
      "Mean Squared Error on Test Set: 11.823029518127441\n"
     ]
    }
   ],
   "source": [
    "# Initialize the ANN\n",
    "model = Sequential()\n",
    "\n",
    "# Add input layer and first hidden layer\n",
    "model.add(Dense(units=6, activation='relu', input_dim=X_train_scaled.shape[1]))\n",
    "\n",
    "# Add second hidden layer\n",
    "model.add(Dense(units=6, activation='relu'))\n",
    "\n",
    "# Add output layer\n",
    "model.add(Dense(units=1, activation='linear'))  # Assuming length of stay is a continuous variable\n",
    "\n",
    "# Compile the ANN\n",
    "model.compile(optimizer='adam', loss='mean_squared_error')\n",
    "\n",
    "# Train the ANN on the training set\n",
    "model.fit(X_train_scaled, y_train, batch_size=32, epochs=30, verbose=1)\n",
    "\n",
    "# Evaluate the model on the testing set\n",
    "loss = model.evaluate(X_test_scaled, y_test)\n",
    "print(\"Mean Squared Error on Test Set:\", loss)"
   ]
  },
  {
   "cell_type": "code",
   "execution_count": 8,
   "id": "b0c0e630-b86c-45b4-a112-58eab3944625",
   "metadata": {},
   "outputs": [
    {
     "name": "stdout",
     "output_type": "stream",
     "text": [
      "\u001b[1m349/349\u001b[0m \u001b[32m━━━━━━━━━━━━━━━━━━━━\u001b[0m\u001b[37m\u001b[0m \u001b[1m1s\u001b[0m 2ms/step\n",
      "[[ 2.1402745]\n",
      " [ 3.0452056]\n",
      " [ 6.4126544]\n",
      " [ 2.949476 ]\n",
      " [ 2.646571 ]\n",
      " [ 1.8934245]\n",
      " [ 7.26917  ]\n",
      " [ 3.4834762]\n",
      " [ 2.324341 ]\n",
      " [18.058338 ]]\n"
     ]
    }
   ],
   "source": [
    "# Make predictions on the testing set\n",
    "predictions = model.predict(X_test_scaled)\n",
    "\n",
    "# Optionally, you can inverse transform the predictions if you scaled the target variable\n",
    "# predictions = scaler.inverse_transform(predictions)\n",
    "\n",
    "# Print some predictions\n",
    "print(predictions[:10])"
   ]
  },
  {
   "cell_type": "code",
   "execution_count": null,
   "id": "8e346168-1039-4cbc-8708-06adad503a88",
   "metadata": {},
   "outputs": [],
   "source": []
  }
 ],
 "metadata": {
  "kernelspec": {
   "display_name": "Python 3 (ipykernel)",
   "language": "python",
   "name": "python3"
  },
  "language_info": {
   "codemirror_mode": {
    "name": "ipython",
    "version": 3
   },
   "file_extension": ".py",
   "mimetype": "text/x-python",
   "name": "python",
   "nbconvert_exporter": "python",
   "pygments_lexer": "ipython3",
   "version": "3.11.7"
  }
 },
 "nbformat": 4,
 "nbformat_minor": 5
}
