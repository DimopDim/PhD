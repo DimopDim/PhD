{
 "cells": [
  {
   "cell_type": "markdown",
   "id": "f641fd82-e2b0-4d3e-8cc4-3cf78a4146ad",
   "metadata": {},
   "source": [
    "# TensorFlow Testing Field"
   ]
  },
  {
   "cell_type": "code",
   "execution_count": 1,
   "id": "65f62fda-1c77-4627-9dd4-c9174fb55964",
   "metadata": {},
   "outputs": [],
   "source": [
    "\"\"\"\n",
    "imports several Python libraries\n",
    "and modules commonly used in machine\n",
    "learning tasks\n",
    "\"\"\"\n",
    "\n",
    "import pandas as pd\n",
    "from sklearn.model_selection import train_test_split\n",
    "from sklearn.preprocessing import StandardScaler, LabelEncoder\n",
    "from keras.models import Sequential\n",
    "from keras.layers import Dense\n",
    "from sklearn.metrics import mean_squared_error, mean_absolute_error, mean_squared_error, mean_squared_log_error, r2_score"
   ]
  },
  {
   "cell_type": "code",
   "execution_count": 2,
   "id": "6be3370d-286f-41af-8c29-d49aab499cf7",
   "metadata": {},
   "outputs": [],
   "source": [
    "# Load the dataset\n",
    "data = pd.read_csv(\"mimic_mean_final.csv\")\n",
    "\n",
    "external_data = pd.read_csv(\"mimic_mean_final.csv\") # Not included yet"
   ]
  },
  {
   "cell_type": "markdown",
   "id": "b5117324-39f4-4222-9f36-1589322b92d8",
   "metadata": {},
   "source": [
    "## Handling missing values by filling with mean (ANN can't handle missing values)"
   ]
  },
  {
   "cell_type": "code",
   "execution_count": 3,
   "id": "3a9edc9b-4eed-4998-af23-58b79efd9284",
   "metadata": {},
   "outputs": [],
   "source": [
    "\"\"\"\n",
    "Select columns based on their data types.\n",
    "By specifying include=['number'], we select\n",
    "only columns with numeric data types.\n",
    "The .columns attribute then retrieves the\n",
    "names of these selected columns, storing them\n",
    "in the numeric_columns variable.\n",
    "\"\"\"\n",
    "numeric_columns = data.select_dtypes(include=['number']).columns\n",
    "\n",
    "\"\"\"\n",
    "Fill missing values with the mean\n",
    "value of each respective column. \n",
    "\"\"\"\n",
    "data.fillna(data[numeric_columns].mean(), inplace=True)"
   ]
  },
  {
   "cell_type": "code",
   "execution_count": 4,
   "id": "197d45a4-a616-4ab8-8297-8e805ae07451",
   "metadata": {},
   "outputs": [],
   "source": [
    "\"\"\"\n",
    "Convert categorical variables to numerical\n",
    "\"\"\"\n",
    "label_encoder = LabelEncoder()\n",
    "\n",
    "\"\"\"\n",
    "Convert 'gender' column from\n",
    "categorical to numeric. \n",
    "Male become 1 and Female 0.\n",
    "The specific numeric values assigned\n",
    "to each category are determined based\n",
    "on the order of appearance of the unique\n",
    "categories in the data.\n",
    "\"\"\"\n",
    "data['gender'] = label_encoder.fit_transform(data['gender'])\n",
    "\n",
    "#reverse the gender from numerical to categorical.\n",
    "#data['gender'] = label_encoder.inverse_transform(data['gender'])"
   ]
  },
  {
   "cell_type": "code",
   "execution_count": 5,
   "id": "e59482d3-52bb-42c6-8413-de75325f49a9",
   "metadata": {},
   "outputs": [],
   "source": [
    "\"\"\"\n",
    "After this line of code is executed,\n",
    "the \"race\" column will be replaced\n",
    "with one or more columns, each\n",
    "representing a category of race, with\n",
    "binary values indicating the presence or\n",
    "absence of that category for each row.\n",
    "\"\"\"\n",
    "\n",
    "data = pd.get_dummies(data, columns=['race'], drop_first=True)"
   ]
  },
  {
   "cell_type": "code",
   "execution_count": 6,
   "id": "edf5db63-6120-4a06-ac77-b7b88f099208",
   "metadata": {},
   "outputs": [],
   "source": [
    "\"\"\"\n",
    "I have calculate the split point.\n",
    "Every patient has 16 rows of observations,\n",
    "we don't want to have the same patient\n",
    "to be both in training and test set\n",
    "\"\"\"\n",
    "\n",
    "# Split the dataset at row 39040 for Mimic and 60384 for eICU\n",
    "split_index = 39040\n",
    "data_train = data.iloc[:split_index]\n",
    "data_test = data.iloc[split_index:]"
   ]
  },
  {
   "cell_type": "code",
   "execution_count": 7,
   "id": "2393e19d-2257-4376-8db8-7579f1975758",
   "metadata": {},
   "outputs": [],
   "source": [
    "\"\"\"\n",
    "x_train and x_test used for training and testing\n",
    "the model. We remove columns that are not usefulls\n",
    "in training and testing ('los', 'subject_id', \n",
    "'hadm_id',  'Time_Zone', 'row_count') and we leave\n",
    "the rests which represent the wanted features.\n",
    "\n",
    "y_train and y_test represent the label\n",
    "\"\"\"\n",
    "# Split the dataset into features and label variable\n",
    "X_train = data_train.drop(['los', 'subject_id', 'hadm_id', 'Time_Zone', 'row_count'], axis=1)  # Features\n",
    "y_train = data_train['los']  # label variable\n",
    "\n",
    "X_test = data_test.drop(['los', 'subject_id', 'hadm_id', 'Time_Zone', 'row_count'], axis=1)  # Features\n",
    "y_test = data_test['los']  # label variable"
   ]
  },
  {
   "cell_type": "code",
   "execution_count": 8,
   "id": "e8f196b0-7b8d-40df-af25-9b84d09e21d9",
   "metadata": {},
   "outputs": [],
   "source": [
    "\"\"\"\n",
    "Computes the mean and standard deviation of each feature\n",
    "\"\"\"\n",
    "\n",
    "# Feature scaling (important for neural networks)\n",
    "scaler = StandardScaler()\n",
    "X_train_scaled = scaler.fit_transform(X_train)\n",
    "X_test_scaled = scaler.transform(X_test)"
   ]
  },
  {
   "cell_type": "code",
   "execution_count": 9,
   "id": "3e99a5cc-f3ae-45c1-b935-2362d32b5d68",
   "metadata": {},
   "outputs": [
    {
     "name": "stdout",
     "output_type": "stream",
     "text": [
      "Epoch 1/25\n"
     ]
    },
    {
     "name": "stderr",
     "output_type": "stream",
     "text": [
      "C:\\ProgramData\\anaconda3\\Lib\\site-packages\\keras\\src\\layers\\core\\dense.py:86: UserWarning: Do not pass an `input_shape`/`input_dim` argument to a layer. When using Sequential models, prefer using an `Input(shape)` object as the first layer in the model instead.\n",
      "  super().__init__(activity_regularizer=activity_regularizer, **kwargs)\n"
     ]
    },
    {
     "name": "stdout",
     "output_type": "stream",
     "text": [
      "\u001b[1m1220/1220\u001b[0m \u001b[32m━━━━━━━━━━━━━━━━━━━━\u001b[0m\u001b[37m\u001b[0m \u001b[1m5s\u001b[0m 2ms/step - loss: 23.5303\n",
      "Epoch 2/25\n",
      "\u001b[1m1220/1220\u001b[0m \u001b[32m━━━━━━━━━━━━━━━━━━━━\u001b[0m\u001b[37m\u001b[0m \u001b[1m3s\u001b[0m 3ms/step - loss: 3.9690\n",
      "Epoch 3/25\n",
      "\u001b[1m1220/1220\u001b[0m \u001b[32m━━━━━━━━━━━━━━━━━━━━\u001b[0m\u001b[37m\u001b[0m \u001b[1m3s\u001b[0m 3ms/step - loss: 1.7053\n",
      "Epoch 4/25\n",
      "\u001b[1m1220/1220\u001b[0m \u001b[32m━━━━━━━━━━━━━━━━━━━━\u001b[0m\u001b[37m\u001b[0m \u001b[1m3s\u001b[0m 2ms/step - loss: 1.2716\n",
      "Epoch 5/25\n",
      "\u001b[1m1220/1220\u001b[0m \u001b[32m━━━━━━━━━━━━━━━━━━━━\u001b[0m\u001b[37m\u001b[0m \u001b[1m3s\u001b[0m 2ms/step - loss: 1.1138\n",
      "Epoch 6/25\n",
      "\u001b[1m1220/1220\u001b[0m \u001b[32m━━━━━━━━━━━━━━━━━━━━\u001b[0m\u001b[37m\u001b[0m \u001b[1m3s\u001b[0m 2ms/step - loss: 0.9736\n",
      "Epoch 7/25\n",
      "\u001b[1m1220/1220\u001b[0m \u001b[32m━━━━━━━━━━━━━━━━━━━━\u001b[0m\u001b[37m\u001b[0m \u001b[1m3s\u001b[0m 3ms/step - loss: 0.8683\n",
      "Epoch 8/25\n",
      "\u001b[1m1220/1220\u001b[0m \u001b[32m━━━━━━━━━━━━━━━━━━━━\u001b[0m\u001b[37m\u001b[0m \u001b[1m2s\u001b[0m 2ms/step - loss: 0.7731\n",
      "Epoch 9/25\n",
      "\u001b[1m1220/1220\u001b[0m \u001b[32m━━━━━━━━━━━━━━━━━━━━\u001b[0m\u001b[37m\u001b[0m \u001b[1m3s\u001b[0m 2ms/step - loss: 0.6675\n",
      "Epoch 10/25\n",
      "\u001b[1m1220/1220\u001b[0m \u001b[32m━━━━━━━━━━━━━━━━━━━━\u001b[0m\u001b[37m\u001b[0m \u001b[1m3s\u001b[0m 3ms/step - loss: 0.6266\n",
      "Epoch 11/25\n",
      "\u001b[1m1220/1220\u001b[0m \u001b[32m━━━━━━━━━━━━━━━━━━━━\u001b[0m\u001b[37m\u001b[0m \u001b[1m3s\u001b[0m 2ms/step - loss: 0.4810\n",
      "Epoch 12/25\n",
      "\u001b[1m1220/1220\u001b[0m \u001b[32m━━━━━━━━━━━━━━━━━━━━\u001b[0m\u001b[37m\u001b[0m \u001b[1m3s\u001b[0m 2ms/step - loss: 0.5490\n",
      "Epoch 13/25\n",
      "\u001b[1m1220/1220\u001b[0m \u001b[32m━━━━━━━━━━━━━━━━━━━━\u001b[0m\u001b[37m\u001b[0m \u001b[1m3s\u001b[0m 3ms/step - loss: 0.4215\n",
      "Epoch 14/25\n",
      "\u001b[1m1220/1220\u001b[0m \u001b[32m━━━━━━━━━━━━━━━━━━━━\u001b[0m\u001b[37m\u001b[0m \u001b[1m3s\u001b[0m 3ms/step - loss: 0.4922\n",
      "Epoch 15/25\n",
      "\u001b[1m1220/1220\u001b[0m \u001b[32m━━━━━━━━━━━━━━━━━━━━\u001b[0m\u001b[37m\u001b[0m \u001b[1m3s\u001b[0m 2ms/step - loss: 0.3403\n",
      "Epoch 16/25\n",
      "\u001b[1m1220/1220\u001b[0m \u001b[32m━━━━━━━━━━━━━━━━━━━━\u001b[0m\u001b[37m\u001b[0m \u001b[1m3s\u001b[0m 3ms/step - loss: 0.3839\n",
      "Epoch 17/25\n",
      "\u001b[1m1220/1220\u001b[0m \u001b[32m━━━━━━━━━━━━━━━━━━━━\u001b[0m\u001b[37m\u001b[0m \u001b[1m3s\u001b[0m 2ms/step - loss: 0.3359\n",
      "Epoch 18/25\n",
      "\u001b[1m1220/1220\u001b[0m \u001b[32m━━━━━━━━━━━━━━━━━━━━\u001b[0m\u001b[37m\u001b[0m \u001b[1m3s\u001b[0m 3ms/step - loss: 0.3601\n",
      "Epoch 19/25\n",
      "\u001b[1m1220/1220\u001b[0m \u001b[32m━━━━━━━━━━━━━━━━━━━━\u001b[0m\u001b[37m\u001b[0m \u001b[1m4s\u001b[0m 3ms/step - loss: 0.3301\n",
      "Epoch 20/25\n",
      "\u001b[1m1220/1220\u001b[0m \u001b[32m━━━━━━━━━━━━━━━━━━━━\u001b[0m\u001b[37m\u001b[0m \u001b[1m3s\u001b[0m 2ms/step - loss: 0.3002\n",
      "Epoch 21/25\n",
      "\u001b[1m1220/1220\u001b[0m \u001b[32m━━━━━━━━━━━━━━━━━━━━\u001b[0m\u001b[37m\u001b[0m \u001b[1m3s\u001b[0m 3ms/step - loss: 0.2902\n",
      "Epoch 22/25\n",
      "\u001b[1m1220/1220\u001b[0m \u001b[32m━━━━━━━━━━━━━━━━━━━━\u001b[0m\u001b[37m\u001b[0m \u001b[1m3s\u001b[0m 2ms/step - loss: 0.3317\n",
      "Epoch 23/25\n",
      "\u001b[1m1220/1220\u001b[0m \u001b[32m━━━━━━━━━━━━━━━━━━━━\u001b[0m\u001b[37m\u001b[0m \u001b[1m4s\u001b[0m 3ms/step - loss: 0.1882\n",
      "Epoch 24/25\n",
      "\u001b[1m1220/1220\u001b[0m \u001b[32m━━━━━━━━━━━━━━━━━━━━\u001b[0m\u001b[37m\u001b[0m \u001b[1m4s\u001b[0m 3ms/step - loss: 0.3306\n",
      "Epoch 25/25\n",
      "\u001b[1m1220/1220\u001b[0m \u001b[32m━━━━━━━━━━━━━━━━━━━━\u001b[0m\u001b[37m\u001b[0m \u001b[1m4s\u001b[0m 3ms/step - loss: 0.2791\n",
      "\u001b[1m524/524\u001b[0m \u001b[32m━━━━━━━━━━━━━━━━━━━━\u001b[0m\u001b[37m\u001b[0m \u001b[1m1s\u001b[0m 2ms/step\n"
     ]
    }
   ],
   "source": [
    "# Initialize the ANN, it's a common way to build ANN in Keras\n",
    "model = Sequential()\n",
    "\n",
    "# Add input layer and first hidden layer\n",
    "model.add(Dense(units=117, activation='relu', input_dim=X_train_scaled.shape[1]))\n",
    "\n",
    "# Add second hidden layer\n",
    "model.add(Dense(units=117, activation='relu'))\n",
    "\n",
    "# Add third hidden layer\n",
    "model.add(Dense(units=56, activation='relu'))\n",
    "\n",
    "# Add fourth hidden layer\n",
    "model.add(Dense(units=20, activation='relu'))\n",
    "\n",
    "# Add output layer\n",
    "model.add(Dense(units=1, activation='linear'))\n",
    "\n",
    "# Compile the ANN\n",
    "model.compile(optimizer='adam', loss='mean_squared_error')\n",
    "\n",
    "# Train the ANN on the training set\n",
    "model.fit(X_train_scaled, y_train, batch_size=32, epochs=25, verbose=1)\n",
    "\n",
    "# Predictions on the test set\n",
    "y_pred = model.predict(X_test_scaled)"
   ]
  },
  {
   "cell_type": "code",
   "execution_count": 10,
   "id": "88bc8b0f-847f-4ab3-a29d-e3300365d970",
   "metadata": {},
   "outputs": [
    {
     "name": "stdout",
     "output_type": "stream",
     "text": [
      "Mean Square Error (MSE): 125.46000395776358\n",
      "Mean Absolute Error (MAE): 3.3290449455569835\n",
      "Root Mean Squared Error (RMSE): 11.20089299822847\n",
      "Mean Squared Logarithmic Error cannot be calculated because targets contain negative values.\n",
      "R-squared (R2): -2.385594166620127\n"
     ]
    }
   ],
   "source": [
    "# Metrics\n",
    "print(\"Mean Square Error (MSE):\", mean_squared_error(y_test, y_pred))\n",
    "print(\"Mean Absolute Error (MAE):\", mean_absolute_error(y_test, y_pred))\n",
    "print(\"Root Mean Squared Error (RMSE):\", mean_squared_error(y_test, y_pred, squared=False))\n",
    "\n",
    "# For MSLE calculation must not have negative values in y_test and y_pred\n",
    "if (y_test >= 0).all() and (y_pred >= 0).all():\n",
    "    print(\"Mean Squared Logarithmic Error (MSLE):\", mean_squared_log_error(y_test, y_pred))\n",
    "else:\n",
    "    print(\"Mean Squared Logarithmic Error cannot be calculated because targets contain negative values.\")\n",
    "print(\"R-squared (R2):\", r2_score(y_test, y_pred))"
   ]
  },
  {
   "cell_type": "code",
   "execution_count": 11,
   "id": "2ed2f1dd-486c-4e6b-97a4-c97c4d04bf43",
   "metadata": {},
   "outputs": [
    {
     "name": "stdout",
     "output_type": "stream",
     "text": [
      "\u001b[1m524/524\u001b[0m \u001b[32m━━━━━━━━━━━━━━━━━━━━\u001b[0m\u001b[37m\u001b[0m \u001b[1m1s\u001b[0m 2ms/step\n",
      "[[5.3761144]\n",
      " [5.3905907]\n",
      " [5.290603 ]\n",
      " [5.122614 ]\n",
      " [5.122614 ]\n",
      " [5.122614 ]\n",
      " [5.066771 ]\n",
      " [4.947405 ]\n",
      " [5.122614 ]\n",
      " [5.122614 ]\n",
      " [4.948884 ]\n",
      " [5.122614 ]\n",
      " [4.956036 ]\n",
      " [4.505419 ]\n",
      " [5.122614 ]]\n"
     ]
    }
   ],
   "source": [
    "# Make predictions on the testing set\n",
    "predictions = model.predict(X_test_scaled)\n",
    "\n",
    "# Print some predictions\n",
    "print(predictions[:15])"
   ]
  }
 ],
 "metadata": {
  "kernelspec": {
   "display_name": "Python 3 (ipykernel)",
   "language": "python",
   "name": "python3"
  },
  "language_info": {
   "codemirror_mode": {
    "name": "ipython",
    "version": 3
   },
   "file_extension": ".py",
   "mimetype": "text/x-python",
   "name": "python",
   "nbconvert_exporter": "python",
   "pygments_lexer": "ipython3",
   "version": "3.11.7"
  }
 },
 "nbformat": 4,
 "nbformat_minor": 5
}
