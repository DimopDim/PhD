{
 "cells": [
  {
   "cell_type": "markdown",
   "id": "f641fd82-e2b0-4d3e-8cc4-3cf78a4146ad",
   "metadata": {},
   "source": [
    "# TensorFlow Testing Field"
   ]
  },
  {
   "cell_type": "code",
   "execution_count": 1,
   "id": "65f62fda-1c77-4627-9dd4-c9174fb55964",
   "metadata": {},
   "outputs": [],
   "source": [
    "import pandas as pd\n",
    "import numpy as np\n",
    "from tqdm import tqdm #create process bar\n",
    "from sklearn.experimental import enable_iterative_imputer\n",
    "from sklearn.impute import IterativeImputer\n",
    "from sklearn.ensemble import RandomForestRegressor"
   ]
  },
  {
   "cell_type": "code",
   "execution_count": 2,
   "id": "6be3370d-286f-41af-8c29-d49aab499cf7",
   "metadata": {},
   "outputs": [],
   "source": [
    "# Load the dataset\n",
    "data = pd.read_csv(\"mimic_mean_final.csv\")"
   ]
  },
  {
   "cell_type": "code",
   "execution_count": null,
   "id": "7fd474bf-87de-46e5-a557-82fa84fa154b",
   "metadata": {},
   "outputs": [
    {
     "name": "stderr",
     "output_type": "stream",
     "text": [
      "Imputing Values:  12%|█▏        | 6820/55792 [13:31:57<95:41:26,  7.03s/it] "
     ]
    }
   ],
   "source": [
    "\"\"\"\n",
    "Keep only features with numeric values\n",
    "because I want to impute only the\n",
    "\"\"\"\n",
    "numeric_data = data.select_dtypes(include='number')\n",
    "\n",
    "# Select only the categorical columns\n",
    "categorical_data = data.select_dtypes(exclude='number')\n",
    "\n",
    "# We specify the imputer.\n",
    "imputer = IterativeImputer(estimator=RandomForestRegressor(), random_state=0)\n",
    "\n",
    "# Replace missing values with estimated values based on the iterative imputation process.\n",
    "# Wrap the iteration in tqdm to show progress bar\n",
    "imputed_data = []\n",
    "for row in tqdm(numeric_data.values, desc=\"Imputing Values\", total=len(numeric_data)):\n",
    "    imputed_row = imputer.fit_transform(row.reshape(1, -1))\n",
    "    imputed_data.append(imputed_row.ravel())\n",
    "\n",
    "# Convert the imputed data array back into a pandas DataFrame\n",
    "imputed_df = pd.DataFrame(imputed_data, columns=numeric_data.columns)\n",
    "\n",
    "# Merge categorical_data with imputed_df\n",
    "imputed_full_df = pd.concat([categorical_data.reset_index(drop=True), imputed_df.reset_index(drop=True)], axis=1)"
   ]
  },
  {
   "cell_type": "code",
   "execution_count": null,
   "id": "020b45ea-10fc-4b82-8957-94d467a41c97",
   "metadata": {},
   "outputs": [],
   "source": [
    "# Export the merged DataFrame to a CSV file\n",
    "imputed_full_df.to_csv('imputed_mimic_86_features.csv', index=False)"
   ]
  }
 ],
 "metadata": {
  "kernelspec": {
   "display_name": "Python 3 (ipykernel)",
   "language": "python",
   "name": "python3"
  },
  "language_info": {
   "codemirror_mode": {
    "name": "ipython",
    "version": 3
   },
   "file_extension": ".py",
   "mimetype": "text/x-python",
   "name": "python",
   "nbconvert_exporter": "python",
   "pygments_lexer": "ipython3",
   "version": "3.11.7"
  }
 },
 "nbformat": 4,
 "nbformat_minor": 5
}
