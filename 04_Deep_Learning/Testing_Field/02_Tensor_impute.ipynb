{
 "cells": [
  {
   "cell_type": "markdown",
   "id": "f641fd82-e2b0-4d3e-8cc4-3cf78a4146ad",
   "metadata": {},
   "source": [
    "# TensorFlow Testing Field"
   ]
  },
  {
   "cell_type": "code",
   "execution_count": 1,
   "id": "65f62fda-1c77-4627-9dd4-c9174fb55964",
   "metadata": {},
   "outputs": [],
   "source": [
    "import pandas as pd\n",
    "import numpy as np\n",
    "from tqdm import tqdm\n",
    "from sklearn.experimental import enable_iterative_imputer\n",
    "from sklearn.impute import IterativeImputer\n",
    "from sklearn.ensemble import RandomForestRegressor"
   ]
  },
  {
   "cell_type": "code",
   "execution_count": 2,
   "id": "6be3370d-286f-41af-8c29-d49aab499cf7",
   "metadata": {},
   "outputs": [],
   "source": [
    "# Load the dataset\n",
    "data = pd.read_csv(\"mimic_mean_final.csv\")"
   ]
  },
  {
   "cell_type": "code",
   "execution_count": 3,
   "id": "e2ea235b-519a-49c1-a4a8-ec5eacf9ed68",
   "metadata": {},
   "outputs": [],
   "source": [
    "data = data[['Time_Zone', 'gender', 'age', 'race', 'Lactate', 'los']]"
   ]
  },
  {
   "cell_type": "code",
   "execution_count": 8,
   "id": "d3370296-249a-4399-a6cc-79fa0a584c0b",
   "metadata": {},
   "outputs": [
    {
     "data": {
      "text/html": [
       "<div>\n",
       "<style scoped>\n",
       "    .dataframe tbody tr th:only-of-type {\n",
       "        vertical-align: middle;\n",
       "    }\n",
       "\n",
       "    .dataframe tbody tr th {\n",
       "        vertical-align: top;\n",
       "    }\n",
       "\n",
       "    .dataframe thead th {\n",
       "        text-align: right;\n",
       "    }\n",
       "</style>\n",
       "<table border=\"1\" class=\"dataframe\">\n",
       "  <thead>\n",
       "    <tr style=\"text-align: right;\">\n",
       "      <th></th>\n",
       "      <th>Time_Zone</th>\n",
       "      <th>gender</th>\n",
       "      <th>age</th>\n",
       "      <th>race</th>\n",
       "      <th>Lactate</th>\n",
       "      <th>los</th>\n",
       "    </tr>\n",
       "  </thead>\n",
       "  <tbody>\n",
       "    <tr>\n",
       "      <th>0</th>\n",
       "      <td>1</td>\n",
       "      <td>M</td>\n",
       "      <td>51</td>\n",
       "      <td>UNKNOWN</td>\n",
       "      <td>0.8</td>\n",
       "      <td>8.357373</td>\n",
       "    </tr>\n",
       "    <tr>\n",
       "      <th>16</th>\n",
       "      <td>1</td>\n",
       "      <td>M</td>\n",
       "      <td>88</td>\n",
       "      <td>WHITE</td>\n",
       "      <td>NaN</td>\n",
       "      <td>0.869225</td>\n",
       "    </tr>\n",
       "    <tr>\n",
       "      <th>32</th>\n",
       "      <td>1</td>\n",
       "      <td>F</td>\n",
       "      <td>86</td>\n",
       "      <td>WHITE</td>\n",
       "      <td>NaN</td>\n",
       "      <td>0.809688</td>\n",
       "    </tr>\n",
       "    <tr>\n",
       "      <th>48</th>\n",
       "      <td>1</td>\n",
       "      <td>M</td>\n",
       "      <td>86</td>\n",
       "      <td>PATIENT DECLINED TO ANSWER</td>\n",
       "      <td>NaN</td>\n",
       "      <td>0.798125</td>\n",
       "    </tr>\n",
       "    <tr>\n",
       "      <th>64</th>\n",
       "      <td>1</td>\n",
       "      <td>M</td>\n",
       "      <td>67</td>\n",
       "      <td>WHITE</td>\n",
       "      <td>1.2</td>\n",
       "      <td>0.611944</td>\n",
       "    </tr>\n",
       "    <tr>\n",
       "      <th>...</th>\n",
       "      <td>...</td>\n",
       "      <td>...</td>\n",
       "      <td>...</td>\n",
       "      <td>...</td>\n",
       "      <td>...</td>\n",
       "      <td>...</td>\n",
       "    </tr>\n",
       "    <tr>\n",
       "      <th>55712</th>\n",
       "      <td>1</td>\n",
       "      <td>M</td>\n",
       "      <td>50</td>\n",
       "      <td>WHITE</td>\n",
       "      <td>2.5</td>\n",
       "      <td>7.774468</td>\n",
       "    </tr>\n",
       "    <tr>\n",
       "      <th>55728</th>\n",
       "      <td>1</td>\n",
       "      <td>F</td>\n",
       "      <td>87</td>\n",
       "      <td>UNKNOWN</td>\n",
       "      <td>NaN</td>\n",
       "      <td>0.756493</td>\n",
       "    </tr>\n",
       "    <tr>\n",
       "      <th>55744</th>\n",
       "      <td>1</td>\n",
       "      <td>M</td>\n",
       "      <td>76</td>\n",
       "      <td>WHITE</td>\n",
       "      <td>2.5</td>\n",
       "      <td>2.473252</td>\n",
       "    </tr>\n",
       "    <tr>\n",
       "      <th>55760</th>\n",
       "      <td>1</td>\n",
       "      <td>M</td>\n",
       "      <td>43</td>\n",
       "      <td>WHITE</td>\n",
       "      <td>3.0</td>\n",
       "      <td>6.950370</td>\n",
       "    </tr>\n",
       "    <tr>\n",
       "      <th>55776</th>\n",
       "      <td>1</td>\n",
       "      <td>F</td>\n",
       "      <td>57</td>\n",
       "      <td>UNKNOWN</td>\n",
       "      <td>NaN</td>\n",
       "      <td>1.937847</td>\n",
       "    </tr>\n",
       "  </tbody>\n",
       "</table>\n",
       "<p>3487 rows × 6 columns</p>\n",
       "</div>"
      ],
      "text/plain": [
       "       Time_Zone gender  age                        race  Lactate       los\n",
       "0              1      M   51                     UNKNOWN      0.8  8.357373\n",
       "16             1      M   88                       WHITE      NaN  0.869225\n",
       "32             1      F   86                       WHITE      NaN  0.809688\n",
       "48             1      M   86  PATIENT DECLINED TO ANSWER      NaN  0.798125\n",
       "64             1      M   67                       WHITE      1.2  0.611944\n",
       "...          ...    ...  ...                         ...      ...       ...\n",
       "55712          1      M   50                       WHITE      2.5  7.774468\n",
       "55728          1      F   87                     UNKNOWN      NaN  0.756493\n",
       "55744          1      M   76                       WHITE      2.5  2.473252\n",
       "55760          1      M   43                       WHITE      3.0  6.950370\n",
       "55776          1      F   57                     UNKNOWN      NaN  1.937847\n",
       "\n",
       "[3487 rows x 6 columns]"
      ]
     },
     "metadata": {},
     "output_type": "display_data"
    }
   ],
   "source": [
    "display(data)"
   ]
  },
  {
   "cell_type": "code",
   "execution_count": 5,
   "id": "f65daff2-449d-449a-9dbe-fbe6d3911f65",
   "metadata": {},
   "outputs": [],
   "source": [
    "# Filtering rows where Time_Zone column equals 1\n",
    "data = data[data['Time_Zone'] == 1]"
   ]
  },
  {
   "cell_type": "code",
   "execution_count": 6,
   "id": "7fd474bf-87de-46e5-a557-82fa84fa154b",
   "metadata": {},
   "outputs": [
    {
     "name": "stderr",
     "output_type": "stream",
     "text": [
      "Imputing Values: 100%|██████████| 3487/3487 [12:52<00:00,  4.51it/s]\n"
     ]
    }
   ],
   "source": [
    "\"\"\"\n",
    "Keep only features with numeric values\n",
    "because I want to impute only the\n",
    "\"\"\"\n",
    "numeric_data = data.select_dtypes(include='number')\n",
    "\n",
    "# Select only the categorical columns\n",
    "categorical_data = data.select_dtypes(exclude='number')\n",
    "\n",
    "# We specify the imputer.\n",
    "imputer = IterativeImputer(estimator=RandomForestRegressor(), random_state=0)\n",
    "\n",
    "# Replace missing values with estimated values based on the iterative imputation process.\n",
    "# Wrap the iteration in tqdm to show progress bar\n",
    "imputed_data = []\n",
    "for row in tqdm(numeric_data.values, desc=\"Imputing Values\", total=len(numeric_data)):\n",
    "    imputed_row = imputer.fit_transform(row.reshape(1, -1))\n",
    "    imputed_data.append(imputed_row.ravel())\n",
    "\n",
    "# Convert the imputed data array back into a pandas DataFrame\n",
    "imputed_df = pd.DataFrame(imputed_data, columns=numeric_data.columns)\n",
    "\n",
    "# Merge categorical_data with imputed_df\n",
    "imputed_full_df = pd.concat([categorical_data.reset_index(drop=True), imputed_df.reset_index(drop=True)], axis=1)"
   ]
  },
  {
   "cell_type": "code",
   "execution_count": null,
   "id": "020b45ea-10fc-4b82-8957-94d467a41c97",
   "metadata": {},
   "outputs": [],
   "source": []
  },
  {
   "cell_type": "code",
   "execution_count": null,
   "id": "47318be1-efaa-4d2a-9067-cb8307314ef7",
   "metadata": {},
   "outputs": [],
   "source": [
    "# Export the merged DataFrame to a CSV file\n",
    "imputed_full_df.to_csv('imputed_mimic_86_features.csv', index=False)"
   ]
  },
  {
   "cell_type": "code",
   "execution_count": null,
   "id": "b238ac79-6871-4f4a-b8df-87a288572a02",
   "metadata": {},
   "outputs": [],
   "source": []
  },
  {
   "cell_type": "code",
   "execution_count": null,
   "id": "b73e074f-cfaa-4148-a6bb-afa49b9f9193",
   "metadata": {},
   "outputs": [],
   "source": []
  },
  {
   "cell_type": "code",
   "execution_count": null,
   "id": "423925db-1de0-4d84-8c4a-d1de74bea1e9",
   "metadata": {},
   "outputs": [],
   "source": [
    "\"\"\"\n",
    "Impute without process bar\n",
    "\"\"\"\n",
    "\n",
    "\n",
    "# Keep only features with numeric values \n",
    "numeric_data = data.select_dtypes(include='number')\n",
    "\n",
    "# Select only the categorical columns\n",
    "categorical_data = data.select_dtypes(exclude='number')\n",
    "\n",
    "#  We specify the imputer.\n",
    "imputer = IterativeImputer(estimator=RandomForestRegressor(), random_state=0)\n",
    "\n",
    "# Replace missing values with estimated values based on the iterative imputation process.\n",
    "imputed_data = imputer.fit_transform(numeric_data)\n",
    "\n",
    "# We convert the imputed data array back into a pandas DataFrame \n",
    "imputed_df = pd.DataFrame(imputed_data, columns=numeric_data.columns)\n",
    "\n",
    "# Merge categorical_data with imputed_df\n",
    "imputed_full_df = pd.concat([categorical_data.reset_index(drop=True), imputed_df.reset_index(drop=True)], axis=1)"
   ]
  },
  {
   "cell_type": "code",
   "execution_count": null,
   "id": "50d28091-f354-434b-a1f1-604dcf45debc",
   "metadata": {},
   "outputs": [],
   "source": [
    "\n"
   ]
  }
 ],
 "metadata": {
  "kernelspec": {
   "display_name": "Python 3 (ipykernel)",
   "language": "python",
   "name": "python3"
  },
  "language_info": {
   "codemirror_mode": {
    "name": "ipython",
    "version": 3
   },
   "file_extension": ".py",
   "mimetype": "text/x-python",
   "name": "python",
   "nbconvert_exporter": "python",
   "pygments_lexer": "ipython3",
   "version": "3.11.7"
  }
 },
 "nbformat": 4,
 "nbformat_minor": 5
}
