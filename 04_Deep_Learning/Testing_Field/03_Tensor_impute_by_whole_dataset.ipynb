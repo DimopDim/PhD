{
 "cells": [
  {
   "cell_type": "markdown",
   "id": "f641fd82-e2b0-4d3e-8cc4-3cf78a4146ad",
   "metadata": {},
   "source": [
    "# TensorFlow Testing Field"
   ]
  },
  {
   "cell_type": "code",
   "execution_count": null,
   "id": "65f62fda-1c77-4627-9dd4-c9174fb55964",
   "metadata": {},
   "outputs": [],
   "source": [
    "import pandas as pd\n",
    "import numpy as np\n",
    "from tqdm import tqdm #create process bar\n",
    "from sklearn.experimental import enable_iterative_imputer\n",
    "from sklearn.impute import IterativeImputer\n",
    "from sklearn.ensemble import RandomForestRegressor"
   ]
  },
  {
   "cell_type": "code",
   "execution_count": null,
   "id": "6be3370d-286f-41af-8c29-d49aab499cf7",
   "metadata": {},
   "outputs": [],
   "source": [
    "# Load the dataset\n",
    "data = pd.read_csv(\"mimic_mean_final.csv\")"
   ]
  },
  {
   "cell_type": "code",
   "execution_count": null,
   "id": "f65daff2-449d-449a-9dbe-fbe6d3911f65",
   "metadata": {},
   "outputs": [],
   "source": [
    "# Filtering rows at the specific time zone\n",
    "data = data[data['Time_Zone'] == 1]"
   ]
  },
  {
   "cell_type": "code",
   "execution_count": null,
   "id": "d3370296-249a-4399-a6cc-79fa0a584c0b",
   "metadata": {},
   "outputs": [],
   "source": [
    "display(data)"
   ]
  },
  {
   "cell_type": "code",
   "execution_count": null,
   "id": "7fd474bf-87de-46e5-a557-82fa84fa154b",
   "metadata": {
    "scrolled": true
   },
   "outputs": [],
   "source": [
    "# Separate numeric and categorical columns\n",
    "numeric_data = data.select_dtypes(include=np.number)\n",
    "categorical_data = data.select_dtypes(exclude=np.number)\n",
    "\n",
    "# Initialize the IterativeImputer\n",
    "imputer = IterativeImputer(estimator=RandomForestRegressor(), random_state=0)\n",
    "\n",
    "# Define the number of iterations for imputation\n",
    "num_iterations = 10\n",
    "\n",
    "# Calculate the total number of imputation steps\n",
    "total_steps = num_iterations * numeric_data.shape[1]\n",
    "\n",
    "# Create a progress bar for the imputation process\n",
    "pbar = tqdm(total=total_steps)\n",
    "\n",
    "# Perform imputation on the entire numeric dataset\n",
    "for _ in range(num_iterations):\n",
    "    imputer.fit(numeric_data)\n",
    "    imputed_numeric_data = imputer.transform(numeric_data)\n",
    "    pbar.update(numeric_data.shape[1])  # Update progress bar for each column imputed\n",
    "\n",
    "# Close the progress bar\n",
    "pbar.close()\n",
    "\n",
    "# Convert imputed numeric data to a DataFrame\n",
    "imputed_numeric_df = pd.DataFrame(imputed_numeric_data, columns=numeric_data.columns)\n",
    "\n",
    "# Concatenate imputed numeric data with categorical data\n",
    "imputed_data = pd.concat([categorical_data.reset_index(drop=True), imputed_numeric_df.reset_index(drop=True)], axis=1)"
   ]
  },
  {
   "cell_type": "code",
   "execution_count": null,
   "id": "2d1bf06e-4ade-4117-84ca-9b62aa4d6cff",
   "metadata": {},
   "outputs": [],
   "source": [
    "display(imputed_numeric_df)"
   ]
  },
  {
   "cell_type": "code",
   "execution_count": null,
   "id": "b900db73-57d1-40d2-b916-664943cbd71a",
   "metadata": {},
   "outputs": [],
   "source": [
    "# Export the merged DataFrame to a CSV file\n",
    "imputed_full_df.to_csv('CSV\\export\\imputed_mimic_time_zone_1.csv', index=False)"
   ]
  }
 ],
 "metadata": {
  "kernelspec": {
   "display_name": "Python 3 (ipykernel)",
   "language": "python",
   "name": "python3"
  },
  "language_info": {
   "codemirror_mode": {
    "name": "ipython",
    "version": 3
   },
   "file_extension": ".py",
   "mimetype": "text/x-python",
   "name": "python",
   "nbconvert_exporter": "python",
   "pygments_lexer": "ipython3",
   "version": "3.11.7"
  }
 },
 "nbformat": 4,
 "nbformat_minor": 5
}
