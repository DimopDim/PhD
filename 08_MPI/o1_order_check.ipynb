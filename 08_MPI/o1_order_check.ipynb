{
 "cells": [
  {
   "cell_type": "code",
   "execution_count": 1,
   "id": "bff5bdd8-fb89-46c2-a764-7669aa2fac7c",
   "metadata": {},
   "outputs": [
    {
     "data": {
      "text/plain": [
       "'\\nCheck if the order of the dataframes\\nstay same after imputation.\\n'"
      ]
     },
     "execution_count": 1,
     "metadata": {},
     "output_type": "execute_result"
    }
   ],
   "source": [
    "\"\"\"\n",
    "Check if the order of the dataframes\n",
    "stay same after imputation.\n",
    "\"\"\""
   ]
  },
  {
   "cell_type": "code",
   "execution_count": 2,
   "id": "12d575b9-0cee-488a-9327-fd829cbe5f9c",
   "metadata": {},
   "outputs": [],
   "source": [
    "import csv\n",
    "import pandas as pd\n",
    "import numpy as np"
   ]
  },
  {
   "cell_type": "code",
   "execution_count": 3,
   "id": "d4165a89-c976-483b-8b29-3bbab0e8ed35",
   "metadata": {},
   "outputs": [],
   "source": [
    "impute_df = pd.read_csv(r\"CSV/Imports/o1_X_test_rank1.csv\", low_memory=False)\n",
    "\n",
    "missing_df = pd.read_csv(r\"CSV/Imports/o1_X_test.csv\", low_memory=False)"
   ]
  },
  {
   "cell_type": "code",
   "execution_count": 4,
   "id": "00af264d-b9d8-453c-a209-ab1da62538b2",
   "metadata": {},
   "outputs": [
    {
     "name": "stdout",
     "output_type": "stream",
     "text": [
      "No missing values found in temp_impute_df.\n"
     ]
    }
   ],
   "source": [
    "# Check if there are any missing values in the whole dataframe\n",
    "if impute_df.isnull().values.any():\n",
    "    total_missing = impute_df.isnull().sum().sum()\n",
    "    print(f\"There are {total_missing} missing values in temp_impute_df.\")\n",
    "    \n",
    "    # Show counts per column (only those with missing values)\n",
    "    print(\"\\nMissing values per column:\")\n",
    "    print(impute_df.isnull().sum()[impute_df.isnull().sum() > 0])\n",
    "else:\n",
    "    print(\"No missing values found in temp_impute_df.\")"
   ]
  },
  {
   "cell_type": "code",
   "execution_count": 5,
   "id": "8cbb13fc-b08f-4ef9-bd84-0c6803360b92",
   "metadata": {},
   "outputs": [],
   "source": [
    "temp_impute_df = impute_df[['age']]\n",
    "\n",
    "temp_missing_df = missing_df[['age']]\n",
    "\n",
    "#temp_impute_df = temp_impute_df.copy()\n",
    "#temp_impute_df['age'] = temp_impute_df['age'].astype(float)"
   ]
  },
  {
   "cell_type": "code",
   "execution_count": 6,
   "id": "eed5a188-2b1d-4ff5-a9fa-30ca6fb396c6",
   "metadata": {},
   "outputs": [
    {
     "name": "stdout",
     "output_type": "stream",
     "text": [
      "All 'age' values match within the given tolerance.\n"
     ]
    }
   ],
   "source": [
    "# Compare with tolerance\n",
    "mask_diff = ~np.isclose(\n",
    "    temp_missing_df['age'],\n",
    "    temp_impute_df['age'],\n",
    "    rtol=1e-5,\n",
    "    atol=1e-8\n",
    ")\n",
    "\n",
    "# If there are differences, print them\n",
    "if mask_diff.any():\n",
    "    print(f\"{mask_diff.sum()} rows fail the np.allclose check for 'age':\\n\")\n",
    "    for idx in temp_missing_df.index[mask_diff]:\n",
    "        original_val = temp_missing_df.at[idx, 'age']\n",
    "        imputed_val = temp_impute_df.at[idx, 'age']\n",
    "        print(f\"Row {idx}: original={original_val}, imputed={imputed_val}, \"\n",
    "              f\"diff={abs(original_val - imputed_val)}\")\n",
    "else:\n",
    "    print(\"All 'age' values match within the given tolerance.\")"
   ]
  },
  {
   "cell_type": "code",
   "execution_count": 7,
   "id": "d8ad0548-913c-403f-b3cf-dacf37e919be",
   "metadata": {},
   "outputs": [
    {
     "name": "stdout",
     "output_type": "stream",
     "text": [
      "All 'age' values match exactly.\n"
     ]
    },
    {
     "data": {
      "text/html": [
       "<div>\n",
       "<style scoped>\n",
       "    .dataframe tbody tr th:only-of-type {\n",
       "        vertical-align: middle;\n",
       "    }\n",
       "\n",
       "    .dataframe tbody tr th {\n",
       "        vertical-align: top;\n",
       "    }\n",
       "\n",
       "    .dataframe thead th {\n",
       "        text-align: right;\n",
       "    }\n",
       "</style>\n",
       "<table border=\"1\" class=\"dataframe\">\n",
       "  <thead>\n",
       "    <tr style=\"text-align: right;\">\n",
       "      <th></th>\n",
       "      <th>original_age</th>\n",
       "      <th>imputed_age</th>\n",
       "    </tr>\n",
       "  </thead>\n",
       "  <tbody>\n",
       "    <tr>\n",
       "      <th>0</th>\n",
       "      <td>38</td>\n",
       "      <td>38.0</td>\n",
       "    </tr>\n",
       "    <tr>\n",
       "      <th>1</th>\n",
       "      <td>38</td>\n",
       "      <td>38.0</td>\n",
       "    </tr>\n",
       "    <tr>\n",
       "      <th>2</th>\n",
       "      <td>38</td>\n",
       "      <td>38.0</td>\n",
       "    </tr>\n",
       "    <tr>\n",
       "      <th>3</th>\n",
       "      <td>38</td>\n",
       "      <td>38.0</td>\n",
       "    </tr>\n",
       "    <tr>\n",
       "      <th>4</th>\n",
       "      <td>38</td>\n",
       "      <td>38.0</td>\n",
       "    </tr>\n",
       "    <tr>\n",
       "      <th>...</th>\n",
       "      <td>...</td>\n",
       "      <td>...</td>\n",
       "    </tr>\n",
       "    <tr>\n",
       "      <th>15307</th>\n",
       "      <td>66</td>\n",
       "      <td>66.0</td>\n",
       "    </tr>\n",
       "    <tr>\n",
       "      <th>15308</th>\n",
       "      <td>66</td>\n",
       "      <td>66.0</td>\n",
       "    </tr>\n",
       "    <tr>\n",
       "      <th>15309</th>\n",
       "      <td>66</td>\n",
       "      <td>66.0</td>\n",
       "    </tr>\n",
       "    <tr>\n",
       "      <th>15310</th>\n",
       "      <td>66</td>\n",
       "      <td>66.0</td>\n",
       "    </tr>\n",
       "    <tr>\n",
       "      <th>15311</th>\n",
       "      <td>66</td>\n",
       "      <td>66.0</td>\n",
       "    </tr>\n",
       "  </tbody>\n",
       "</table>\n",
       "<p>15312 rows × 2 columns</p>\n",
       "</div>"
      ],
      "text/plain": [
       "       original_age  imputed_age\n",
       "0                38         38.0\n",
       "1                38         38.0\n",
       "2                38         38.0\n",
       "3                38         38.0\n",
       "4                38         38.0\n",
       "...             ...          ...\n",
       "15307            66         66.0\n",
       "15308            66         66.0\n",
       "15309            66         66.0\n",
       "15310            66         66.0\n",
       "15311            66         66.0\n",
       "\n",
       "[15312 rows x 2 columns]"
      ]
     },
     "metadata": {},
     "output_type": "display_data"
    }
   ],
   "source": [
    "mask_diff = temp_missing_df['age'] != temp_impute_df['age']\n",
    "\n",
    "if mask_diff.any():\n",
    "    print(f\"{mask_diff.sum()} rows differ exactly in 'age':\\n\")\n",
    "    for idx in temp_missing_df.index[mask_diff]:\n",
    "        print(f\"Row {idx}: original={temp_missing_df.at[idx, 'age']}, \"\n",
    "              f\"imputed={temp_impute_df.at[idx, 'age']}\")\n",
    "else:\n",
    "    print(\"All 'age' values match exactly.\")\n",
    "\n",
    "comparison_df = pd.DataFrame({\n",
    "    'original_age': temp_missing_df['age'],\n",
    "    'imputed_age': temp_impute_df['age']\n",
    "})\n",
    "\n",
    "\n",
    "\n",
    "comparison_df = pd.DataFrame({\n",
    "    'original_age': temp_missing_df['age'],\n",
    "    'imputed_age': temp_impute_df['age']\n",
    "})\n",
    "display(comparison_df)"
   ]
  },
  {
   "cell_type": "code",
   "execution_count": 8,
   "id": "7d5b26d6-c7e5-4656-abd8-3dc7bb8f8477",
   "metadata": {},
   "outputs": [
    {
     "name": "stdout",
     "output_type": "stream",
     "text": [
      "Found 5 cells that were non-NaN in missing_df but changed in impute_df (with tolerance).\n"
     ]
    },
    {
     "data": {
      "text/html": [
       "<div>\n",
       "<style scoped>\n",
       "    .dataframe tbody tr th:only-of-type {\n",
       "        vertical-align: middle;\n",
       "    }\n",
       "\n",
       "    .dataframe tbody tr th {\n",
       "        vertical-align: top;\n",
       "    }\n",
       "\n",
       "    .dataframe thead th {\n",
       "        text-align: right;\n",
       "    }\n",
       "</style>\n",
       "<table border=\"1\" class=\"dataframe\">\n",
       "  <thead>\n",
       "    <tr style=\"text-align: right;\">\n",
       "      <th></th>\n",
       "      <th>row</th>\n",
       "      <th>column</th>\n",
       "      <th>original</th>\n",
       "      <th>imputed</th>\n",
       "    </tr>\n",
       "  </thead>\n",
       "  <tbody>\n",
       "    <tr>\n",
       "      <th>0</th>\n",
       "      <td>698</td>\n",
       "      <td>Pain_Level_(Mean)</td>\n",
       "      <td>4.071429</td>\n",
       "      <td>4.071429</td>\n",
       "    </tr>\n",
       "    <tr>\n",
       "      <th>1</th>\n",
       "      <td>12033</td>\n",
       "      <td>GCS_(Mean)</td>\n",
       "      <td>8.142857</td>\n",
       "      <td>8.142858</td>\n",
       "    </tr>\n",
       "    <tr>\n",
       "      <th>2</th>\n",
       "      <td>12496</td>\n",
       "      <td>Respiratory_Rate_(insp/min)_(Mean)</td>\n",
       "      <td>8.142857</td>\n",
       "      <td>8.142858</td>\n",
       "    </tr>\n",
       "    <tr>\n",
       "      <th>3</th>\n",
       "      <td>13571</td>\n",
       "      <td>Heart_Rate_(bpm)_(Mean)</td>\n",
       "      <td>68.292683</td>\n",
       "      <td>68.292690</td>\n",
       "    </tr>\n",
       "    <tr>\n",
       "      <th>4</th>\n",
       "      <td>13574</td>\n",
       "      <td>Heart_Rate_(bpm)_(Mean)</td>\n",
       "      <td>68.292683</td>\n",
       "      <td>68.292690</td>\n",
       "    </tr>\n",
       "  </tbody>\n",
       "</table>\n",
       "</div>"
      ],
      "text/plain": [
       "     row                              column   original    imputed\n",
       "0    698                   Pain_Level_(Mean)   4.071429   4.071429\n",
       "1  12033                          GCS_(Mean)   8.142857   8.142858\n",
       "2  12496  Respiratory_Rate_(insp/min)_(Mean)   8.142857   8.142858\n",
       "3  13571             Heart_Rate_(bpm)_(Mean)  68.292683  68.292690\n",
       "4  13574             Heart_Rate_(bpm)_(Mean)  68.292683  68.292690"
      ]
     },
     "metadata": {},
     "output_type": "display_data"
    }
   ],
   "source": [
    "# Align dataframes on common columns and index\n",
    "common_cols = missing_df.columns.intersection(impute_df.columns)\n",
    "missing_al = missing_df[common_cols].copy()\n",
    "impute_al  = impute_df[common_cols].copy()\n",
    "\n",
    "# Mask: only cells that are non-NaN in the original missing_df\n",
    "non_missing_mask = missing_al.notna()\n",
    "\n",
    "# Prepare an empty mask for differences\n",
    "diff_mask = pd.DataFrame(False, index=missing_al.index, columns=missing_al.columns)\n",
    "\n",
    "# Split numeric vs non-numeric columns\n",
    "num_cols = missing_al.select_dtypes(include=[np.number]).columns\n",
    "non_num_cols = [c for c in missing_al.columns if c not in num_cols]\n",
    "\n",
    "# --- Numeric columns: use tolerance ---\n",
    "for c in num_cols:\n",
    "    a = missing_al[c]\n",
    "    b = impute_al[c]\n",
    "    mask = non_missing_mask[c]\n",
    "    # np.isclose: True if close -> so we invert for \"different\"\n",
    "    diff_mask.loc[mask, c] = ~np.isclose(\n",
    "        a[mask].to_numpy(),\n",
    "        b[mask].to_numpy(),\n",
    "        rtol=1e-07, atol=1e-08, equal_nan=True\n",
    "    )\n",
    "\n",
    "# --- Non-numeric columns: exact match ---\n",
    "for c in non_num_cols:\n",
    "    a = missing_al[c]\n",
    "    b = impute_al[c]\n",
    "    mask = non_missing_mask[c]\n",
    "    diff_mask.loc[mask, c] = (a[mask] != b[mask])\n",
    "\n",
    "# Build long table of differences\n",
    "rows, cols = np.where(diff_mask.values)\n",
    "records = []\n",
    "for r, c in zip(rows, cols):\n",
    "    records.append({\n",
    "        \"row\": missing_al.index[r],\n",
    "        \"column\": missing_al.columns[c],\n",
    "        \"original\": missing_al.iat[r, c],\n",
    "        \"imputed\": impute_al.iat[r, c]\n",
    "    })\n",
    "\n",
    "diff_df = pd.DataFrame(records)\n",
    "\n",
    "print(f\"Found {len(diff_df)} cells that were non-NaN in missing_df but changed in impute_df \"\n",
    "      f\"(with tolerance).\")\n",
    "display(diff_df.head(50))"
   ]
  }
 ],
 "metadata": {
  "kernelspec": {
   "display_name": "Python 3 (ipykernel)",
   "language": "python",
   "name": "python3"
  },
  "language_info": {
   "codemirror_mode": {
    "name": "ipython",
    "version": 3
   },
   "file_extension": ".py",
   "mimetype": "text/x-python",
   "name": "python",
   "nbconvert_exporter": "python",
   "pygments_lexer": "ipython3",
   "version": "3.12.7"
  }
 },
 "nbformat": 4,
 "nbformat_minor": 5
}
