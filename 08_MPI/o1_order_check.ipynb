{
 "cells": [
  {
   "cell_type": "code",
   "execution_count": 1,
   "id": "bff5bdd8-fb89-46c2-a764-7669aa2fac7c",
   "metadata": {},
   "outputs": [
    {
     "data": {
      "text/plain": [
       "'\\nCheck if the order of the dataframes\\nstay same after imputation.\\n'"
      ]
     },
     "execution_count": 1,
     "metadata": {},
     "output_type": "execute_result"
    }
   ],
   "source": [
    "\"\"\"\n",
    "Check if the order of the dataframes\n",
    "stay same after imputation.\n",
    "\"\"\""
   ]
  },
  {
   "cell_type": "code",
   "execution_count": 2,
   "id": "12d575b9-0cee-488a-9327-fd829cbe5f9c",
   "metadata": {},
   "outputs": [],
   "source": [
    "import csv\n",
    "import pandas as pd\n",
    "import numpy as np"
   ]
  },
  {
   "cell_type": "code",
   "execution_count": 12,
   "id": "d4165a89-c976-483b-8b29-3bbab0e8ed35",
   "metadata": {},
   "outputs": [],
   "source": [
    "impute_df = pd.read_csv(r\"CSV/Imports/imputed/o4_X_validate_rank1.csv\", low_memory=False)\n",
    "\n",
    "missing_df = pd.read_csv(r\"CSV/Imports/original/o4_X_validate.csv\", low_memory=False)"
   ]
  },
  {
   "cell_type": "code",
   "execution_count": 13,
   "id": "00af264d-b9d8-453c-a209-ab1da62538b2",
   "metadata": {},
   "outputs": [
    {
     "name": "stdout",
     "output_type": "stream",
     "text": [
      "No missing values found in temp_impute_df.\n"
     ]
    }
   ],
   "source": [
    "# Check if there are any missing values in the whole dataframe\n",
    "if impute_df.isnull().values.any():\n",
    "    total_missing = impute_df.isnull().sum().sum()\n",
    "    print(f\"There are {total_missing} missing values in temp_impute_df.\")\n",
    "    \n",
    "    # Show counts per column (only those with missing values)\n",
    "    print(\"\\nMissing values per column:\")\n",
    "    print(impute_df.isnull().sum()[impute_df.isnull().sum() > 0])\n",
    "else:\n",
    "    print(\"No missing values found in temp_impute_df.\")"
   ]
  },
  {
   "cell_type": "code",
   "execution_count": 14,
   "id": "7d5b26d6-c7e5-4656-abd8-3dc7bb8f8477",
   "metadata": {},
   "outputs": [
    {
     "name": "stdout",
     "output_type": "stream",
     "text": [
      "Found 0 cells that were non-NaN in missing_df but changed in impute_df (with tolerance).\n"
     ]
    },
    {
     "data": {
      "text/html": [
       "<div>\n",
       "<style scoped>\n",
       "    .dataframe tbody tr th:only-of-type {\n",
       "        vertical-align: middle;\n",
       "    }\n",
       "\n",
       "    .dataframe tbody tr th {\n",
       "        vertical-align: top;\n",
       "    }\n",
       "\n",
       "    .dataframe thead th {\n",
       "        text-align: right;\n",
       "    }\n",
       "</style>\n",
       "<table border=\"1\" class=\"dataframe\">\n",
       "  <thead>\n",
       "    <tr style=\"text-align: right;\">\n",
       "      <th></th>\n",
       "    </tr>\n",
       "  </thead>\n",
       "  <tbody>\n",
       "  </tbody>\n",
       "</table>\n",
       "</div>"
      ],
      "text/plain": [
       "Empty DataFrame\n",
       "Columns: []\n",
       "Index: []"
      ]
     },
     "metadata": {},
     "output_type": "display_data"
    }
   ],
   "source": [
    "# Align dataframes on common columns and index\n",
    "common_cols = missing_df.columns.intersection(impute_df.columns)\n",
    "missing_al = missing_df[common_cols].copy()\n",
    "impute_al  = impute_df[common_cols].copy()\n",
    "\n",
    "# Mask: only cells that are non-NaN in the original missing_df\n",
    "non_missing_mask = missing_al.notna()\n",
    "\n",
    "# Prepare an empty mask for differences\n",
    "diff_mask = pd.DataFrame(False, index=missing_al.index, columns=missing_al.columns)\n",
    "\n",
    "# Split numeric vs non-numeric columns\n",
    "num_cols = missing_al.select_dtypes(include=[np.number]).columns\n",
    "non_num_cols = [c for c in missing_al.columns if c not in num_cols]\n",
    "\n",
    "# --- Numeric columns: use tolerance ---\n",
    "for c in num_cols:\n",
    "    a = missing_al[c]\n",
    "    b = impute_al[c]\n",
    "    mask = non_missing_mask[c]\n",
    "    # np.isclose: True if close -> so we invert for \"different\"\n",
    "    diff_mask.loc[mask, c] = ~np.isclose(\n",
    "        a[mask].to_numpy(),\n",
    "        b[mask].to_numpy(),\n",
    "        rtol=1e-07, atol=1e-07, equal_nan=True\n",
    "    )\n",
    "\n",
    "# --- Non-numeric columns: exact match ---\n",
    "for c in non_num_cols:\n",
    "    a = missing_al[c]\n",
    "    b = impute_al[c]\n",
    "    mask = non_missing_mask[c]\n",
    "    diff_mask.loc[mask, c] = (a[mask] != b[mask])\n",
    "\n",
    "# Build long table of differences\n",
    "rows, cols = np.where(diff_mask.values)\n",
    "records = []\n",
    "for r, c in zip(rows, cols):\n",
    "    records.append({\n",
    "        \"row\": missing_al.index[r],\n",
    "        \"column\": missing_al.columns[c],\n",
    "        \"original\": missing_al.iat[r, c],\n",
    "        \"imputed\": impute_al.iat[r, c]\n",
    "    })\n",
    "\n",
    "diff_df = pd.DataFrame(records)\n",
    "\n",
    "print(f\"Found {len(diff_df)} cells that were non-NaN in missing_df but changed in impute_df \"\n",
    "      f\"(with tolerance).\")\n",
    "display(diff_df.head(50))"
   ]
  },
  {
   "cell_type": "code",
   "execution_count": null,
   "id": "ac603430-71b6-459f-8374-836703bdc669",
   "metadata": {},
   "outputs": [],
   "source": []
  }
 ],
 "metadata": {
  "kernelspec": {
   "display_name": "Python 3 (ipykernel)",
   "language": "python",
   "name": "python3"
  },
  "language_info": {
   "codemirror_mode": {
    "name": "ipython",
    "version": 3
   },
   "file_extension": ".py",
   "mimetype": "text/x-python",
   "name": "python",
   "nbconvert_exporter": "python",
   "pygments_lexer": "ipython3",
   "version": "3.12.7"
  }
 },
 "nbformat": 4,
 "nbformat_minor": 5
}
