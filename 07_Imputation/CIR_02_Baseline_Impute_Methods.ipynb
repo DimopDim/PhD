{
 "cells": [
  {
   "cell_type": "markdown",
   "id": "bfdebed6-b39e-4d34-b4c3-bda11f83ab2a",
   "metadata": {
    "jp-MarkdownHeadingCollapsed": true
   },
   "source": [
    "# CIR-2 Baseline Imputation Methods"
   ]
  },
  {
   "cell_type": "code",
   "execution_count": 1,
   "id": "448fce81-0731-4ad1-8f7f-f80619f29358",
   "metadata": {},
   "outputs": [],
   "source": [
    "import pandas as pd\n",
    "import numpy as np\n",
    "import os\n",
    "import logging\n",
    "import time\n",
    "\n",
    "from tqdm import tqdm\n",
    "from sklearn.experimental import enable_iterative_imputer\n",
    "from sklearn.impute import IterativeImputer\n",
    "from sklearn.ensemble import ExtraTreesRegressor\n",
    "from sklearn.linear_model import BayesianRidge"
   ]
  },
  {
   "cell_type": "code",
   "execution_count": 2,
   "id": "c8893061-af8a-4097-9c7a-e254f73c15a4",
   "metadata": {},
   "outputs": [],
   "source": [
    "# Set up logging\n",
    "logging.basicConfig(\n",
    "    level=logging.INFO,\n",
    "    format='%(asctime)s - %(levelname)s - %(message)s',\n",
    "    handlers=[\n",
    "        logging.FileHandler(\"logs/CIR-22.log\"),\n",
    "        logging.StreamHandler()\n",
    "    ]\n",
    ")"
   ]
  },
  {
   "cell_type": "code",
   "execution_count": null,
   "id": "d6883c12-3115-4f33-a5bc-143d140e7b94",
   "metadata": {
    "scrolled": true
   },
   "outputs": [
    {
     "name": "stderr",
     "output_type": "stream",
     "text": [
      "2025-04-27 16:33:53,141 - INFO - ++++++++++++++++++++++++++++++++++++++++++\n",
      "2025-04-27 16:33:53,144 - INFO - Start Loading Dataframes.\n",
      "2025-04-27 16:33:53,146 - INFO - Loading... -> o1_X_external.csv\n",
      "2025-04-27 16:34:00,392 - INFO - Loading... -> o1_X_test.csv\n",
      "2025-04-27 16:34:00,910 - INFO - Loading... -> o1_X_train.csv\n",
      "2025-04-27 16:34:04,959 - INFO - Loading... -> o1_X_validate.csv\n",
      "2025-04-27 16:34:05,501 - INFO - Loading... -> o1_y_external_los.csv\n",
      "2025-04-27 16:34:05,549 - INFO - Loading... -> o1_y_external_mortality.csv\n",
      "2025-04-27 16:34:05,579 - INFO - Loading... -> o1_y_test_los.csv\n",
      "2025-04-27 16:34:05,588 - INFO - Loading... -> o1_y_test_mortality.csv\n",
      "2025-04-27 16:34:05,593 - INFO - Loading... -> o1_y_train_los.csv\n",
      "2025-04-27 16:34:05,631 - INFO - Loading... -> o1_y_train_mortality.csv\n",
      "2025-04-27 16:34:05,648 - INFO - Loading... -> o1_y_validate_los.csv\n",
      "2025-04-27 16:34:05,658 - INFO - Loading... -> o1_y_validate_mortality.csv\n",
      "2025-04-27 16:34:05,662 - INFO - Loading... -> o2_X_external.csv\n",
      "2025-04-27 16:34:09,227 - INFO - Loading... -> o2_X_test.csv\n",
      "2025-04-27 16:34:09,496 - INFO - Loading... -> o2_X_train.csv\n",
      "2025-04-27 16:34:11,454 - INFO - Loading... -> o2_X_validate.csv\n",
      "2025-04-27 16:34:11,728 - INFO - Loading... -> o2_y_external_los.csv\n",
      "2025-04-27 16:34:11,750 - INFO - Loading... -> o2_y_external_mortality.csv\n",
      "2025-04-27 16:34:11,767 - INFO - Loading... -> o2_y_test_los.csv\n",
      "2025-04-27 16:34:11,773 - INFO - Loading... -> o2_y_test_mortality.csv\n",
      "2025-04-27 16:34:11,777 - INFO - Loading... -> o2_y_train_los.csv\n",
      "2025-04-27 16:34:11,798 - INFO - Loading... -> o2_y_train_mortality.csv\n",
      "2025-04-27 16:34:11,808 - INFO - Loading... -> o2_y_validate_los.csv\n",
      "2025-04-27 16:34:11,814 - INFO - Loading... -> o2_y_validate_mortality.csv\n",
      "2025-04-27 16:34:11,817 - INFO - Loading... -> o3_X_external.csv\n",
      "2025-04-27 16:34:14,188 - INFO - Loading... -> o3_X_test.csv\n",
      "2025-04-27 16:34:14,387 - INFO - Loading... -> o3_X_train.csv\n"
     ]
    }
   ],
   "source": [
    "# CSVs Directory \n",
    "data_path = \"../04_ANN/CSV/exports/split_set/without_multiple_rows\"\n",
    "all_files = os.listdir(data_path)\n",
    "\n",
    "logging.info(\"++++++++++++++++++++++++++++++++++++++++++\")\n",
    "logging.info(\"Start Loading Dataframes.\")\n",
    "\n",
    "# Load CSVs into a dictionary of dataframes\n",
    "dataframes = {}\n",
    "for file in all_files:\n",
    "    if file.endswith(\".csv\"):\n",
    "        var_name = file.replace(\".csv\", \"\").replace(\"-\", \"_\")\n",
    "        logging.info(f\"Loading... -> {file}\")\n",
    "        dataframes[var_name] = pd.read_csv(os.path.join(data_path, file)).astype('float32')\n",
    "\n",
    "# Log loaded datasets\n",
    "for var_name, df in dataframes.items():\n",
    "    globals()[var_name] = df\n",
    "    logging.info(f\"{var_name} loaded successfully with shape {df.shape}\")\n",
    "logging.info(\"Load Complete.\")\n",
    "logging.info(\"++++++++++++++++++++++++++++++++++++++++++\")"
   ]
  },
  {
   "cell_type": "markdown",
   "id": "e53cf697-daa1-4e6e-b0a9-868bd8a5dad0",
   "metadata": {},
   "source": [
    "# CIR-23 Implement Iterative Imputer"
   ]
  },
  {
   "cell_type": "code",
   "execution_count": null,
   "id": "9da711f0-95b4-451c-9cf9-a64e59f55617",
   "metadata": {},
   "outputs": [],
   "source": [
    "\"\"\"\n",
    "Imputes missing values in a dataframe using\n",
    "IterativeImputer with ExtraTreesRegressor or BayesianRidge.\n",
    "    \n",
    "Parameters:\n",
    "    input_df (pd.DataFrame): Input dataframe to impute.\n",
    "    output_path (str): Path to save the imputed CSV.\n",
    "    method (str): \"ExtraTrees\" or \"BayesianRidge\".\n",
    "    n_iter (int): Number of max iterations for the imputer.\n",
    "\"\"\"\n",
    "\n",
    "def impute_with_iterative(input_df, output_path, method, n_iter):\n",
    "    # Start\n",
    "    logging.info(f\"Starting Iterative Imputer with method={method} on input DataFrame of shape {input_df.shape}.\")\n",
    "\n",
    "    # Copy input\n",
    "    data_copy = input_df.copy()\n",
    "\n",
    "    # Create output folder if needed\n",
    "    os.makedirs(os.path.dirname(output_path), exist_ok=True)\n",
    "\n",
    "    # Choose estimator\n",
    "    if method == \"ExtraTrees\":\n",
    "        estimator = ExtraTreesRegressor(\n",
    "            n_estimators=10,\n",
    "            random_state=0,\n",
    "            n_jobs=-1\n",
    "        )\n",
    "    elif method == \"BayesianRidge\":\n",
    "        estimator = BayesianRidge()\n",
    "    else:\n",
    "        raise ValueError(f\"Unsupported method: {method}. Use 'ExtraTrees' or 'BayesianRidge'.\")\n",
    "\n",
    "    # Create imputer\n",
    "    imputer = IterativeImputer(\n",
    "        estimator=estimator,\n",
    "        max_iter=n_iter,\n",
    "        random_state=0,\n",
    "        verbose=2,  # Show progress per iteration\n",
    "        sample_posterior=False\n",
    "    )\n",
    "\n",
    "    # Start timing\n",
    "    start_time = time.time()\n",
    "\n",
    "    # Fit and transform\n",
    "    imputed_array = imputer.fit_transform(data_copy)\n",
    "\n",
    "    # End timing\n",
    "    end_time = time.time()\n",
    "    runtime = end_time - start_time\n",
    "\n",
    "    # Convert back to DataFrame\n",
    "    imputed_df = pd.DataFrame(\n",
    "        imputed_array,\n",
    "        columns=data_copy.columns\n",
    "    )\n",
    "\n",
    "    # Save\n",
    "    imputed_df.to_csv(output_path, index=False)\n",
    "\n",
    "    # Logs\n",
    "    logging.info(f\"Imputation completed in {runtime:.2f} seconds.\")\n",
    "    nan_count = np.isnan(imputed_df.values).sum()\n",
    "    logging.info(f\"Number of NaNs after imputation: {nan_count}\")\n",
    "    logging.info(f\"Imputed dataset saved at {output_path}\")\n",
    "    logging.info(f\"Basic statistics after imputation:\\n{imputed_df.describe()}\")\n",
    "\n",
    "    return imputed_df"
   ]
  },
  {
   "cell_type": "code",
   "execution_count": null,
   "id": "2120c043-4159-43aa-885a-cb76ffce5d60",
   "metadata": {},
   "outputs": [],
   "source": [
    "# Create a small subset of the dataframe (for faster testing)\n",
    "small_data = o4_X_train.iloc[:500, :]  # pick first 50 features\n",
    "\n",
    "# Test imputation on small_data\n",
    "impute_with_iterative(\n",
    "    input_df=small_data,\n",
    "    output_path=\"CSV/exports/CRI-02/o1_impute_baselines/01_iterative/small_o3_X_train_imputed_Iterative_ExtraTrees.csv\",\n",
    "    method=\"ExtraTrees\",\n",
    "    n_iter=20\n",
    ")"
   ]
  },
  {
   "cell_type": "code",
   "execution_count": null,
   "id": "a2966cf1-bb7d-4655-b261-121d2d79062d",
   "metadata": {},
   "outputs": [],
   "source": [
    "# ExtraTrees estimator\n",
    "impute_with_iterative(\n",
    "    input_df=o4_X_train,\n",
    "    output_path=\"CSV/exports/CRI-02/o1_impute_baselines/01_iterative/o3_X_train_imputed_Iterative_ExtraTrees.csv\",\n",
    "    method=\"ExtraTrees\",\n",
    "    n_iter=20\n",
    ")"
   ]
  },
  {
   "cell_type": "code",
   "execution_count": null,
   "id": "d3c1554f-a143-4ac7-a8fa-a5a6a0a3b02a",
   "metadata": {},
   "outputs": [],
   "source": [
    "# BayesianRidge estimator\n",
    "impute_with_iterative(\n",
    "    input_df=o4_X_train,\n",
    "    output_path=\"CSV/exports/CRI-02/o1_impute_baselines/01_iterative/o3_X_train_imputed_Iterative_BayesianRidge.csv\",\n",
    "    method=\"BayesianRidge\",\n",
    "    n_iter=20\n",
    ")"
   ]
  }
 ],
 "metadata": {
  "kernelspec": {
   "display_name": "Python 3 (ipykernel)",
   "language": "python",
   "name": "python3"
  },
  "language_info": {
   "codemirror_mode": {
    "name": "ipython",
    "version": 3
   },
   "file_extension": ".py",
   "mimetype": "text/x-python",
   "name": "python",
   "nbconvert_exporter": "python",
   "pygments_lexer": "ipython3",
   "version": "3.12.7"
  }
 },
 "nbformat": 4,
 "nbformat_minor": 5
}
