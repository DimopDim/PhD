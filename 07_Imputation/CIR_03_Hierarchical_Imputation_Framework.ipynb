{
 "cells": [
  {
   "cell_type": "markdown",
   "id": "e4ed3e02-f081-456b-856f-a09ce46d1f96",
   "metadata": {},
   "source": [
    "# CIR-03: Hierarchical Imputation Framework"
   ]
  },
  {
   "cell_type": "code",
   "execution_count": 1,
   "id": "33e6e9d4-78c6-4011-b711-c666178fa491",
   "metadata": {},
   "outputs": [],
   "source": [
    "import pandas as pd\n",
    "import numpy as np\n",
    "import os\n",
    "import io\n",
    "import logging\n",
    "\n",
    "from tqdm import tqdm\n",
    "\n",
    "import seaborn as sns\n",
    "import matplotlib.pyplot as plt"
   ]
  },
  {
   "cell_type": "code",
   "execution_count": 2,
   "id": "09007333-6aa8-45a4-8236-9a4b891fd7b5",
   "metadata": {},
   "outputs": [],
   "source": [
    "# Initial logger setup\n",
    "logger = logging.getLogger()\n",
    "logger.setLevel(logging.INFO)\n",
    "\n",
    "# Global variable to hold the active file handler\n",
    "current_file_handler = None\n",
    "\n",
    "# Create the stream handler\n",
    "stream_handler = logging.StreamHandler()\n",
    "formatter = logging.Formatter('%(asctime)s - %(levelname)s - %(message)s')\n",
    "stream_handler.setFormatter(formatter)\n",
    "logger.addHandler(stream_handler)\n",
    "\n",
    "def switch_log_file(filename):\n",
    "    global current_file_handler\n",
    "\n",
    "    # If a file handler already exists, remove and close it\n",
    "    if current_file_handler:\n",
    "        logger.removeHandler(current_file_handler)\n",
    "        current_file_handler.close()\n",
    "\n",
    "    # Create a new file handler\n",
    "    current_file_handler = logging.FileHandler(filename)\n",
    "    current_file_handler.setFormatter(formatter)\n",
    "    logger.addHandler(current_file_handler)\n",
    "\n",
    "    logger.info(f\"Switched logging to {filename}\")"
   ]
  },
  {
   "cell_type": "code",
   "execution_count": 3,
   "id": "b5cfd680-ccfb-4b55-b717-3ab5b6cf4688",
   "metadata": {},
   "outputs": [
    {
     "name": "stderr",
     "output_type": "stream",
     "text": [
      "2025-05-03 14:16:14,819 - INFO - Switched logging to logs/CIR-2.log\n",
      "2025-05-03 14:16:14,822 - INFO - This is being logged to CIR-2.log\n"
     ]
    }
   ],
   "source": [
    "# Build log file\n",
    "switch_log_file('logs/CIR-2.log')\n",
    "logger.info(\"This is being logged to CIR-2.log\")"
   ]
  },
  {
   "cell_type": "code",
   "execution_count": null,
   "id": "9b582432-2054-46b9-8452-70037a2f0b78",
   "metadata": {
    "scrolled": true
   },
   "outputs": [
    {
     "name": "stderr",
     "output_type": "stream",
     "text": [
      "2025-05-03 14:16:14,834 - INFO - +++++++++++++++++CIR-2+++++++++++++++++++++++++\n",
      "2025-05-03 14:16:14,835 - INFO - Start Loading Dataframes.\n",
      "2025-05-03 14:16:14,837 - INFO - Loading... -> o1_X_external.csv\n"
     ]
    }
   ],
   "source": [
    "# Load datasets\n",
    "data_path = \"../04_ANN/CSV/exports/split_set/without_multiple_rows\"\n",
    "all_files = os.listdir(data_path)\n",
    "\n",
    "logging.info(\"+++++++++++++++++CIR-2+++++++++++++++++++++++++\")\n",
    "logging.info(\"Start Loading Dataframes.\")\n",
    "\n",
    "# Load CSVs into a dictionary of dataframes\n",
    "dataframes = {}\n",
    "for file in all_files:\n",
    "    if file.endswith(\".csv\"):\n",
    "        var_name = file.replace(\".csv\", \"\").replace(\"-\", \"_\")\n",
    "        logging.info(f\"Loading... -> {file}\")\n",
    "        dataframes[var_name] = pd.read_csv(os.path.join(data_path, file)).astype('float32')\n",
    "\n",
    "# Log loaded datasets\n",
    "for var_name, df in dataframes.items():\n",
    "    globals()[var_name] = df\n",
    "    logging.info(f\"{var_name} loaded successfully with shape {df.shape}\")\n",
    "logging.info(\"Load Complete.\")\n",
    "logging.info(\"++++++++++++++++++++++++++++++++++++++++++\")"
   ]
  },
  {
   "cell_type": "markdown",
   "id": "9a1d3072-f6a8-4100-adc2-5cc68a031614",
   "metadata": {},
   "source": [
    "# CIR-14: Implement Row Segmentation by Missingness"
   ]
  },
  {
   "cell_type": "code",
   "execution_count": null,
   "id": "d216f073-770a-482b-98f7-2f56fbca1e12",
   "metadata": {},
   "outputs": [],
   "source": [
    "# Build log file\n",
    "switch_log_file('logs/CIR-14.log')\n",
    "logger.info(\"This is being logged to CIR-14.log\")"
   ]
  },
  {
   "cell_type": "code",
   "execution_count": null,
   "id": "9a3dfc4a-aaa2-4c81-837c-5daad8897160",
   "metadata": {},
   "outputs": [],
   "source": [
    "\"\"\"\n",
    "Segments the dataframe rows into categories based on the percentage of missing values.\n",
    "\"\"\"\n",
    "def segment_rows_by_missingness(df: pd.DataFrame):\n",
    "    row_missing_perc = df.isnull().mean(axis=1)\n",
    "\n",
    "    segments = {\n",
    "        'very_low_missing 0% < 20%': df[(row_missing_perc <= 0.20)],\n",
    "        'low_missing 21% <= 40%': df[(row_missing_perc > 0.20) & (row_missing_perc <= 0.40)],\n",
    "        'moderate_missing 41% <= 60%': df[(row_missing_perc > 0.40) & (row_missing_perc <= 0.60)],\n",
    "        'high_missing > 60%': df[(row_missing_perc > 0.60)]\n",
    "    }\n",
    "\n",
    "    row_indices = {\n",
    "        name: segment.index.tolist() for name, segment in segments.items()\n",
    "    }\n",
    "\n",
    "    return segments, row_indices, row_missing_perc"
   ]
  },
  {
   "cell_type": "code",
   "execution_count": null,
   "id": "a2138fc7-4ae4-450e-90ef-7142d331d211",
   "metadata": {
    "scrolled": true
   },
   "outputs": [],
   "source": [
    "# Segment and log all X_ dataframes\n",
    "logging.info(\"---------------\")\n",
    "for var_name, df in dataframes.items():\n",
    "    if not var_name.startswith(\"o\") or \"_X_\" not in var_name:\n",
    "        continue  # Skip non-feature or target datasets\n",
    "\n",
    "    logging.info(f\"Segmenting rows by missingness for: {var_name}\")\n",
    "    logging.info(f\"{var_name} - Total rows: {df.shape[0]}\")\n",
    "\n",
    "    segments, row_indices, row_missing_perc = segment_rows_by_missingness(df)\n",
    "\n",
    "    for segment_name, segment_df in segments.items():\n",
    "        logging.info(f\"{var_name} - {segment_name}: {len(segment_df)} rows\")\n",
    "    logging.info(\"---------------\")"
   ]
  },
  {
   "cell_type": "code",
   "execution_count": null,
   "id": "528c545a-d22c-4b99-ad2e-0eb4c8be5beb",
   "metadata": {},
   "outputs": [],
   "source": [
    "# Ensure output directory exists\n",
    "base_plot_path = \"figures/CIR-14\"\n",
    "os.makedirs(base_plot_path, exist_ok=True)\n",
    "\n",
    "# Seaborn aesthetic settings\n",
    "sns.set(style=\"whitegrid\", context=\"talk\", palette=\"deep\")\n",
    "\n",
    "for var_name, df in dataframes.items():\n",
    "    if not var_name.startswith(\"o\") or \"_X_\" not in var_name:\n",
    "        continue  # Skip targets\n",
    "\n",
    "    logging.info(f\"Processing missing distribution plot for {var_name}\")\n",
    "\n",
    "    # Calculate row-wise missingness\n",
    "    row_missing_perc = df.isnull().mean(axis=1)\n",
    "    segments, _, _ = segment_rows_by_missingness(df)\n",
    "\n",
    "    # Prepare summary box content\n",
    "    summary_text = (\n",
    "        f\"Total rows: {len(df):,}\\n\"\n",
    "        f\"Very low (≤20%): {len(segments['very_low_missing 0% < 20%']):,}\\n\"\n",
    "        f\"Low (21–40%): {len(segments['low_missing 21% <= 40%']):,}\\n\"\n",
    "        f\"Moderate (41–60%): {len(segments['moderate_missing 41% <= 60%']):,}\\n\"\n",
    "        f\"High (>60%): {len(segments['high_missing > 60%']):,}\"\n",
    "    )\n",
    "\n",
    "    # Create the figure\n",
    "    fig, ax = plt.subplots(figsize=(12, 7))\n",
    "    sns.histplot(row_missing_perc, bins=20, kde=True, color='#2c7fb8', edgecolor='black', ax=ax)\n",
    "\n",
    "    # Customize titles and labels\n",
    "    ax.set_title(f\"Row-wise Missing Value Distribution\\n{var_name}\", fontsize=18, fontweight='bold')\n",
    "    ax.set_xlabel(\"Proportion of Missing Values\", fontsize=15)\n",
    "    ax.set_ylabel(\"Number of Rows\", fontsize=15)\n",
    "\n",
    "    # Add summary box to top-right\n",
    "    ax.text(\n",
    "        0.99, 0.95, summary_text,\n",
    "        transform=ax.transAxes,\n",
    "        fontsize=12,\n",
    "        verticalalignment='top',\n",
    "        horizontalalignment='right',\n",
    "        bbox=dict(boxstyle=\"round,pad=0.4\", facecolor='whitesmoke', alpha=0.85, edgecolor='gray')\n",
    "    )\n",
    "\n",
    "    # Add grid with transparency\n",
    "    ax.grid(True, linestyle='--', linewidth=0.5, alpha=0.6)\n",
    "    ax.tick_params(axis='both', labelsize=12)\n",
    "\n",
    "    # Optional: Add watermark tag\n",
    "    ax.text(0.01, 0.01, \"CIR-14\", transform=ax.transAxes,\n",
    "            fontsize=10, color='gray', alpha=0.7, ha='left', va='bottom')\n",
    "\n",
    "    # Save the figure\n",
    "    plt.tight_layout()\n",
    "    plot_filename = os.path.join(base_plot_path, f\"{var_name}_missing_distribution.png\")\n",
    "    fig.savefig(plot_filename, dpi=300)\n",
    "    plt.close(fig)\n",
    "\n",
    "    logging.info(f\"Saved professional missingness plot to {plot_filename}\")"
   ]
  }
 ],
 "metadata": {
  "kernelspec": {
   "display_name": "Python 3 (ipykernel)",
   "language": "python",
   "name": "python3"
  },
  "language_info": {
   "codemirror_mode": {
    "name": "ipython",
    "version": 3
   },
   "file_extension": ".py",
   "mimetype": "text/x-python",
   "name": "python",
   "nbconvert_exporter": "python",
   "pygments_lexer": "ipython3",
   "version": "3.12.7"
  }
 },
 "nbformat": 4,
 "nbformat_minor": 5
}
